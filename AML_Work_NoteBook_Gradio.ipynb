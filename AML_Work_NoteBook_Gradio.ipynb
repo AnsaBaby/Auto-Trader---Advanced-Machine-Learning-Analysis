{
  "cells": [
    {
      "cell_type": "markdown",
      "id": "f3771663",
      "metadata": {
        "id": "f3771663"
      },
      "source": [
        "## Introduction\n",
        "\n",
        "Using the Car Sale Adverts dataset provided by AutoTrader, this research tries to develop a regression model that can predict the selling price of cars based on numerous parameters. Data preparation, feature engineering, feature selection, dimensionality reduction, model selection, tuning, fitting, assembly, assessment, and analysis are all part of the project. The study intends to find underlying relationships and variations in the data that may affect car pricing by exploring data patterns and conducting association and group differences analysis. This project's findings will have practical ramifications in the automotive industry, and it will provide an opportunity to use transferable skills and traits applicable in both industry and research settings.\n",
        "\n",
        "### Aims & Goals\n",
        "\n",
        "\tTo investigate a dataset of Car Sale Adverts provided by AutoTrader.\n",
        "\n",
        "\tIdentifying relevant relationships and developing a regression model capable of predicting car selling prices based on numerous parameters.\n",
        "\n",
        "\tTo obtain and analyse data on various aspects that may influence car costs using various data science approaches.\n",
        "\n",
        "\tTo identify underlying relationships and changes in data that may influence car prices.\n",
        "\n",
        "\tTo develop a better knowledge of the problem at hand and to learn to evaluate the strengths and limits of various models.\n",
        "\n",
        "\tConsolidate knowledge from the Advanced Machine Learning unit by developing a working solution to a real-world, industry-based machine learning challenge.\n",
        "\n",
        "\tTo have a tangible impact in the automobile sector by allowing stakeholders to make well-informed purchasing decisions.\n",
        "\n",
        "### Hypotheses\n",
        "\n",
        "1. Luxury brands and models command greater prices than economy brands and models, which are strong predictors of car pricing.\n",
        "\n",
        "\n",
        "2. Mileage and automobile age are negatively connected with selling price, which means that when these parameters grow, so does the price.\n",
        "\n",
        "\n",
        "3. Cars with unusual or unusual colours (for example, vivid pink or neon green) may have a higher or lower selling price than more typical colours such as black or white.\n",
        "\n",
        "\n",
        "4. The type of vehicle (e.g., sedan, SUV, truck) has a considerable influence on selling price, with certain types of vehicles being more expensive on average.\n"
      ]
    },
    {
      "cell_type": "markdown",
      "id": "5d2c44af",
      "metadata": {
        "id": "5d2c44af"
      },
      "source": [
        "## 1. Data Processing for Machine Learning"
      ]
    },
    {
      "cell_type": "markdown",
      "id": "9c56caf7",
      "metadata": {
        "id": "9c56caf7"
      },
      "source": [
        "### 1.1 Import the Dataset and Preview"
      ]
    },
    {
      "cell_type": "code",
      "execution_count": null,
      "id": "24ca5ae7",
      "metadata": {
        "colab": {
          "base_uri": "https://localhost:8080/"
        },
        "id": "24ca5ae7",
        "outputId": "049548c5-6d7c-46c6-9e6c-49b9418025fa"
      },
      "outputs": [
        {
          "output_type": "stream",
          "name": "stdout",
          "text": [
            "Looking in indexes: https://pypi.org/simple, https://us-python.pkg.dev/colab-wheels/public/simple/\n",
            "Requirement already satisfied: scikit-learn in /usr/local/lib/python3.10/dist-packages (1.2.2)\n",
            "Requirement already satisfied: numpy>=1.17.3 in /usr/local/lib/python3.10/dist-packages (from scikit-learn) (1.22.4)\n",
            "Requirement already satisfied: scipy>=1.3.2 in /usr/local/lib/python3.10/dist-packages (from scikit-learn) (1.10.1)\n",
            "Requirement already satisfied: joblib>=1.1.1 in /usr/local/lib/python3.10/dist-packages (from scikit-learn) (1.2.0)\n",
            "Requirement already satisfied: threadpoolctl>=2.0.0 in /usr/local/lib/python3.10/dist-packages (from scikit-learn) (3.1.0)\n"
          ]
        }
      ],
      "source": [
        "!pip install --upgrade scikit-learn"
      ]
    },
    {
      "cell_type": "code",
      "execution_count": null,
      "id": "24179977",
      "metadata": {
        "colab": {
          "base_uri": "https://localhost:8080/"
        },
        "id": "24179977",
        "outputId": "8213879e-94dc-4c59-920f-8542b42569ce"
      },
      "outputs": [
        {
          "output_type": "stream",
          "name": "stdout",
          "text": [
            "Looking in indexes: https://pypi.org/simple, https://us-python.pkg.dev/colab-wheels/public/simple/\n",
            "Requirement already satisfied: scikit-learn==1.2.2 in /usr/local/lib/python3.10/dist-packages (1.2.2)\n",
            "Requirement already satisfied: numpy>=1.17.3 in /usr/local/lib/python3.10/dist-packages (from scikit-learn==1.2.2) (1.22.4)\n",
            "Requirement already satisfied: scipy>=1.3.2 in /usr/local/lib/python3.10/dist-packages (from scikit-learn==1.2.2) (1.10.1)\n",
            "Requirement already satisfied: joblib>=1.1.1 in /usr/local/lib/python3.10/dist-packages (from scikit-learn==1.2.2) (1.2.0)\n",
            "Requirement already satisfied: threadpoolctl>=2.0.0 in /usr/local/lib/python3.10/dist-packages (from scikit-learn==1.2.2) (3.1.0)\n"
          ]
        }
      ],
      "source": [
        "!pip install --upgrade scikit-learn==1.2.2 --user"
      ]
    },
    {
      "cell_type": "code",
      "execution_count": null,
      "id": "2bb61c44",
      "metadata": {
        "colab": {
          "base_uri": "https://localhost:8080/"
        },
        "id": "2bb61c44",
        "outputId": "6f1bf35a-e3dd-4465-d556-704a11453799"
      },
      "outputs": [
        {
          "output_type": "stream",
          "name": "stdout",
          "text": [
            "Looking in indexes: https://pypi.org/simple, https://us-python.pkg.dev/colab-wheels/public/simple/\n",
            "Collecting category_encoders\n",
            "  Downloading category_encoders-2.6.1-py2.py3-none-any.whl (81 kB)\n",
            "\u001b[2K     \u001b[90m━━━━━━━━━━━━━━━━━━━━━━━━━━━━━━━━━━━━━━━━\u001b[0m \u001b[32m81.9/81.9 kB\u001b[0m \u001b[31m3.2 MB/s\u001b[0m eta \u001b[36m0:00:00\u001b[0m\n",
            "\u001b[?25hRequirement already satisfied: numpy>=1.14.0 in /usr/local/lib/python3.10/dist-packages (from category_encoders) (1.22.4)\n",
            "Requirement already satisfied: scikit-learn>=0.20.0 in /usr/local/lib/python3.10/dist-packages (from category_encoders) (1.2.2)\n",
            "Requirement already satisfied: scipy>=1.0.0 in /usr/local/lib/python3.10/dist-packages (from category_encoders) (1.10.1)\n",
            "Requirement already satisfied: statsmodels>=0.9.0 in /usr/local/lib/python3.10/dist-packages (from category_encoders) (0.13.5)\n",
            "Requirement already satisfied: pandas>=1.0.5 in /usr/local/lib/python3.10/dist-packages (from category_encoders) (1.5.3)\n",
            "Requirement already satisfied: patsy>=0.5.1 in /usr/local/lib/python3.10/dist-packages (from category_encoders) (0.5.3)\n",
            "Requirement already satisfied: python-dateutil>=2.8.1 in /usr/local/lib/python3.10/dist-packages (from pandas>=1.0.5->category_encoders) (2.8.2)\n",
            "Requirement already satisfied: pytz>=2020.1 in /usr/local/lib/python3.10/dist-packages (from pandas>=1.0.5->category_encoders) (2022.7.1)\n",
            "Requirement already satisfied: six in /usr/local/lib/python3.10/dist-packages (from patsy>=0.5.1->category_encoders) (1.16.0)\n",
            "Requirement already satisfied: joblib>=1.1.1 in /usr/local/lib/python3.10/dist-packages (from scikit-learn>=0.20.0->category_encoders) (1.2.0)\n",
            "Requirement already satisfied: threadpoolctl>=2.0.0 in /usr/local/lib/python3.10/dist-packages (from scikit-learn>=0.20.0->category_encoders) (3.1.0)\n",
            "Requirement already satisfied: packaging>=21.3 in /usr/local/lib/python3.10/dist-packages (from statsmodels>=0.9.0->category_encoders) (23.1)\n",
            "Installing collected packages: category_encoders\n",
            "Successfully installed category_encoders-2.6.1\n"
          ]
        }
      ],
      "source": [
        "!pip install category_encoders"
      ]
    },
    {
      "cell_type": "code",
      "execution_count": null,
      "id": "a84860fd",
      "metadata": {
        "colab": {
          "base_uri": "https://localhost:8080/"
        },
        "id": "a84860fd",
        "outputId": "45bb4168-3bbd-4344-a3dc-c3e85c6b8e82"
      },
      "outputs": [
        {
          "output_type": "stream",
          "name": "stdout",
          "text": [
            "Looking in indexes: https://pypi.org/simple, https://us-python.pkg.dev/colab-wheels/public/simple/\n",
            "Requirement already satisfied: xgboost in /usr/local/lib/python3.10/dist-packages (1.7.5)\n",
            "Requirement already satisfied: numpy in /usr/local/lib/python3.10/dist-packages (from xgboost) (1.22.4)\n",
            "Requirement already satisfied: scipy in /usr/local/lib/python3.10/dist-packages (from xgboost) (1.10.1)\n"
          ]
        }
      ],
      "source": [
        "!pip install xgboost"
      ]
    },
    {
      "cell_type": "code",
      "execution_count": null,
      "id": "c3f529bc",
      "metadata": {
        "colab": {
          "base_uri": "https://localhost:8080/"
        },
        "id": "c3f529bc",
        "outputId": "00329ba8-7f79-4d30-d82d-c1e5f2fd829f"
      },
      "outputs": [
        {
          "output_type": "stream",
          "name": "stdout",
          "text": [
            "Looking in indexes: https://pypi.org/simple, https://us-python.pkg.dev/colab-wheels/public/simple/\n",
            "Requirement already satisfied: seaborn in /usr/local/lib/python3.10/dist-packages (0.12.2)\n",
            "Requirement already satisfied: numpy!=1.24.0,>=1.17 in /usr/local/lib/python3.10/dist-packages (from seaborn) (1.22.4)\n",
            "Requirement already satisfied: pandas>=0.25 in /usr/local/lib/python3.10/dist-packages (from seaborn) (1.5.3)\n",
            "Requirement already satisfied: matplotlib!=3.6.1,>=3.1 in /usr/local/lib/python3.10/dist-packages (from seaborn) (3.7.1)\n",
            "Requirement already satisfied: contourpy>=1.0.1 in /usr/local/lib/python3.10/dist-packages (from matplotlib!=3.6.1,>=3.1->seaborn) (1.0.7)\n",
            "Requirement already satisfied: cycler>=0.10 in /usr/local/lib/python3.10/dist-packages (from matplotlib!=3.6.1,>=3.1->seaborn) (0.11.0)\n",
            "Requirement already satisfied: fonttools>=4.22.0 in /usr/local/lib/python3.10/dist-packages (from matplotlib!=3.6.1,>=3.1->seaborn) (4.39.3)\n",
            "Requirement already satisfied: kiwisolver>=1.0.1 in /usr/local/lib/python3.10/dist-packages (from matplotlib!=3.6.1,>=3.1->seaborn) (1.4.4)\n",
            "Requirement already satisfied: packaging>=20.0 in /usr/local/lib/python3.10/dist-packages (from matplotlib!=3.6.1,>=3.1->seaborn) (23.1)\n",
            "Requirement already satisfied: pillow>=6.2.0 in /usr/local/lib/python3.10/dist-packages (from matplotlib!=3.6.1,>=3.1->seaborn) (8.4.0)\n",
            "Requirement already satisfied: pyparsing>=2.3.1 in /usr/local/lib/python3.10/dist-packages (from matplotlib!=3.6.1,>=3.1->seaborn) (3.0.9)\n",
            "Requirement already satisfied: python-dateutil>=2.7 in /usr/local/lib/python3.10/dist-packages (from matplotlib!=3.6.1,>=3.1->seaborn) (2.8.2)\n",
            "Requirement already satisfied: pytz>=2020.1 in /usr/local/lib/python3.10/dist-packages (from pandas>=0.25->seaborn) (2022.7.1)\n",
            "Requirement already satisfied: six>=1.5 in /usr/local/lib/python3.10/dist-packages (from python-dateutil>=2.7->matplotlib!=3.6.1,>=3.1->seaborn) (1.16.0)\n"
          ]
        }
      ],
      "source": [
        "!pip install seaborn"
      ]
    },
    {
      "cell_type": "code",
      "source": [
        "!pip install gradio"
      ],
      "metadata": {
        "colab": {
          "base_uri": "https://localhost:8080/"
        },
        "id": "DdCA48QzeE8S",
        "outputId": "9fe0462f-571a-44ff-a598-f487bd67b4fd"
      },
      "id": "DdCA48QzeE8S",
      "execution_count": null,
      "outputs": [
        {
          "output_type": "stream",
          "name": "stdout",
          "text": [
            "Looking in indexes: https://pypi.org/simple, https://us-python.pkg.dev/colab-wheels/public/simple/\n",
            "Collecting gradio\n",
            "  Downloading gradio-3.34.0-py3-none-any.whl (20.0 MB)\n",
            "\u001b[2K     \u001b[90m━━━━━━━━━━━━━━━━━━━━━━━━━━━━━━━━━━━━━━━━\u001b[0m \u001b[32m20.0/20.0 MB\u001b[0m \u001b[31m29.5 MB/s\u001b[0m eta \u001b[36m0:00:00\u001b[0m\n",
            "\u001b[?25hCollecting aiofiles (from gradio)\n",
            "  Downloading aiofiles-23.1.0-py3-none-any.whl (14 kB)\n",
            "Collecting aiohttp (from gradio)\n",
            "  Downloading aiohttp-3.8.4-cp310-cp310-manylinux_2_17_x86_64.manylinux2014_x86_64.whl (1.0 MB)\n",
            "\u001b[2K     \u001b[90m━━━━━━━━━━━━━━━━━━━━━━━━━━━━━━━━━━━━━━━━\u001b[0m \u001b[32m1.0/1.0 MB\u001b[0m \u001b[31m40.2 MB/s\u001b[0m eta \u001b[36m0:00:00\u001b[0m\n",
            "\u001b[?25hRequirement already satisfied: altair>=4.2.0 in /usr/local/lib/python3.10/dist-packages (from gradio) (4.2.2)\n",
            "Collecting fastapi (from gradio)\n",
            "  Downloading fastapi-0.97.0-py3-none-any.whl (56 kB)\n",
            "\u001b[2K     \u001b[90m━━━━━━━━━━━━━━━━━━━━━━━━━━━━━━━━━━━━━━━━\u001b[0m \u001b[32m57.0/57.0 kB\u001b[0m \u001b[31m3.1 MB/s\u001b[0m eta \u001b[36m0:00:00\u001b[0m\n",
            "\u001b[?25hCollecting ffmpy (from gradio)\n",
            "  Downloading ffmpy-0.3.0.tar.gz (4.8 kB)\n",
            "  Preparing metadata (setup.py) ... \u001b[?25l\u001b[?25hdone\n",
            "Collecting gradio-client>=0.2.6 (from gradio)\n",
            "  Downloading gradio_client-0.2.6-py3-none-any.whl (288 kB)\n",
            "\u001b[2K     \u001b[90m━━━━━━━━━━━━━━━━━━━━━━━━━━━━━━━━━━━━━━\u001b[0m \u001b[32m288.3/288.3 kB\u001b[0m \u001b[31m20.4 MB/s\u001b[0m eta \u001b[36m0:00:00\u001b[0m\n",
            "\u001b[?25hCollecting httpx (from gradio)\n",
            "  Downloading httpx-0.24.1-py3-none-any.whl (75 kB)\n",
            "\u001b[2K     \u001b[90m━━━━━━━━━━━━━━━━━━━━━━━━━━━━━━━━━━━━━━━━\u001b[0m \u001b[32m75.4/75.4 kB\u001b[0m \u001b[31m7.7 MB/s\u001b[0m eta \u001b[36m0:00:00\u001b[0m\n",
            "\u001b[?25hCollecting huggingface-hub>=0.14.0 (from gradio)\n",
            "  Downloading huggingface_hub-0.15.1-py3-none-any.whl (236 kB)\n",
            "\u001b[2K     \u001b[90m━━━━━━━━━━━━━━━━━━━━━━━━━━━━━━━━━━━━━━\u001b[0m \u001b[32m236.8/236.8 kB\u001b[0m \u001b[31m22.1 MB/s\u001b[0m eta \u001b[36m0:00:00\u001b[0m\n",
            "\u001b[?25hRequirement already satisfied: jinja2 in /usr/local/lib/python3.10/dist-packages (from gradio) (3.1.2)\n",
            "Requirement already satisfied: markdown-it-py[linkify]>=2.0.0 in /usr/local/lib/python3.10/dist-packages (from gradio) (2.2.0)\n",
            "Requirement already satisfied: markupsafe in /usr/local/lib/python3.10/dist-packages (from gradio) (2.1.2)\n",
            "Requirement already satisfied: matplotlib in /usr/local/lib/python3.10/dist-packages (from gradio) (3.7.1)\n",
            "Collecting mdit-py-plugins<=0.3.3 (from gradio)\n",
            "  Downloading mdit_py_plugins-0.3.3-py3-none-any.whl (50 kB)\n",
            "\u001b[2K     \u001b[90m━━━━━━━━━━━━━━━━━━━━━━━━━━━━━━━━━━━━━━━━\u001b[0m \u001b[32m50.5/50.5 kB\u001b[0m \u001b[31m5.1 MB/s\u001b[0m eta \u001b[36m0:00:00\u001b[0m\n",
            "\u001b[?25hRequirement already satisfied: numpy in /usr/local/lib/python3.10/dist-packages (from gradio) (1.22.4)\n",
            "Collecting orjson (from gradio)\n",
            "  Downloading orjson-3.9.1-cp310-cp310-manylinux_2_17_x86_64.manylinux2014_x86_64.whl (136 kB)\n",
            "\u001b[2K     \u001b[90m━━━━━━━━━━━━━━━━━━━━━━━━━━━━━━━━━━━━━━\u001b[0m \u001b[32m137.0/137.0 kB\u001b[0m \u001b[31m13.1 MB/s\u001b[0m eta \u001b[36m0:00:00\u001b[0m\n",
            "\u001b[?25hRequirement already satisfied: pandas in /usr/local/lib/python3.10/dist-packages (from gradio) (1.5.3)\n",
            "Requirement already satisfied: pillow in /usr/local/lib/python3.10/dist-packages (from gradio) (8.4.0)\n",
            "Requirement already satisfied: pydantic in /usr/local/lib/python3.10/dist-packages (from gradio) (1.10.7)\n",
            "Collecting pydub (from gradio)\n",
            "  Downloading pydub-0.25.1-py2.py3-none-any.whl (32 kB)\n",
            "Requirement already satisfied: pygments>=2.12.0 in /usr/local/lib/python3.10/dist-packages (from gradio) (2.14.0)\n",
            "Collecting python-multipart (from gradio)\n",
            "  Downloading python_multipart-0.0.6-py3-none-any.whl (45 kB)\n",
            "\u001b[2K     \u001b[90m━━━━━━━━━━━━━━━━━━━━━━━━━━━━━━━━━━━━━━━━\u001b[0m \u001b[32m45.7/45.7 kB\u001b[0m \u001b[31m4.4 MB/s\u001b[0m eta \u001b[36m0:00:00\u001b[0m\n",
            "\u001b[?25hRequirement already satisfied: pyyaml in /usr/local/lib/python3.10/dist-packages (from gradio) (6.0)\n",
            "Requirement already satisfied: requests in /usr/local/lib/python3.10/dist-packages (from gradio) (2.27.1)\n",
            "Collecting semantic-version (from gradio)\n",
            "  Downloading semantic_version-2.10.0-py2.py3-none-any.whl (15 kB)\n",
            "Requirement already satisfied: typing-extensions in /usr/local/lib/python3.10/dist-packages (from gradio) (4.5.0)\n",
            "Collecting uvicorn>=0.14.0 (from gradio)\n",
            "  Downloading uvicorn-0.22.0-py3-none-any.whl (58 kB)\n",
            "\u001b[2K     \u001b[90m━━━━━━━━━━━━━━━━━━━━━━━━━━━━━━━━━━━━━━━━\u001b[0m \u001b[32m58.3/58.3 kB\u001b[0m \u001b[31m4.8 MB/s\u001b[0m eta \u001b[36m0:00:00\u001b[0m\n",
            "\u001b[?25hCollecting websockets>=10.0 (from gradio)\n",
            "  Downloading websockets-11.0.3-cp310-cp310-manylinux_2_5_x86_64.manylinux1_x86_64.manylinux_2_17_x86_64.manylinux2014_x86_64.whl (129 kB)\n",
            "\u001b[2K     \u001b[90m━━━━━━━━━━━━━━━━━━━━━━━━━━━━━━━━━━━━━━\u001b[0m \u001b[32m129.9/129.9 kB\u001b[0m \u001b[31m13.2 MB/s\u001b[0m eta \u001b[36m0:00:00\u001b[0m\n",
            "\u001b[?25hRequirement already satisfied: entrypoints in /usr/local/lib/python3.10/dist-packages (from altair>=4.2.0->gradio) (0.4)\n",
            "Requirement already satisfied: jsonschema>=3.0 in /usr/local/lib/python3.10/dist-packages (from altair>=4.2.0->gradio) (4.3.3)\n",
            "Requirement already satisfied: toolz in /usr/local/lib/python3.10/dist-packages (from altair>=4.2.0->gradio) (0.12.0)\n",
            "Requirement already satisfied: fsspec in /usr/local/lib/python3.10/dist-packages (from gradio-client>=0.2.6->gradio) (2023.4.0)\n",
            "Requirement already satisfied: packaging in /usr/local/lib/python3.10/dist-packages (from gradio-client>=0.2.6->gradio) (23.1)\n",
            "Requirement already satisfied: filelock in /usr/local/lib/python3.10/dist-packages (from huggingface-hub>=0.14.0->gradio) (3.12.0)\n",
            "Requirement already satisfied: tqdm>=4.42.1 in /usr/local/lib/python3.10/dist-packages (from huggingface-hub>=0.14.0->gradio) (4.65.0)\n",
            "Requirement already satisfied: mdurl~=0.1 in /usr/local/lib/python3.10/dist-packages (from markdown-it-py[linkify]>=2.0.0->gradio) (0.1.2)\n",
            "Collecting linkify-it-py<3,>=1 (from markdown-it-py[linkify]>=2.0.0->gradio)\n",
            "  Downloading linkify_it_py-2.0.2-py3-none-any.whl (19 kB)\n",
            "Requirement already satisfied: python-dateutil>=2.8.1 in /usr/local/lib/python3.10/dist-packages (from pandas->gradio) (2.8.2)\n",
            "Requirement already satisfied: pytz>=2020.1 in /usr/local/lib/python3.10/dist-packages (from pandas->gradio) (2022.7.1)\n",
            "Requirement already satisfied: click>=7.0 in /usr/local/lib/python3.10/dist-packages (from uvicorn>=0.14.0->gradio) (8.1.3)\n",
            "Collecting h11>=0.8 (from uvicorn>=0.14.0->gradio)\n",
            "  Downloading h11-0.14.0-py3-none-any.whl (58 kB)\n",
            "\u001b[2K     \u001b[90m━━━━━━━━━━━━━━━━━━━━━━━━━━━━━━━━━━━━━━━━\u001b[0m \u001b[32m58.3/58.3 kB\u001b[0m \u001b[31m5.5 MB/s\u001b[0m eta \u001b[36m0:00:00\u001b[0m\n",
            "\u001b[?25hRequirement already satisfied: attrs>=17.3.0 in /usr/local/lib/python3.10/dist-packages (from aiohttp->gradio) (23.1.0)\n",
            "Requirement already satisfied: charset-normalizer<4.0,>=2.0 in /usr/local/lib/python3.10/dist-packages (from aiohttp->gradio) (2.0.12)\n",
            "Collecting multidict<7.0,>=4.5 (from aiohttp->gradio)\n",
            "  Downloading multidict-6.0.4-cp310-cp310-manylinux_2_17_x86_64.manylinux2014_x86_64.whl (114 kB)\n",
            "\u001b[2K     \u001b[90m━━━━━━━━━━━━━━━━━━━━━━━━━━━━━━━━━━━━━━\u001b[0m \u001b[32m114.5/114.5 kB\u001b[0m \u001b[31m10.1 MB/s\u001b[0m eta \u001b[36m0:00:00\u001b[0m\n",
            "\u001b[?25hCollecting async-timeout<5.0,>=4.0.0a3 (from aiohttp->gradio)\n",
            "  Downloading async_timeout-4.0.2-py3-none-any.whl (5.8 kB)\n",
            "Collecting yarl<2.0,>=1.0 (from aiohttp->gradio)\n",
            "  Downloading yarl-1.9.2-cp310-cp310-manylinux_2_17_x86_64.manylinux2014_x86_64.whl (268 kB)\n",
            "\u001b[2K     \u001b[90m━━━━━━━━━━━━━━━━━━━━━━━━━━━━━━━━━━━━━━\u001b[0m \u001b[32m268.8/268.8 kB\u001b[0m \u001b[31m18.7 MB/s\u001b[0m eta \u001b[36m0:00:00\u001b[0m\n",
            "\u001b[?25hCollecting frozenlist>=1.1.1 (from aiohttp->gradio)\n",
            "  Downloading frozenlist-1.3.3-cp310-cp310-manylinux_2_5_x86_64.manylinux1_x86_64.manylinux_2_17_x86_64.manylinux2014_x86_64.whl (149 kB)\n",
            "\u001b[2K     \u001b[90m━━━━━━━━━━━━━━━━━━━━━━━━━━━━━━━━━━━━━━\u001b[0m \u001b[32m149.6/149.6 kB\u001b[0m \u001b[31m15.1 MB/s\u001b[0m eta \u001b[36m0:00:00\u001b[0m\n",
            "\u001b[?25hCollecting aiosignal>=1.1.2 (from aiohttp->gradio)\n",
            "  Downloading aiosignal-1.3.1-py3-none-any.whl (7.6 kB)\n",
            "Collecting starlette<0.28.0,>=0.27.0 (from fastapi->gradio)\n",
            "  Downloading starlette-0.27.0-py3-none-any.whl (66 kB)\n",
            "\u001b[2K     \u001b[90m━━━━━━━━━━━━━━━━━━━━━━━━━━━━━━━━━━━━━━━━\u001b[0m \u001b[32m67.0/67.0 kB\u001b[0m \u001b[31m6.2 MB/s\u001b[0m eta \u001b[36m0:00:00\u001b[0m\n",
            "\u001b[?25hRequirement already satisfied: certifi in /usr/local/lib/python3.10/dist-packages (from httpx->gradio) (2022.12.7)\n",
            "Collecting httpcore<0.18.0,>=0.15.0 (from httpx->gradio)\n",
            "  Downloading httpcore-0.17.2-py3-none-any.whl (72 kB)\n",
            "\u001b[2K     \u001b[90m━━━━━━━━━━━━━━━━━━━━━━━━━━━━━━━━━━━━━━━━\u001b[0m \u001b[32m72.5/72.5 kB\u001b[0m \u001b[31m7.3 MB/s\u001b[0m eta \u001b[36m0:00:00\u001b[0m\n",
            "\u001b[?25hRequirement already satisfied: idna in /usr/local/lib/python3.10/dist-packages (from httpx->gradio) (3.4)\n",
            "Requirement already satisfied: sniffio in /usr/local/lib/python3.10/dist-packages (from httpx->gradio) (1.3.0)\n",
            "Requirement already satisfied: contourpy>=1.0.1 in /usr/local/lib/python3.10/dist-packages (from matplotlib->gradio) (1.0.7)\n",
            "Requirement already satisfied: cycler>=0.10 in /usr/local/lib/python3.10/dist-packages (from matplotlib->gradio) (0.11.0)\n",
            "Requirement already satisfied: fonttools>=4.22.0 in /usr/local/lib/python3.10/dist-packages (from matplotlib->gradio) (4.39.3)\n",
            "Requirement already satisfied: kiwisolver>=1.0.1 in /usr/local/lib/python3.10/dist-packages (from matplotlib->gradio) (1.4.4)\n",
            "Requirement already satisfied: pyparsing>=2.3.1 in /usr/local/lib/python3.10/dist-packages (from matplotlib->gradio) (3.0.9)\n",
            "Requirement already satisfied: urllib3<1.27,>=1.21.1 in /usr/local/lib/python3.10/dist-packages (from requests->gradio) (1.26.15)\n",
            "Requirement already satisfied: anyio<5.0,>=3.0 in /usr/local/lib/python3.10/dist-packages (from httpcore<0.18.0,>=0.15.0->httpx->gradio) (3.6.2)\n",
            "Requirement already satisfied: pyrsistent!=0.17.0,!=0.17.1,!=0.17.2,>=0.14.0 in /usr/local/lib/python3.10/dist-packages (from jsonschema>=3.0->altair>=4.2.0->gradio) (0.19.3)\n",
            "Collecting uc-micro-py (from linkify-it-py<3,>=1->markdown-it-py[linkify]>=2.0.0->gradio)\n",
            "  Downloading uc_micro_py-1.0.2-py3-none-any.whl (6.2 kB)\n",
            "Requirement already satisfied: six>=1.5 in /usr/local/lib/python3.10/dist-packages (from python-dateutil>=2.8.1->pandas->gradio) (1.16.0)\n",
            "Building wheels for collected packages: ffmpy\n",
            "  Building wheel for ffmpy (setup.py) ... \u001b[?25l\u001b[?25hdone\n",
            "  Created wheel for ffmpy: filename=ffmpy-0.3.0-py3-none-any.whl size=4694 sha256=ed2f86e069fc21d83710a0e936595057b919a71de0e81398f625c34cbfb6b096\n",
            "  Stored in directory: /root/.cache/pip/wheels/0c/c2/0e/3b9c6845c6a4e35beb90910cc70d9ac9ab5d47402bd62af0df\n",
            "Successfully built ffmpy\n",
            "Installing collected packages: pydub, ffmpy, websockets, uc-micro-py, semantic-version, python-multipart, orjson, multidict, h11, frozenlist, async-timeout, aiofiles, yarl, uvicorn, starlette, mdit-py-plugins, linkify-it-py, huggingface-hub, httpcore, aiosignal, httpx, fastapi, aiohttp, gradio-client, gradio\n",
            "Successfully installed aiofiles-23.1.0 aiohttp-3.8.4 aiosignal-1.3.1 async-timeout-4.0.2 fastapi-0.97.0 ffmpy-0.3.0 frozenlist-1.3.3 gradio-3.34.0 gradio-client-0.2.6 h11-0.14.0 httpcore-0.17.2 httpx-0.24.1 huggingface-hub-0.15.1 linkify-it-py-2.0.2 mdit-py-plugins-0.3.3 multidict-6.0.4 orjson-3.9.1 pydub-0.25.1 python-multipart-0.0.6 semantic-version-2.10.0 starlette-0.27.0 uc-micro-py-1.0.2 uvicorn-0.22.0 websockets-11.0.3 yarl-1.9.2\n"
          ]
        }
      ]
    },
    {
      "cell_type": "code",
      "source": [
        "import gradio as gr"
      ],
      "metadata": {
        "id": "vAhsHUBXeNy4"
      },
      "id": "vAhsHUBXeNy4",
      "execution_count": null,
      "outputs": []
    },
    {
      "cell_type": "code",
      "execution_count": null,
      "id": "1e987c80",
      "metadata": {
        "id": "1e987c80"
      },
      "outputs": [],
      "source": [
        "# Import the necessary libraries\n",
        "import warnings\n",
        "from sklearn.exceptions import DataConversionWarning\n",
        "import pandas as pd\n",
        "import numpy as np\n",
        "import seaborn as sns\n",
        "from sklearn.preprocessing import PowerTransformer\n",
        "import datetime\n",
        "from sklearn.preprocessing import MinMaxScaler\n",
        "from sklearn.preprocessing import StandardScaler\n",
        "from sklearn.pipeline import Pipeline, make_pipeline\n",
        "from sklearn.preprocessing import LabelEncoder\n",
        "from sklearn import set_config\n",
        "from sklearn.metrics import mean_squared_error, r2_score\n",
        "from sklearn.model_selection import train_test_split\n",
        "from functools import partial\n",
        "rmse = partial(mean_squared_error, squared=False)\n",
        "from sklearn.compose import ColumnTransformer\n",
        "from sklearn.model_selection import train_test_split, cross_val_score\n",
        "from sklearn.model_selection import GridSearchCV, ParameterGrid\n",
        "from sklearn.feature_selection import SelectKBest, f_regression\n",
        "from sklearn.feature_selection import RFECV\n",
        "import matplotlib.pyplot as plt\n",
        "from sklearn.feature_selection import SequentialFeatureSelector\n",
        "from sklearn.preprocessing import OneHotEncoder\n",
        "from sklearn import preprocessing\n",
        "from sklearn.preprocessing import PolynomialFeatures\n",
        "from sklearn.preprocessing import FunctionTransformer\n",
        "import category_encoders as ce\n",
        "from sklearn.feature_selection import SelectKBest, f_classif\n",
        "from sklearn.decomposition import PCA\n",
        "from sklearn.feature_selection import RFE\n",
        "from sklearn.decomposition import FastICA\n",
        "from sklearn.decomposition import TruncatedSVD\n",
        "from sklearn.discriminant_analysis import LinearDiscriminantAnalysis\n",
        "from sklearn.linear_model import Ridge\n",
        "from sklearn.dummy import DummyRegressor\n",
        "from sklearn.ensemble import HistGradientBoostingRegressor\n",
        "from sklearn.ensemble import GradientBoostingRegressor\n",
        "from sklearn.linear_model import LinearRegression\n",
        "from sklearn.neighbors import KNeighborsRegressor\n",
        "from sklearn.ensemble import VotingRegressor\n",
        "from sklearn.inspection import PartialDependenceDisplay\n",
        "from sklearn.metrics import mean_squared_error\n",
        "from sklearn.ensemble import AdaBoostRegressor\n",
        "from sklearn.pipeline import Pipeline\n",
        "from sklearn.ensemble import BaggingRegressor\n",
        "from sklearn.ensemble import StackingRegressor\n",
        "import xgboost as xgb\n",
        "from sklearn.ensemble import RandomForestRegressor\n",
        "from sklearn.ensemble import RandomForestClassifier\n",
        "from sklearn.feature_selection import SelectFromModel\n",
        "import math"
      ]
    },
    {
      "cell_type": "code",
      "execution_count": null,
      "id": "e613b1a7",
      "metadata": {
        "id": "e613b1a7"
      },
      "outputs": [],
      "source": [
        "# suppress warnings\n",
        "warnings.filterwarnings(action='ignore', category=DataConversionWarning)\n",
        "warnings.filterwarnings(action='ignore', category=UserWarning, module='sklearn')\n",
        "warnings.filterwarnings(action='ignore', category=RuntimeWarning, module='sklearn')\n",
        "warnings.filterwarnings(\"ignore\", category=FutureWarning)\n",
        "sns.set_palette(\"viridis\")\n",
        "set_config(display='diagram')"
      ]
    },
    {
      "cell_type": "code",
      "source": [
        "from google.colab import files\n",
        "uploaded = files.upload()"
      ],
      "metadata": {
        "colab": {
          "base_uri": "https://localhost:8080/",
          "height": 73
        },
        "id": "cguipS1hcm4u",
        "outputId": "eec3d024-33bf-44bb-c4ef-5ac126af9442"
      },
      "id": "cguipS1hcm4u",
      "execution_count": null,
      "outputs": [
        {
          "output_type": "display_data",
          "data": {
            "text/plain": [
              "<IPython.core.display.HTML object>"
            ],
            "text/html": [
              "\n",
              "     <input type=\"file\" id=\"files-d233f126-87e5-486e-a940-8d5cd1e4415f\" name=\"files[]\" multiple disabled\n",
              "        style=\"border:none\" />\n",
              "     <output id=\"result-d233f126-87e5-486e-a940-8d5cd1e4415f\">\n",
              "      Upload widget is only available when the cell has been executed in the\n",
              "      current browser session. Please rerun this cell to enable.\n",
              "      </output>\n",
              "      <script>// Copyright 2017 Google LLC\n",
              "//\n",
              "// Licensed under the Apache License, Version 2.0 (the \"License\");\n",
              "// you may not use this file except in compliance with the License.\n",
              "// You may obtain a copy of the License at\n",
              "//\n",
              "//      http://www.apache.org/licenses/LICENSE-2.0\n",
              "//\n",
              "// Unless required by applicable law or agreed to in writing, software\n",
              "// distributed under the License is distributed on an \"AS IS\" BASIS,\n",
              "// WITHOUT WARRANTIES OR CONDITIONS OF ANY KIND, either express or implied.\n",
              "// See the License for the specific language governing permissions and\n",
              "// limitations under the License.\n",
              "\n",
              "/**\n",
              " * @fileoverview Helpers for google.colab Python module.\n",
              " */\n",
              "(function(scope) {\n",
              "function span(text, styleAttributes = {}) {\n",
              "  const element = document.createElement('span');\n",
              "  element.textContent = text;\n",
              "  for (const key of Object.keys(styleAttributes)) {\n",
              "    element.style[key] = styleAttributes[key];\n",
              "  }\n",
              "  return element;\n",
              "}\n",
              "\n",
              "// Max number of bytes which will be uploaded at a time.\n",
              "const MAX_PAYLOAD_SIZE = 100 * 1024;\n",
              "\n",
              "function _uploadFiles(inputId, outputId) {\n",
              "  const steps = uploadFilesStep(inputId, outputId);\n",
              "  const outputElement = document.getElementById(outputId);\n",
              "  // Cache steps on the outputElement to make it available for the next call\n",
              "  // to uploadFilesContinue from Python.\n",
              "  outputElement.steps = steps;\n",
              "\n",
              "  return _uploadFilesContinue(outputId);\n",
              "}\n",
              "\n",
              "// This is roughly an async generator (not supported in the browser yet),\n",
              "// where there are multiple asynchronous steps and the Python side is going\n",
              "// to poll for completion of each step.\n",
              "// This uses a Promise to block the python side on completion of each step,\n",
              "// then passes the result of the previous step as the input to the next step.\n",
              "function _uploadFilesContinue(outputId) {\n",
              "  const outputElement = document.getElementById(outputId);\n",
              "  const steps = outputElement.steps;\n",
              "\n",
              "  const next = steps.next(outputElement.lastPromiseValue);\n",
              "  return Promise.resolve(next.value.promise).then((value) => {\n",
              "    // Cache the last promise value to make it available to the next\n",
              "    // step of the generator.\n",
              "    outputElement.lastPromiseValue = value;\n",
              "    return next.value.response;\n",
              "  });\n",
              "}\n",
              "\n",
              "/**\n",
              " * Generator function which is called between each async step of the upload\n",
              " * process.\n",
              " * @param {string} inputId Element ID of the input file picker element.\n",
              " * @param {string} outputId Element ID of the output display.\n",
              " * @return {!Iterable<!Object>} Iterable of next steps.\n",
              " */\n",
              "function* uploadFilesStep(inputId, outputId) {\n",
              "  const inputElement = document.getElementById(inputId);\n",
              "  inputElement.disabled = false;\n",
              "\n",
              "  const outputElement = document.getElementById(outputId);\n",
              "  outputElement.innerHTML = '';\n",
              "\n",
              "  const pickedPromise = new Promise((resolve) => {\n",
              "    inputElement.addEventListener('change', (e) => {\n",
              "      resolve(e.target.files);\n",
              "    });\n",
              "  });\n",
              "\n",
              "  const cancel = document.createElement('button');\n",
              "  inputElement.parentElement.appendChild(cancel);\n",
              "  cancel.textContent = 'Cancel upload';\n",
              "  const cancelPromise = new Promise((resolve) => {\n",
              "    cancel.onclick = () => {\n",
              "      resolve(null);\n",
              "    };\n",
              "  });\n",
              "\n",
              "  // Wait for the user to pick the files.\n",
              "  const files = yield {\n",
              "    promise: Promise.race([pickedPromise, cancelPromise]),\n",
              "    response: {\n",
              "      action: 'starting',\n",
              "    }\n",
              "  };\n",
              "\n",
              "  cancel.remove();\n",
              "\n",
              "  // Disable the input element since further picks are not allowed.\n",
              "  inputElement.disabled = true;\n",
              "\n",
              "  if (!files) {\n",
              "    return {\n",
              "      response: {\n",
              "        action: 'complete',\n",
              "      }\n",
              "    };\n",
              "  }\n",
              "\n",
              "  for (const file of files) {\n",
              "    const li = document.createElement('li');\n",
              "    li.append(span(file.name, {fontWeight: 'bold'}));\n",
              "    li.append(span(\n",
              "        `(${file.type || 'n/a'}) - ${file.size} bytes, ` +\n",
              "        `last modified: ${\n",
              "            file.lastModifiedDate ? file.lastModifiedDate.toLocaleDateString() :\n",
              "                                    'n/a'} - `));\n",
              "    const percent = span('0% done');\n",
              "    li.appendChild(percent);\n",
              "\n",
              "    outputElement.appendChild(li);\n",
              "\n",
              "    const fileDataPromise = new Promise((resolve) => {\n",
              "      const reader = new FileReader();\n",
              "      reader.onload = (e) => {\n",
              "        resolve(e.target.result);\n",
              "      };\n",
              "      reader.readAsArrayBuffer(file);\n",
              "    });\n",
              "    // Wait for the data to be ready.\n",
              "    let fileData = yield {\n",
              "      promise: fileDataPromise,\n",
              "      response: {\n",
              "        action: 'continue',\n",
              "      }\n",
              "    };\n",
              "\n",
              "    // Use a chunked sending to avoid message size limits. See b/62115660.\n",
              "    let position = 0;\n",
              "    do {\n",
              "      const length = Math.min(fileData.byteLength - position, MAX_PAYLOAD_SIZE);\n",
              "      const chunk = new Uint8Array(fileData, position, length);\n",
              "      position += length;\n",
              "\n",
              "      const base64 = btoa(String.fromCharCode.apply(null, chunk));\n",
              "      yield {\n",
              "        response: {\n",
              "          action: 'append',\n",
              "          file: file.name,\n",
              "          data: base64,\n",
              "        },\n",
              "      };\n",
              "\n",
              "      let percentDone = fileData.byteLength === 0 ?\n",
              "          100 :\n",
              "          Math.round((position / fileData.byteLength) * 100);\n",
              "      percent.textContent = `${percentDone}% done`;\n",
              "\n",
              "    } while (position < fileData.byteLength);\n",
              "  }\n",
              "\n",
              "  // All done.\n",
              "  yield {\n",
              "    response: {\n",
              "      action: 'complete',\n",
              "    }\n",
              "  };\n",
              "}\n",
              "\n",
              "scope.google = scope.google || {};\n",
              "scope.google.colab = scope.google.colab || {};\n",
              "scope.google.colab._files = {\n",
              "  _uploadFiles,\n",
              "  _uploadFilesContinue,\n",
              "};\n",
              "})(self);\n",
              "</script> "
            ]
          },
          "metadata": {}
        },
        {
          "output_type": "stream",
          "name": "stdout",
          "text": [
            "Saving adverts.csv to adverts.csv\n"
          ]
        }
      ]
    },
    {
      "cell_type": "code",
      "execution_count": null,
      "id": "3e80d15a",
      "metadata": {
        "colab": {
          "base_uri": "https://localhost:8080/",
          "height": 539
        },
        "id": "3e80d15a",
        "outputId": "09672b3e-bb0c-498d-ce08-191d5737d3a3"
      },
      "outputs": [
        {
          "output_type": "execute_result",
          "data": {
            "text/plain": [
              "        public_reference   mileage reg_code standard_colour standard_make  \\\n",
              "0        202006039777689       0.0      NaN            Grey         Volvo   \n",
              "1        202007020778260  108230.0       61            Blue        Jaguar   \n",
              "2        202007020778474    7800.0       17            Grey         SKODA   \n",
              "3        202007080986776   45000.0       16           Brown      Vauxhall   \n",
              "4        202007161321269   64000.0       64            Grey    Land Rover   \n",
              "...                  ...       ...      ...             ...           ...   \n",
              "402000   202010315652942    5179.0       69            Grey       Peugeot   \n",
              "402001   202010315657341  110000.0       59             Red       Peugeot   \n",
              "402002   202010315659271   52760.0       62           White        Nissan   \n",
              "402003   202011015662436   10250.0       65             Red        Abarth   \n",
              "402004   201512149444029   14000.0       14          Silver          Audi   \n",
              "\n",
              "           standard_model vehicle_condition  year_of_registration  price  \\\n",
              "0                    XC90               NEW                   NaN  73970   \n",
              "1                      XF              USED                2011.0   7000   \n",
              "2                    Yeti              USED                2017.0  14000   \n",
              "3                   Mokka              USED                2016.0   7995   \n",
              "4       Range Rover Sport              USED                2015.0  26995   \n",
              "...                   ...               ...                   ...    ...   \n",
              "402000                208              USED                2019.0  10595   \n",
              "402001                107              USED                2009.0   2000   \n",
              "402002            Qashqai              USED                2012.0   7250   \n",
              "402003                595              USED                2015.0  11490   \n",
              "402004           A4 Avant              USED                2014.0  20520   \n",
              "\n",
              "        body_type  crossover_car_and_van              fuel_type  \n",
              "0             SUV                  False  Petrol Plug-in Hybrid  \n",
              "1          Saloon                  False                 Diesel  \n",
              "2             SUV                  False                 Petrol  \n",
              "3       Hatchback                  False                 Diesel  \n",
              "4             SUV                  False                 Diesel  \n",
              "...           ...                    ...                    ...  \n",
              "402000  Hatchback                  False                 Petrol  \n",
              "402001  Hatchback                  False                 Petrol  \n",
              "402002        SUV                  False                 Petrol  \n",
              "402003  Hatchback                  False                 Petrol  \n",
              "402004     Estate                  False                 Diesel  \n",
              "\n",
              "[402005 rows x 12 columns]"
            ],
            "text/html": [
              "\n",
              "  <div id=\"df-88fa0059-1541-4fd1-981e-ec5d207e2916\">\n",
              "    <div class=\"colab-df-container\">\n",
              "      <div>\n",
              "<style scoped>\n",
              "    .dataframe tbody tr th:only-of-type {\n",
              "        vertical-align: middle;\n",
              "    }\n",
              "\n",
              "    .dataframe tbody tr th {\n",
              "        vertical-align: top;\n",
              "    }\n",
              "\n",
              "    .dataframe thead th {\n",
              "        text-align: right;\n",
              "    }\n",
              "</style>\n",
              "<table border=\"1\" class=\"dataframe\">\n",
              "  <thead>\n",
              "    <tr style=\"text-align: right;\">\n",
              "      <th></th>\n",
              "      <th>public_reference</th>\n",
              "      <th>mileage</th>\n",
              "      <th>reg_code</th>\n",
              "      <th>standard_colour</th>\n",
              "      <th>standard_make</th>\n",
              "      <th>standard_model</th>\n",
              "      <th>vehicle_condition</th>\n",
              "      <th>year_of_registration</th>\n",
              "      <th>price</th>\n",
              "      <th>body_type</th>\n",
              "      <th>crossover_car_and_van</th>\n",
              "      <th>fuel_type</th>\n",
              "    </tr>\n",
              "  </thead>\n",
              "  <tbody>\n",
              "    <tr>\n",
              "      <th>0</th>\n",
              "      <td>202006039777689</td>\n",
              "      <td>0.0</td>\n",
              "      <td>NaN</td>\n",
              "      <td>Grey</td>\n",
              "      <td>Volvo</td>\n",
              "      <td>XC90</td>\n",
              "      <td>NEW</td>\n",
              "      <td>NaN</td>\n",
              "      <td>73970</td>\n",
              "      <td>SUV</td>\n",
              "      <td>False</td>\n",
              "      <td>Petrol Plug-in Hybrid</td>\n",
              "    </tr>\n",
              "    <tr>\n",
              "      <th>1</th>\n",
              "      <td>202007020778260</td>\n",
              "      <td>108230.0</td>\n",
              "      <td>61</td>\n",
              "      <td>Blue</td>\n",
              "      <td>Jaguar</td>\n",
              "      <td>XF</td>\n",
              "      <td>USED</td>\n",
              "      <td>2011.0</td>\n",
              "      <td>7000</td>\n",
              "      <td>Saloon</td>\n",
              "      <td>False</td>\n",
              "      <td>Diesel</td>\n",
              "    </tr>\n",
              "    <tr>\n",
              "      <th>2</th>\n",
              "      <td>202007020778474</td>\n",
              "      <td>7800.0</td>\n",
              "      <td>17</td>\n",
              "      <td>Grey</td>\n",
              "      <td>SKODA</td>\n",
              "      <td>Yeti</td>\n",
              "      <td>USED</td>\n",
              "      <td>2017.0</td>\n",
              "      <td>14000</td>\n",
              "      <td>SUV</td>\n",
              "      <td>False</td>\n",
              "      <td>Petrol</td>\n",
              "    </tr>\n",
              "    <tr>\n",
              "      <th>3</th>\n",
              "      <td>202007080986776</td>\n",
              "      <td>45000.0</td>\n",
              "      <td>16</td>\n",
              "      <td>Brown</td>\n",
              "      <td>Vauxhall</td>\n",
              "      <td>Mokka</td>\n",
              "      <td>USED</td>\n",
              "      <td>2016.0</td>\n",
              "      <td>7995</td>\n",
              "      <td>Hatchback</td>\n",
              "      <td>False</td>\n",
              "      <td>Diesel</td>\n",
              "    </tr>\n",
              "    <tr>\n",
              "      <th>4</th>\n",
              "      <td>202007161321269</td>\n",
              "      <td>64000.0</td>\n",
              "      <td>64</td>\n",
              "      <td>Grey</td>\n",
              "      <td>Land Rover</td>\n",
              "      <td>Range Rover Sport</td>\n",
              "      <td>USED</td>\n",
              "      <td>2015.0</td>\n",
              "      <td>26995</td>\n",
              "      <td>SUV</td>\n",
              "      <td>False</td>\n",
              "      <td>Diesel</td>\n",
              "    </tr>\n",
              "    <tr>\n",
              "      <th>...</th>\n",
              "      <td>...</td>\n",
              "      <td>...</td>\n",
              "      <td>...</td>\n",
              "      <td>...</td>\n",
              "      <td>...</td>\n",
              "      <td>...</td>\n",
              "      <td>...</td>\n",
              "      <td>...</td>\n",
              "      <td>...</td>\n",
              "      <td>...</td>\n",
              "      <td>...</td>\n",
              "      <td>...</td>\n",
              "    </tr>\n",
              "    <tr>\n",
              "      <th>402000</th>\n",
              "      <td>202010315652942</td>\n",
              "      <td>5179.0</td>\n",
              "      <td>69</td>\n",
              "      <td>Grey</td>\n",
              "      <td>Peugeot</td>\n",
              "      <td>208</td>\n",
              "      <td>USED</td>\n",
              "      <td>2019.0</td>\n",
              "      <td>10595</td>\n",
              "      <td>Hatchback</td>\n",
              "      <td>False</td>\n",
              "      <td>Petrol</td>\n",
              "    </tr>\n",
              "    <tr>\n",
              "      <th>402001</th>\n",
              "      <td>202010315657341</td>\n",
              "      <td>110000.0</td>\n",
              "      <td>59</td>\n",
              "      <td>Red</td>\n",
              "      <td>Peugeot</td>\n",
              "      <td>107</td>\n",
              "      <td>USED</td>\n",
              "      <td>2009.0</td>\n",
              "      <td>2000</td>\n",
              "      <td>Hatchback</td>\n",
              "      <td>False</td>\n",
              "      <td>Petrol</td>\n",
              "    </tr>\n",
              "    <tr>\n",
              "      <th>402002</th>\n",
              "      <td>202010315659271</td>\n",
              "      <td>52760.0</td>\n",
              "      <td>62</td>\n",
              "      <td>White</td>\n",
              "      <td>Nissan</td>\n",
              "      <td>Qashqai</td>\n",
              "      <td>USED</td>\n",
              "      <td>2012.0</td>\n",
              "      <td>7250</td>\n",
              "      <td>SUV</td>\n",
              "      <td>False</td>\n",
              "      <td>Petrol</td>\n",
              "    </tr>\n",
              "    <tr>\n",
              "      <th>402003</th>\n",
              "      <td>202011015662436</td>\n",
              "      <td>10250.0</td>\n",
              "      <td>65</td>\n",
              "      <td>Red</td>\n",
              "      <td>Abarth</td>\n",
              "      <td>595</td>\n",
              "      <td>USED</td>\n",
              "      <td>2015.0</td>\n",
              "      <td>11490</td>\n",
              "      <td>Hatchback</td>\n",
              "      <td>False</td>\n",
              "      <td>Petrol</td>\n",
              "    </tr>\n",
              "    <tr>\n",
              "      <th>402004</th>\n",
              "      <td>201512149444029</td>\n",
              "      <td>14000.0</td>\n",
              "      <td>14</td>\n",
              "      <td>Silver</td>\n",
              "      <td>Audi</td>\n",
              "      <td>A4 Avant</td>\n",
              "      <td>USED</td>\n",
              "      <td>2014.0</td>\n",
              "      <td>20520</td>\n",
              "      <td>Estate</td>\n",
              "      <td>False</td>\n",
              "      <td>Diesel</td>\n",
              "    </tr>\n",
              "  </tbody>\n",
              "</table>\n",
              "<p>402005 rows × 12 columns</p>\n",
              "</div>\n",
              "      <button class=\"colab-df-convert\" onclick=\"convertToInteractive('df-88fa0059-1541-4fd1-981e-ec5d207e2916')\"\n",
              "              title=\"Convert this dataframe to an interactive table.\"\n",
              "              style=\"display:none;\">\n",
              "        \n",
              "  <svg xmlns=\"http://www.w3.org/2000/svg\" height=\"24px\"viewBox=\"0 0 24 24\"\n",
              "       width=\"24px\">\n",
              "    <path d=\"M0 0h24v24H0V0z\" fill=\"none\"/>\n",
              "    <path d=\"M18.56 5.44l.94 2.06.94-2.06 2.06-.94-2.06-.94-.94-2.06-.94 2.06-2.06.94zm-11 1L8.5 8.5l.94-2.06 2.06-.94-2.06-.94L8.5 2.5l-.94 2.06-2.06.94zm10 10l.94 2.06.94-2.06 2.06-.94-2.06-.94-.94-2.06-.94 2.06-2.06.94z\"/><path d=\"M17.41 7.96l-1.37-1.37c-.4-.4-.92-.59-1.43-.59-.52 0-1.04.2-1.43.59L10.3 9.45l-7.72 7.72c-.78.78-.78 2.05 0 2.83L4 21.41c.39.39.9.59 1.41.59.51 0 1.02-.2 1.41-.59l7.78-7.78 2.81-2.81c.8-.78.8-2.07 0-2.86zM5.41 20L4 18.59l7.72-7.72 1.47 1.35L5.41 20z\"/>\n",
              "  </svg>\n",
              "      </button>\n",
              "      \n",
              "  <style>\n",
              "    .colab-df-container {\n",
              "      display:flex;\n",
              "      flex-wrap:wrap;\n",
              "      gap: 12px;\n",
              "    }\n",
              "\n",
              "    .colab-df-convert {\n",
              "      background-color: #E8F0FE;\n",
              "      border: none;\n",
              "      border-radius: 50%;\n",
              "      cursor: pointer;\n",
              "      display: none;\n",
              "      fill: #1967D2;\n",
              "      height: 32px;\n",
              "      padding: 0 0 0 0;\n",
              "      width: 32px;\n",
              "    }\n",
              "\n",
              "    .colab-df-convert:hover {\n",
              "      background-color: #E2EBFA;\n",
              "      box-shadow: 0px 1px 2px rgba(60, 64, 67, 0.3), 0px 1px 3px 1px rgba(60, 64, 67, 0.15);\n",
              "      fill: #174EA6;\n",
              "    }\n",
              "\n",
              "    [theme=dark] .colab-df-convert {\n",
              "      background-color: #3B4455;\n",
              "      fill: #D2E3FC;\n",
              "    }\n",
              "\n",
              "    [theme=dark] .colab-df-convert:hover {\n",
              "      background-color: #434B5C;\n",
              "      box-shadow: 0px 1px 3px 1px rgba(0, 0, 0, 0.15);\n",
              "      filter: drop-shadow(0px 1px 2px rgba(0, 0, 0, 0.3));\n",
              "      fill: #FFFFFF;\n",
              "    }\n",
              "  </style>\n",
              "\n",
              "      <script>\n",
              "        const buttonEl =\n",
              "          document.querySelector('#df-88fa0059-1541-4fd1-981e-ec5d207e2916 button.colab-df-convert');\n",
              "        buttonEl.style.display =\n",
              "          google.colab.kernel.accessAllowed ? 'block' : 'none';\n",
              "\n",
              "        async function convertToInteractive(key) {\n",
              "          const element = document.querySelector('#df-88fa0059-1541-4fd1-981e-ec5d207e2916');\n",
              "          const dataTable =\n",
              "            await google.colab.kernel.invokeFunction('convertToInteractive',\n",
              "                                                     [key], {});\n",
              "          if (!dataTable) return;\n",
              "\n",
              "          const docLinkHtml = 'Like what you see? Visit the ' +\n",
              "            '<a target=\"_blank\" href=https://colab.research.google.com/notebooks/data_table.ipynb>data table notebook</a>'\n",
              "            + ' to learn more about interactive tables.';\n",
              "          element.innerHTML = '';\n",
              "          dataTable['output_type'] = 'display_data';\n",
              "          await google.colab.output.renderOutput(dataTable, element);\n",
              "          const docLink = document.createElement('div');\n",
              "          docLink.innerHTML = docLinkHtml;\n",
              "          element.appendChild(docLink);\n",
              "        }\n",
              "      </script>\n",
              "    </div>\n",
              "  </div>\n",
              "  "
            ]
          },
          "metadata": {},
          "execution_count": 14
        }
      ],
      "source": [
        "# Load the data\n",
        "import io\n",
        "rawdata = pd.read_csv(io.BytesIO(uploaded['adverts.csv']))\n",
        "rawdata"
      ]
    },
    {
      "cell_type": "code",
      "execution_count": null,
      "id": "8ec21384",
      "metadata": {
        "colab": {
          "base_uri": "https://localhost:8080/"
        },
        "id": "8ec21384",
        "outputId": "3957f435-cc1f-4ef3-8ea5-ace2dde5ab42"
      },
      "outputs": [
        {
          "name": "stdout",
          "output_type": "stream",
          "text": [
            "Numerical Columns:  Index(['public_reference', 'mileage', 'year_of_registration', 'price'], dtype='object')\n",
            "\n",
            "\n",
            "Categorical Columns: Index(['reg_code', 'standard_colour', 'standard_make', 'standard_model',\n",
            "       'vehicle_condition', 'body_type', 'fuel_type'],\n",
            "      dtype='object')\n"
          ]
        }
      ],
      "source": [
        "# Find the  type of variables\n",
        "\n",
        "numerical= rawdata.select_dtypes('number').columns\n",
        "\n",
        "categorical = rawdata.select_dtypes('object').columns\n",
        "\n",
        "print(f'Numerical Columns:  {rawdata[numerical].columns}')\n",
        "print('\\n')\n",
        "print(f'Categorical Columns: {rawdata[categorical].columns}')"
      ]
    },
    {
      "cell_type": "markdown",
      "id": "d85f907a",
      "metadata": {
        "id": "d85f907a"
      },
      "source": [
        "The initial impression of the features are:\n",
        "\n",
        "   <strong>public_reference</strong> : This is a unique identifier for each vehicle in the dataset. It is a numerical variable.\n",
        "\n",
        "   <strong>mileage   </strong>: This is the number of miles a vehicle has been driven. It is a numerical variable with a skewed distribution, as most vehicles will have low mileage but a few will have very high mileage.\n",
        "\n",
        "   <strong>reg_code   </strong>: This is the registration code of the vehicle, which is usually a combination of letters and numbers that identifies the vehicle's make, model, and age. It is a categorical variable.\n",
        "\n",
        "   <strong>standard_colour   </strong>: This is the standard color of the vehicle. It is categorical variable with a few dominant colors and many rare ones.\n",
        "\n",
        "  <strong>standard_make   </strong>: This is the make of the vehicle, such as Toyota, Honda, or Ford. It is a categorical variable with a few dominant makes and many rare ones.\n",
        "\n",
        "  <strong>standard_model   </strong>: This is the model of the vehicle, such as Civic, Corolla, or F-150. It a categorical variable with a few dominant models and many rare ones\n",
        "\n",
        "  <strong>vehicle_condition   </strong>: This is the overall condition of the vehicle, which may be described as \"new,\" \"used,\" or \"certified pre-owned\". It is a categorical variable.\n",
        "\n",
        "  <strong>year_of_registration   </strong>: This is the year in which the vehicle was registered. It is a numerical variable with a skewed distribution, as most vehicles will be relatively new but a few will be very old.\n",
        "\n",
        "  <strong>price   </strong>: This is the price of the vehicle. It is a numerical variable with a skewed distribution, as most vehicles will be relatively inexpensive but a few will be very expensive.\n",
        "\n",
        "  <strong>body_type   </strong>: This is the type of body of the vehicle, such as sedan, SUV, or pickup truck. It is a categorical variable with a few dominant body types and many rare ones.\n",
        "\n",
        "   <strong>crossover_car_and_van   </strong>: This indicates whether the vehicle is a crossover, which is a type of vehicle that combines features of a car and a van. It is a binary categorical variable with values \"yes\" or \"no\".,\n",
        "\n",
        "   <strong>fuel_type   </strong>: This is the type of fuel the vehicle uses, such as gasoline, diesel, or electric. It is a categorical variable with a few dominant fuel types and many rare ones.\n"
      ]
    },
    {
      "cell_type": "markdown",
      "id": "20b28512",
      "metadata": {
        "id": "20b28512"
      },
      "source": [
        "### 1.2 Data Exploration\n",
        "\n",
        "\n",
        "In my data exploration process, I review a sample of the observations to ensure the data has been properly parsed."
      ]
    },
    {
      "cell_type": "code",
      "execution_count": null,
      "id": "0e2e4a5d",
      "metadata": {
        "colab": {
          "base_uri": "https://localhost:8080/"
        },
        "id": "0e2e4a5d",
        "outputId": "bf0edc04-726c-4bc4-9634-eaa3f4ba2a3c"
      },
      "outputs": [
        {
          "data": {
            "text/plain": [
              "(402005, 12)"
            ]
          },
          "execution_count": 18,
          "metadata": {},
          "output_type": "execute_result"
        }
      ],
      "source": [
        "rawdata.shape"
      ]
    },
    {
      "cell_type": "code",
      "execution_count": null,
      "id": "82aa72fd",
      "metadata": {
        "colab": {
          "base_uri": "https://localhost:8080/"
        },
        "id": "82aa72fd",
        "outputId": "a6d07386-1619-4ddf-ec24-88a782ecd749"
      },
      "outputs": [
        {
          "data": {
            "text/plain": [
              "Index(['public_reference', 'mileage', 'reg_code', 'standard_colour',\n",
              "       'standard_make', 'standard_model', 'vehicle_condition',\n",
              "       'year_of_registration', 'price', 'body_type', 'crossover_car_and_van',\n",
              "       'fuel_type'],\n",
              "      dtype='object')"
            ]
          },
          "execution_count": 19,
          "metadata": {},
          "output_type": "execute_result"
        }
      ],
      "source": [
        "rawdata.columns"
      ]
    },
    {
      "cell_type": "code",
      "execution_count": null,
      "id": "16753f65",
      "metadata": {
        "colab": {
          "base_uri": "https://localhost:8080/"
        },
        "id": "16753f65",
        "outputId": "58df4c8c-d737-4be9-a585-ba5b0630e559"
      },
      "outputs": [
        {
          "name": "stdout",
          "output_type": "stream",
          "text": [
            "<class 'pandas.core.frame.DataFrame'>\n",
            "RangeIndex: 402005 entries, 0 to 402004\n",
            "Data columns (total 12 columns):\n",
            " #   Column                 Non-Null Count   Dtype  \n",
            "---  ------                 --------------   -----  \n",
            " 0   public_reference       402005 non-null  int64  \n",
            " 1   mileage                401878 non-null  float64\n",
            " 2   reg_code               370148 non-null  object \n",
            " 3   standard_colour        396627 non-null  object \n",
            " 4   standard_make          402005 non-null  object \n",
            " 5   standard_model         402005 non-null  object \n",
            " 6   vehicle_condition      402005 non-null  object \n",
            " 7   year_of_registration   368694 non-null  float64\n",
            " 8   price                  402005 non-null  int64  \n",
            " 9   body_type              401168 non-null  object \n",
            " 10  crossover_car_and_van  402005 non-null  bool   \n",
            " 11  fuel_type              401404 non-null  object \n",
            "dtypes: bool(1), float64(2), int64(2), object(7)\n",
            "memory usage: 34.1+ MB\n"
          ]
        }
      ],
      "source": [
        "rawdata.info()"
      ]
    },
    {
      "cell_type": "code",
      "execution_count": null,
      "id": "7233ba80",
      "metadata": {
        "id": "7233ba80"
      },
      "outputs": [],
      "source": [
        "# Check Head, Tail and Sample of data get an overview"
      ]
    },
    {
      "cell_type": "code",
      "execution_count": null,
      "id": "106fd589",
      "metadata": {
        "colab": {
          "base_uri": "https://localhost:8080/",
          "height": 285
        },
        "id": "106fd589",
        "outputId": "506acfd7-80eb-4445-d068-65632c9ae103"
      },
      "outputs": [
        {
          "data": {
            "text/html": [
              "<div>\n",
              "<style scoped>\n",
              "    .dataframe tbody tr th:only-of-type {\n",
              "        vertical-align: middle;\n",
              "    }\n",
              "\n",
              "    .dataframe tbody tr th {\n",
              "        vertical-align: top;\n",
              "    }\n",
              "\n",
              "    .dataframe thead th {\n",
              "        text-align: right;\n",
              "    }\n",
              "</style>\n",
              "<table border=\"1\" class=\"dataframe\">\n",
              "  <thead>\n",
              "    <tr style=\"text-align: right;\">\n",
              "      <th></th>\n",
              "      <th>public_reference</th>\n",
              "      <th>mileage</th>\n",
              "      <th>reg_code</th>\n",
              "      <th>standard_colour</th>\n",
              "      <th>standard_make</th>\n",
              "      <th>standard_model</th>\n",
              "      <th>vehicle_condition</th>\n",
              "      <th>year_of_registration</th>\n",
              "      <th>price</th>\n",
              "      <th>body_type</th>\n",
              "      <th>crossover_car_and_van</th>\n",
              "      <th>fuel_type</th>\n",
              "    </tr>\n",
              "  </thead>\n",
              "  <tbody>\n",
              "    <tr>\n",
              "      <th>0</th>\n",
              "      <td>202006039777689</td>\n",
              "      <td>0.0</td>\n",
              "      <td>NaN</td>\n",
              "      <td>Grey</td>\n",
              "      <td>Volvo</td>\n",
              "      <td>XC90</td>\n",
              "      <td>NEW</td>\n",
              "      <td>NaN</td>\n",
              "      <td>73970</td>\n",
              "      <td>SUV</td>\n",
              "      <td>False</td>\n",
              "      <td>Petrol Plug-in Hybrid</td>\n",
              "    </tr>\n",
              "    <tr>\n",
              "      <th>1</th>\n",
              "      <td>202007020778260</td>\n",
              "      <td>108230.0</td>\n",
              "      <td>61</td>\n",
              "      <td>Blue</td>\n",
              "      <td>Jaguar</td>\n",
              "      <td>XF</td>\n",
              "      <td>USED</td>\n",
              "      <td>2011.0</td>\n",
              "      <td>7000</td>\n",
              "      <td>Saloon</td>\n",
              "      <td>False</td>\n",
              "      <td>Diesel</td>\n",
              "    </tr>\n",
              "    <tr>\n",
              "      <th>2</th>\n",
              "      <td>202007020778474</td>\n",
              "      <td>7800.0</td>\n",
              "      <td>17</td>\n",
              "      <td>Grey</td>\n",
              "      <td>SKODA</td>\n",
              "      <td>Yeti</td>\n",
              "      <td>USED</td>\n",
              "      <td>2017.0</td>\n",
              "      <td>14000</td>\n",
              "      <td>SUV</td>\n",
              "      <td>False</td>\n",
              "      <td>Petrol</td>\n",
              "    </tr>\n",
              "    <tr>\n",
              "      <th>3</th>\n",
              "      <td>202007080986776</td>\n",
              "      <td>45000.0</td>\n",
              "      <td>16</td>\n",
              "      <td>Brown</td>\n",
              "      <td>Vauxhall</td>\n",
              "      <td>Mokka</td>\n",
              "      <td>USED</td>\n",
              "      <td>2016.0</td>\n",
              "      <td>7995</td>\n",
              "      <td>Hatchback</td>\n",
              "      <td>False</td>\n",
              "      <td>Diesel</td>\n",
              "    </tr>\n",
              "    <tr>\n",
              "      <th>4</th>\n",
              "      <td>202007161321269</td>\n",
              "      <td>64000.0</td>\n",
              "      <td>64</td>\n",
              "      <td>Grey</td>\n",
              "      <td>Land Rover</td>\n",
              "      <td>Range Rover Sport</td>\n",
              "      <td>USED</td>\n",
              "      <td>2015.0</td>\n",
              "      <td>26995</td>\n",
              "      <td>SUV</td>\n",
              "      <td>False</td>\n",
              "      <td>Diesel</td>\n",
              "    </tr>\n",
              "  </tbody>\n",
              "</table>\n",
              "</div>"
            ],
            "text/plain": [
              "   public_reference   mileage reg_code standard_colour standard_make  \\\n",
              "0   202006039777689       0.0      NaN            Grey         Volvo   \n",
              "1   202007020778260  108230.0       61            Blue        Jaguar   \n",
              "2   202007020778474    7800.0       17            Grey         SKODA   \n",
              "3   202007080986776   45000.0       16           Brown      Vauxhall   \n",
              "4   202007161321269   64000.0       64            Grey    Land Rover   \n",
              "\n",
              "      standard_model vehicle_condition  year_of_registration  price  \\\n",
              "0               XC90               NEW                   NaN  73970   \n",
              "1                 XF              USED                2011.0   7000   \n",
              "2               Yeti              USED                2017.0  14000   \n",
              "3              Mokka              USED                2016.0   7995   \n",
              "4  Range Rover Sport              USED                2015.0  26995   \n",
              "\n",
              "   body_type  crossover_car_and_van              fuel_type  \n",
              "0        SUV                  False  Petrol Plug-in Hybrid  \n",
              "1     Saloon                  False                 Diesel  \n",
              "2        SUV                  False                 Petrol  \n",
              "3  Hatchback                  False                 Diesel  \n",
              "4        SUV                  False                 Diesel  "
            ]
          },
          "execution_count": 22,
          "metadata": {},
          "output_type": "execute_result"
        }
      ],
      "source": [
        "# To get the first 5 rows\n",
        "rawdata.head()"
      ]
    },
    {
      "cell_type": "code",
      "execution_count": null,
      "id": "703633c0",
      "metadata": {
        "colab": {
          "base_uri": "https://localhost:8080/",
          "height": 270
        },
        "id": "703633c0",
        "outputId": "2a380dfc-8edb-4379-f65f-477b7b8983b1"
      },
      "outputs": [
        {
          "data": {
            "text/html": [
              "<div>\n",
              "<style scoped>\n",
              "    .dataframe tbody tr th:only-of-type {\n",
              "        vertical-align: middle;\n",
              "    }\n",
              "\n",
              "    .dataframe tbody tr th {\n",
              "        vertical-align: top;\n",
              "    }\n",
              "\n",
              "    .dataframe thead th {\n",
              "        text-align: right;\n",
              "    }\n",
              "</style>\n",
              "<table border=\"1\" class=\"dataframe\">\n",
              "  <thead>\n",
              "    <tr style=\"text-align: right;\">\n",
              "      <th></th>\n",
              "      <th>public_reference</th>\n",
              "      <th>mileage</th>\n",
              "      <th>reg_code</th>\n",
              "      <th>standard_colour</th>\n",
              "      <th>standard_make</th>\n",
              "      <th>standard_model</th>\n",
              "      <th>vehicle_condition</th>\n",
              "      <th>year_of_registration</th>\n",
              "      <th>price</th>\n",
              "      <th>body_type</th>\n",
              "      <th>crossover_car_and_van</th>\n",
              "      <th>fuel_type</th>\n",
              "    </tr>\n",
              "  </thead>\n",
              "  <tbody>\n",
              "    <tr>\n",
              "      <th>402000</th>\n",
              "      <td>202010315652942</td>\n",
              "      <td>5179.0</td>\n",
              "      <td>69</td>\n",
              "      <td>Grey</td>\n",
              "      <td>Peugeot</td>\n",
              "      <td>208</td>\n",
              "      <td>USED</td>\n",
              "      <td>2019.0</td>\n",
              "      <td>10595</td>\n",
              "      <td>Hatchback</td>\n",
              "      <td>False</td>\n",
              "      <td>Petrol</td>\n",
              "    </tr>\n",
              "    <tr>\n",
              "      <th>402001</th>\n",
              "      <td>202010315657341</td>\n",
              "      <td>110000.0</td>\n",
              "      <td>59</td>\n",
              "      <td>Red</td>\n",
              "      <td>Peugeot</td>\n",
              "      <td>107</td>\n",
              "      <td>USED</td>\n",
              "      <td>2009.0</td>\n",
              "      <td>2000</td>\n",
              "      <td>Hatchback</td>\n",
              "      <td>False</td>\n",
              "      <td>Petrol</td>\n",
              "    </tr>\n",
              "    <tr>\n",
              "      <th>402002</th>\n",
              "      <td>202010315659271</td>\n",
              "      <td>52760.0</td>\n",
              "      <td>62</td>\n",
              "      <td>White</td>\n",
              "      <td>Nissan</td>\n",
              "      <td>Qashqai</td>\n",
              "      <td>USED</td>\n",
              "      <td>2012.0</td>\n",
              "      <td>7250</td>\n",
              "      <td>SUV</td>\n",
              "      <td>False</td>\n",
              "      <td>Petrol</td>\n",
              "    </tr>\n",
              "    <tr>\n",
              "      <th>402003</th>\n",
              "      <td>202011015662436</td>\n",
              "      <td>10250.0</td>\n",
              "      <td>65</td>\n",
              "      <td>Red</td>\n",
              "      <td>Abarth</td>\n",
              "      <td>595</td>\n",
              "      <td>USED</td>\n",
              "      <td>2015.0</td>\n",
              "      <td>11490</td>\n",
              "      <td>Hatchback</td>\n",
              "      <td>False</td>\n",
              "      <td>Petrol</td>\n",
              "    </tr>\n",
              "    <tr>\n",
              "      <th>402004</th>\n",
              "      <td>201512149444029</td>\n",
              "      <td>14000.0</td>\n",
              "      <td>14</td>\n",
              "      <td>Silver</td>\n",
              "      <td>Audi</td>\n",
              "      <td>A4 Avant</td>\n",
              "      <td>USED</td>\n",
              "      <td>2014.0</td>\n",
              "      <td>20520</td>\n",
              "      <td>Estate</td>\n",
              "      <td>False</td>\n",
              "      <td>Diesel</td>\n",
              "    </tr>\n",
              "  </tbody>\n",
              "</table>\n",
              "</div>"
            ],
            "text/plain": [
              "        public_reference   mileage reg_code standard_colour standard_make  \\\n",
              "402000   202010315652942    5179.0       69            Grey       Peugeot   \n",
              "402001   202010315657341  110000.0       59             Red       Peugeot   \n",
              "402002   202010315659271   52760.0       62           White        Nissan   \n",
              "402003   202011015662436   10250.0       65             Red        Abarth   \n",
              "402004   201512149444029   14000.0       14          Silver          Audi   \n",
              "\n",
              "       standard_model vehicle_condition  year_of_registration  price  \\\n",
              "402000            208              USED                2019.0  10595   \n",
              "402001            107              USED                2009.0   2000   \n",
              "402002        Qashqai              USED                2012.0   7250   \n",
              "402003            595              USED                2015.0  11490   \n",
              "402004       A4 Avant              USED                2014.0  20520   \n",
              "\n",
              "        body_type  crossover_car_and_van fuel_type  \n",
              "402000  Hatchback                  False    Petrol  \n",
              "402001  Hatchback                  False    Petrol  \n",
              "402002        SUV                  False    Petrol  \n",
              "402003  Hatchback                  False    Petrol  \n",
              "402004     Estate                  False    Diesel  "
            ]
          },
          "execution_count": 23,
          "metadata": {},
          "output_type": "execute_result"
        }
      ],
      "source": [
        "# To get the last 5 rows\n",
        "rawdata.tail()"
      ]
    },
    {
      "cell_type": "code",
      "execution_count": null,
      "id": "ad7aa955",
      "metadata": {
        "colab": {
          "base_uri": "https://localhost:8080/",
          "height": 300
        },
        "id": "ad7aa955",
        "outputId": "bb02ccc5-305c-4a74-92cc-85d5546522af"
      },
      "outputs": [
        {
          "data": {
            "text/html": [
              "<div>\n",
              "<style scoped>\n",
              "    .dataframe tbody tr th:only-of-type {\n",
              "        vertical-align: middle;\n",
              "    }\n",
              "\n",
              "    .dataframe tbody tr th {\n",
              "        vertical-align: top;\n",
              "    }\n",
              "\n",
              "    .dataframe thead th {\n",
              "        text-align: right;\n",
              "    }\n",
              "</style>\n",
              "<table border=\"1\" class=\"dataframe\">\n",
              "  <thead>\n",
              "    <tr style=\"text-align: right;\">\n",
              "      <th></th>\n",
              "      <th>public_reference</th>\n",
              "      <th>mileage</th>\n",
              "      <th>year_of_registration</th>\n",
              "      <th>price</th>\n",
              "    </tr>\n",
              "  </thead>\n",
              "  <tbody>\n",
              "    <tr>\n",
              "      <th>count</th>\n",
              "      <td>4.020050e+05</td>\n",
              "      <td>401878.000000</td>\n",
              "      <td>368694.000000</td>\n",
              "      <td>4.020050e+05</td>\n",
              "    </tr>\n",
              "    <tr>\n",
              "      <th>mean</th>\n",
              "      <td>2.020071e+14</td>\n",
              "      <td>37743.595656</td>\n",
              "      <td>2015.006206</td>\n",
              "      <td>1.734197e+04</td>\n",
              "    </tr>\n",
              "    <tr>\n",
              "      <th>std</th>\n",
              "      <td>1.691662e+10</td>\n",
              "      <td>34831.724018</td>\n",
              "      <td>7.962667</td>\n",
              "      <td>4.643746e+04</td>\n",
              "    </tr>\n",
              "    <tr>\n",
              "      <th>min</th>\n",
              "      <td>2.013072e+14</td>\n",
              "      <td>0.000000</td>\n",
              "      <td>999.000000</td>\n",
              "      <td>1.200000e+02</td>\n",
              "    </tr>\n",
              "    <tr>\n",
              "      <th>25%</th>\n",
              "      <td>2.020090e+14</td>\n",
              "      <td>10481.000000</td>\n",
              "      <td>2013.000000</td>\n",
              "      <td>7.495000e+03</td>\n",
              "    </tr>\n",
              "    <tr>\n",
              "      <th>50%</th>\n",
              "      <td>2.020093e+14</td>\n",
              "      <td>28629.500000</td>\n",
              "      <td>2016.000000</td>\n",
              "      <td>1.260000e+04</td>\n",
              "    </tr>\n",
              "    <tr>\n",
              "      <th>75%</th>\n",
              "      <td>2.020102e+14</td>\n",
              "      <td>56875.750000</td>\n",
              "      <td>2018.000000</td>\n",
              "      <td>2.000000e+04</td>\n",
              "    </tr>\n",
              "    <tr>\n",
              "      <th>max</th>\n",
              "      <td>2.020110e+14</td>\n",
              "      <td>999999.000000</td>\n",
              "      <td>2020.000000</td>\n",
              "      <td>9.999999e+06</td>\n",
              "    </tr>\n",
              "  </tbody>\n",
              "</table>\n",
              "</div>"
            ],
            "text/plain": [
              "       public_reference        mileage  year_of_registration         price\n",
              "count      4.020050e+05  401878.000000         368694.000000  4.020050e+05\n",
              "mean       2.020071e+14   37743.595656           2015.006206  1.734197e+04\n",
              "std        1.691662e+10   34831.724018              7.962667  4.643746e+04\n",
              "min        2.013072e+14       0.000000            999.000000  1.200000e+02\n",
              "25%        2.020090e+14   10481.000000           2013.000000  7.495000e+03\n",
              "50%        2.020093e+14   28629.500000           2016.000000  1.260000e+04\n",
              "75%        2.020102e+14   56875.750000           2018.000000  2.000000e+04\n",
              "max        2.020110e+14  999999.000000           2020.000000  9.999999e+06"
            ]
          },
          "execution_count": 24,
          "metadata": {},
          "output_type": "execute_result"
        }
      ],
      "source": [
        "rawdata.describe()"
      ]
    },
    {
      "cell_type": "code",
      "execution_count": null,
      "id": "d9b581be",
      "metadata": {
        "id": "d9b581be",
        "outputId": "428caef9-b774-4846-88d0-6665b1b2a19a"
      },
      "outputs": [
        {
          "data": {
            "image/png": "[encoded data removed]",
            "text/plain": [
              "<Figure size 432x288 with 1 Axes>"
            ]
          },
          "metadata": {
            "needs_background": "light"
          },
          "output_type": "display_data"
        }
      ],
      "source": [
        "sns.histplot(np.log10(rawdata['price']), kde=True);"
      ]
    },
    {
      "cell_type": "markdown",
      "id": "3d283e68",
      "metadata": {
        "id": "3d283e68"
      },
      "source": [
        "###  1.3 Find Missing Values\n",
        "\n",
        "In this section, I will find the missing values in the dataset."
      ]
    },
    {
      "cell_type": "code",
      "execution_count": null,
      "id": "05461459",
      "metadata": {
        "colab": {
          "base_uri": "https://localhost:8080/",
          "height": 425
        },
        "id": "05461459",
        "outputId": "508645b9-985c-48e1-f84e-a5c26a60f7bd"
      },
      "outputs": [
        {
          "data": {
            "text/html": [
              "<div>\n",
              "<style scoped>\n",
              "    .dataframe tbody tr th:only-of-type {\n",
              "        vertical-align: middle;\n",
              "    }\n",
              "\n",
              "    .dataframe tbody tr th {\n",
              "        vertical-align: top;\n",
              "    }\n",
              "\n",
              "    .dataframe thead th {\n",
              "        text-align: right;\n",
              "    }\n",
              "</style>\n",
              "<table border=\"1\" class=\"dataframe\">\n",
              "  <thead>\n",
              "    <tr style=\"text-align: right;\">\n",
              "      <th></th>\n",
              "      <th>Missing_Count</th>\n",
              "      <th>Missing_Percentage</th>\n",
              "      <th>Unique_Count</th>\n",
              "    </tr>\n",
              "  </thead>\n",
              "  <tbody>\n",
              "    <tr>\n",
              "      <th>year_of_registration</th>\n",
              "      <td>33311</td>\n",
              "      <td>0.082862</td>\n",
              "      <td>84</td>\n",
              "    </tr>\n",
              "    <tr>\n",
              "      <th>reg_code</th>\n",
              "      <td>31857</td>\n",
              "      <td>0.079245</td>\n",
              "      <td>72</td>\n",
              "    </tr>\n",
              "    <tr>\n",
              "      <th>standard_colour</th>\n",
              "      <td>5378</td>\n",
              "      <td>0.013378</td>\n",
              "      <td>22</td>\n",
              "    </tr>\n",
              "    <tr>\n",
              "      <th>body_type</th>\n",
              "      <td>837</td>\n",
              "      <td>0.002082</td>\n",
              "      <td>16</td>\n",
              "    </tr>\n",
              "    <tr>\n",
              "      <th>fuel_type</th>\n",
              "      <td>601</td>\n",
              "      <td>0.001495</td>\n",
              "      <td>9</td>\n",
              "    </tr>\n",
              "    <tr>\n",
              "      <th>mileage</th>\n",
              "      <td>127</td>\n",
              "      <td>0.000316</td>\n",
              "      <td>80634</td>\n",
              "    </tr>\n",
              "    <tr>\n",
              "      <th>public_reference</th>\n",
              "      <td>0</td>\n",
              "      <td>0.000000</td>\n",
              "      <td>402005</td>\n",
              "    </tr>\n",
              "    <tr>\n",
              "      <th>standard_make</th>\n",
              "      <td>0</td>\n",
              "      <td>0.000000</td>\n",
              "      <td>110</td>\n",
              "    </tr>\n",
              "    <tr>\n",
              "      <th>standard_model</th>\n",
              "      <td>0</td>\n",
              "      <td>0.000000</td>\n",
              "      <td>1168</td>\n",
              "    </tr>\n",
              "    <tr>\n",
              "      <th>vehicle_condition</th>\n",
              "      <td>0</td>\n",
              "      <td>0.000000</td>\n",
              "      <td>2</td>\n",
              "    </tr>\n",
              "    <tr>\n",
              "      <th>price</th>\n",
              "      <td>0</td>\n",
              "      <td>0.000000</td>\n",
              "      <td>30578</td>\n",
              "    </tr>\n",
              "    <tr>\n",
              "      <th>crossover_car_and_van</th>\n",
              "      <td>0</td>\n",
              "      <td>0.000000</td>\n",
              "      <td>2</td>\n",
              "    </tr>\n",
              "  </tbody>\n",
              "</table>\n",
              "</div>"
            ],
            "text/plain": [
              "                       Missing_Count  Missing_Percentage  Unique_Count\n",
              "year_of_registration           33311            0.082862            84\n",
              "reg_code                       31857            0.079245            72\n",
              "standard_colour                 5378            0.013378            22\n",
              "body_type                        837            0.002082            16\n",
              "fuel_type                        601            0.001495             9\n",
              "mileage                          127            0.000316         80634\n",
              "public_reference                   0            0.000000        402005\n",
              "standard_make                      0            0.000000           110\n",
              "standard_model                     0            0.000000          1168\n",
              "vehicle_condition                  0            0.000000             2\n",
              "price                              0            0.000000         30578\n",
              "crossover_car_and_van              0            0.000000             2"
            ]
          },
          "execution_count": 26,
          "metadata": {},
          "output_type": "execute_result"
        }
      ],
      "source": [
        "#Get the count and percentage of missing rows in the table\n",
        "\n",
        "missing_Count = rawdata.isnull().sum().sort_values(ascending=False)\n",
        "missing_Percentage =    (rawdata.isnull().sum()/rawdata.isnull().count()) .sort_values(ascending=False)\n",
        "unique_count=rawdata.nunique()\n",
        "#Concat the output values to return a dataset , setting axis=1 will make it as column\n",
        "Output = pd.concat([missing_Count, missing_Percentage, unique_count], axis=1,\n",
        "                   keys=['Missing_Count', 'Missing_Percentage', 'Unique_Count'])\n",
        "Output"
      ]
    },
    {
      "cell_type": "code",
      "execution_count": null,
      "id": "4eaa229c",
      "metadata": {
        "colab": {
          "base_uri": "https://localhost:8080/"
        },
        "id": "4eaa229c",
        "outputId": "3d1354e9-c04f-4186-f526-08b73a90fb30"
      },
      "outputs": [
        {
          "name": "stdout",
          "output_type": "stream",
          "text": [
            "Range between  120and  9999999\n",
            "\n",
            "\n",
            "Centrality: \n",
            " Mean: 17341.965798932848\n",
            "  Median :12600.0\n",
            "  Mode : 0    8995\n",
            "Name: price, dtype: int64\n",
            "\n",
            "\n",
            "Dispersion : \n",
            "  variance :  2156437779.54298\n",
            "  standard deviation : 46437.46095064824\n"
          ]
        }
      ],
      "source": [
        "# Find the Range of price,\n",
        "print(\"Range between  \"+ str(rawdata['price'].min()) +\"and  \"+str(rawdata['price'].max()))\n",
        "print(\"\")\n",
        "print(\"\")\n",
        "# Find the mean, median, and mode of the prices\n",
        "print(\"Centrality: \")\n",
        "print(\" Mean: \"+str(rawdata['price'].mean()))\n",
        "print(\"  Median :\"  + str(rawdata['price'].median()))\n",
        "print(\"  Mode : \"+str(rawdata['price'].mode()))\n",
        "print(\"\")\n",
        "print(\"\")\n",
        "# Find the variance and standard deviation of the prices\n",
        "print(\"Dispersion : \")\n",
        "print(\"  variance :  \"+ str(rawdata['price'].var()))\n",
        "print(\"  standard deviation : \"+ str(rawdata['price'].std()))"
      ]
    },
    {
      "cell_type": "code",
      "execution_count": null,
      "id": "ffd8d7c7",
      "metadata": {
        "colab": {
          "base_uri": "https://localhost:8080/",
          "height": 437
        },
        "id": "ffd8d7c7",
        "outputId": "2aea31ee-5c51-4b3a-982e-0095c868b44f"
      },
      "outputs": [
        {
          "data": {
            "image/png": "[encoded data removed]",
            "text/plain": [
              "<Figure size 432x288 with 1 Axes>"
            ]
          },
          "metadata": {
            "needs_background": "light"
          },
          "output_type": "display_data"
        }
      ],
      "source": [
        "# create a heatmap for missing values\n",
        "sns.heatmap(rawdata[[\"year_of_registration\"]].isnull(), cbar=False)\n",
        "\n",
        "# show the plot\n",
        "plt.show()"
      ]
    },
    {
      "cell_type": "code",
      "execution_count": null,
      "id": "74270b8f",
      "metadata": {
        "colab": {
          "base_uri": "https://localhost:8080/",
          "height": 472
        },
        "id": "74270b8f",
        "outputId": "3a342af7-6f0c-47db-a031-79bdb2e06e57"
      },
      "outputs": [
        {
          "data": {
            "image/png": "[encoded data removed]",
            "text/plain": [
              "<Figure size 720x144 with 1 Axes>"
            ]
          },
          "metadata": {
            "needs_background": "light"
          },
          "output_type": "display_data"
        }
      ],
      "source": [
        "# Calculate the number of missing values in each column\n",
        "missing = rawdata.isnull().sum()\n",
        "# Remove columns with 0 missing values\n",
        "missing = missing[missing> 0]\n",
        "missing\n",
        "# Create a bar chart\n",
        "plt.figure(figsize=(10,2))\n",
        "plt.bar(missing.index, missing.values,color=\"purple\")\n",
        "plt.xlabel('Columns')\n",
        "plt.ylabel('Number of Missing Values')\n",
        "plt.title('Number of Missing Values per Column')\n",
        "plt.show()"
      ]
    },
    {
      "cell_type": "markdown",
      "id": "d52447d2",
      "metadata": {
        "id": "d52447d2"
      },
      "source": [
        "###  1.4 Find Outliers and Noise"
      ]
    },
    {
      "cell_type": "markdown",
      "id": "8f8878a7",
      "metadata": {
        "id": "8f8878a7"
      },
      "source": [
        "In this section, we will be examining the identification and treatment of outliers and noise in our dataset."
      ]
    },
    {
      "cell_type": "code",
      "execution_count": null,
      "id": "ea65dc06",
      "metadata": {
        "colab": {
          "base_uri": "https://localhost:8080/",
          "height": 482
        },
        "id": "ea65dc06",
        "outputId": "e83c36db-fa67-465b-ce6a-91fcc6c6f2e2"
      },
      "outputs": [
        {
          "data": {
            "text/plain": [
              "<AxesSubplot:xlabel='year_of_registration', ylabel='price'>"
            ]
          },
          "execution_count": 30,
          "metadata": {},
          "output_type": "execute_result"
        },
        {
          "data": {
            "image/png": "[encoded data removed]",
            "text/plain": [
              "<Figure size 432x288 with 1 Axes>"
            ]
          },
          "metadata": {
            "needs_background": "light"
          },
          "output_type": "display_data"
        }
      ],
      "source": [
        "# The scatterplot for year and price\n",
        "rawdata.plot.scatter(x = 'year_of_registration', y = 'price',c = 'red')"
      ]
    },
    {
      "cell_type": "code",
      "execution_count": null,
      "id": "e514014e",
      "metadata": {
        "colab": {
          "base_uri": "https://localhost:8080/",
          "height": 482
        },
        "id": "e514014e",
        "outputId": "c7f4eea3-2fba-4697-dba2-dd0ace78b57b"
      },
      "outputs": [
        {
          "name": "stderr",
          "output_type": "stream",
          "text": [
            "*c* argument looks like a single numeric RGB or RGBA sequence, which should be avoided as value-mapping will have precedence in case its length matches with *x* & *y*.  Please use the *color* keyword-argument or provide a 2D array with a single row if you intend to specify the same RGB or RGBA value for all points.\n"
          ]
        },
        {
          "data": {
            "text/plain": [
              "<AxesSubplot:xlabel='mileage', ylabel='price'>"
            ]
          },
          "execution_count": 31,
          "metadata": {},
          "output_type": "execute_result"
        },
        {
          "data": {
            "image/png": "[encoded data removed]",
            "text/plain": [
              "<Figure size 432x288 with 1 Axes>"
            ]
          },
          "metadata": {
            "needs_background": "light"
          },
          "output_type": "display_data"
        }
      ],
      "source": [
        "# The scatterplot for mileage and price\n",
        "rawdata.plot.scatter(x = 'mileage', y = 'price')"
      ]
    },
    {
      "cell_type": "markdown",
      "id": "b903c653",
      "metadata": {
        "id": "b903c653"
      },
      "source": [
        "## 2. Data Processing"
      ]
    },
    {
      "cell_type": "markdown",
      "id": "88713d44",
      "metadata": {
        "id": "88713d44"
      },
      "source": [
        "Preprocessing data is a key phase in any data analysis project. It involves a series of techniques to clean and organize the data for further analysis. One of the important steps in data preprocessing is dealing with <strong> missing and unusual values</strong>. Missing values can appear when data is not recorded or collected correctly and can lead to inaccuracies in the analysis if not handled properly. Unusual values, also known as <strong>outliers</strong>, are data points that are significantly different from the rest of the data. These values can also cause issues in analysis if not dealt with correctly."
      ]
    },
    {
      "cell_type": "code",
      "execution_count": null,
      "id": "22f77280",
      "metadata": {
        "colab": {
          "base_uri": "https://localhost:8080/"
        },
        "id": "22f77280",
        "outputId": "835825b9-6edb-48d6-9a27-fac79bae1dd2"
      },
      "outputs": [
        {
          "data": {
            "text/plain": [
              "year_of_registration     33311\n",
              "reg_code                 31857\n",
              "standard_colour           5378\n",
              "body_type                  837\n",
              "fuel_type                  601\n",
              "mileage                    127\n",
              "public_reference             0\n",
              "standard_make                0\n",
              "standard_model               0\n",
              "vehicle_condition            0\n",
              "price                        0\n",
              "crossover_car_and_van        0\n",
              "dtype: int64"
            ]
          },
          "execution_count": 32,
          "metadata": {},
          "output_type": "execute_result"
        }
      ],
      "source": [
        "#  Count of missing values\n",
        "rawdata.isnull().sum().sort_values(ascending=False)"
      ]
    },
    {
      "cell_type": "markdown",
      "id": "9b53fbb7",
      "metadata": {
        "id": "9b53fbb7"
      },
      "source": [
        "#### 2.1 Handling Missing Values"
      ]
    },
    {
      "cell_type": "code",
      "execution_count": null,
      "id": "6354e150",
      "metadata": {
        "id": "6354e150"
      },
      "outputs": [],
      "source": [
        "#To replace all non-integer values with 0 in a column of a pandas DataFrame,\n",
        "#you can use the to_numeric() function with the errors parameter set to 'coerce'. This will convert all non-integer values to NaN, which you can then replace with 0 using the fillna() function.\n",
        "# Convert the 'c' column to numeric, replacing non-integer values with NaN\n",
        "rawdata['reg_code'] = pd.to_numeric(rawdata['reg_code'], errors='coerce')\n",
        "\n",
        "# Replace NaN values with 0\n",
        "rawdata['reg_code'] = rawdata['reg_code'].fillna(0)"
      ]
    },
    {
      "cell_type": "code",
      "execution_count": null,
      "id": "eefc03f0",
      "metadata": {
        "id": "eefc03f0"
      },
      "outputs": [],
      "source": [
        "# Function definition to calculate the year of registration from registration code with 3 input\n",
        "#I check for the vehicle type , so the NEW vehicles wont get affected\n",
        "# The year is calculated based on the reg_code with a mathematical calculation\n",
        "\n",
        "\n",
        "def find_year_from_regdate(year,regcode,vehicle_condition):\n",
        "    if(vehicle_condition.lower()!=\"new\"):\n",
        "        if math.isnan(year):\n",
        "            if 0< regcode < 23 :\n",
        "                outyear = int(regcode)+2000\n",
        "            elif regcode>=23:\n",
        "                outyear = int(regcode)+1950\n",
        "            else:\n",
        "                  outyear=year\n",
        "        else :\n",
        "            outyear=year\n",
        "    else :\n",
        "            outyear=year\n",
        "    return outyear"
      ]
    },
    {
      "cell_type": "code",
      "execution_count": null,
      "id": "65293eb6",
      "metadata": {
        "id": "65293eb6"
      },
      "outputs": [],
      "source": [
        "# filter the DataFrame to only include rows with the specified make and model\n",
        "# if there are no rows that match the specified make and model, return None\n",
        "# if there are no rows that match the specified make and model, return None\n",
        "\n",
        "def get_fuel_type( make, model,fuel_type):\n",
        "    if(pd.isnull(fuel_type)):\n",
        "        df = rawdata[(rawdata['standard_make'] == make) & (rawdata['standard_model'] == model)]\n",
        "        dfcol = df[\"fuel_type\"].loc[df[\"fuel_type\"].notna()]\n",
        "        if dfcol.shape[0] == 0:\n",
        "            outval=rawdata[\"fuel_type\"].mode().iloc[0]\n",
        "        else:\n",
        "            outval=dfcol.iloc[0]\n",
        "    else:\n",
        "        outval=fuel_type\n",
        "\n",
        "    return outval"
      ]
    },
    {
      "cell_type": "code",
      "execution_count": null,
      "id": "7d72abc8",
      "metadata": {
        "id": "7d72abc8"
      },
      "outputs": [],
      "source": [
        "# filter the DataFrame to only include rows with the specified make and model\n",
        "# if there are no rows that match the specified make and model, return None\n",
        "# if there are no rows that match the specified make and model, return None\n",
        "\n",
        "def get_body_type( make, model,body_type):\n",
        "    if(pd.isnull(body_type)):\n",
        "        df = rawdata[(rawdata['standard_make'] == make) & (rawdata['standard_model'] == model)]\n",
        "        dfcol = df[\"body_type\"].loc[df[\"body_type\"].notna()]\n",
        "        if dfcol.shape[0] == 0:\n",
        "            outval=rawdata[\"body_type\"].mode().iloc[0]\n",
        "        else:\n",
        "            outval=dfcol.iloc[0]\n",
        "    else:\n",
        "        outval=body_type\n",
        "\n",
        "    return outval"
      ]
    },
    {
      "cell_type": "code",
      "execution_count": null,
      "id": "7193e423",
      "metadata": {
        "id": "7193e423"
      },
      "outputs": [],
      "source": [
        "def get_mileage( make, model,mileage,vehicle_condition):\n",
        "\n",
        "    if(vehicle_condition.strip().lower()==\"used\"):\n",
        "        if(pd.isnull(mileage) or mileage==0):\n",
        "            df = rawdata[(rawdata['standard_make'] == make) & (rawdata['standard_model'] == model)]\n",
        "            outval = np.mean(df.mileage)\n",
        "            if(outval==np.nan):\n",
        "                outval = np.mean(rawdata.mileage)\n",
        "        else:\n",
        "            outval=mileage\n",
        "    else:\n",
        "        outval=mileage\n",
        "\n",
        "\n",
        "    return outval"
      ]
    },
    {
      "cell_type": "markdown",
      "id": "398406df",
      "metadata": {
        "id": "398406df"
      },
      "source": [
        "#### 2.2 Handling Missing Values\n",
        "\n",
        "outliers should be identified through the use of visualization, statistical analysis, or summary statistics, and a suitable approach to handling them, such as removing them, transforming the data, or leaving them as is, should be implemented."
      ]
    },
    {
      "cell_type": "code",
      "execution_count": null,
      "id": "76b57cb3",
      "metadata": {
        "colab": {
          "base_uri": "https://localhost:8080/"
        },
        "id": "76b57cb3",
        "outputId": "b91d7d63-d947-41a4-e955-e0cc046213eb"
      },
      "outputs": [
        {
          "output_type": "execute_result",
          "data": {
            "text/plain": [
              "<Axes: xlabel='year_of_registration', ylabel='price'>"
            ]
          },
          "metadata": {},
          "execution_count": 22
        },
        {
          "output_type": "display_data",
          "data": {
            "text/plain": [
              "<Figure size 640x480 with 1 Axes>"
            ],
            "image/png": "[encoded data removed]"
          },
          "metadata": {}
        }
      ],
      "source": [
        "# scatterplot for year_of_registration vs price\n",
        "rawdata.plot.scatter(x = 'year_of_registration', y = 'price')"
      ]
    },
    {
      "cell_type": "code",
      "execution_count": null,
      "id": "4a5ef6ba",
      "metadata": {
        "colab": {
          "base_uri": "https://localhost:8080/"
        },
        "id": "4a5ef6ba",
        "outputId": "f1c47330-f71a-4f2a-fa0b-b140b9aae6c1"
      },
      "outputs": [
        {
          "output_type": "execute_result",
          "data": {
            "text/plain": [
              "<Axes: xlabel='mileage', ylabel='price'>"
            ]
          },
          "metadata": {},
          "execution_count": 23
        },
        {
          "output_type": "display_data",
          "data": {
            "text/plain": [
              "<Figure size 640x480 with 1 Axes>"
            ],
            "image/png": "[encoded data removed]"
          },
          "metadata": {}
        }
      ],
      "source": [
        "# scatterplot for mileage vs price\n",
        "rawdata.plot.scatter(x = 'mileage', y = 'price')"
      ]
    },
    {
      "cell_type": "code",
      "execution_count": null,
      "id": "4cab968c",
      "metadata": {
        "colab": {
          "base_uri": "https://localhost:8080/"
        },
        "id": "4cab968c",
        "outputId": "4dcb8953-a414-484d-aa28-93c91965a4ed"
      },
      "outputs": [
        {
          "output_type": "execute_result",
          "data": {
            "text/plain": [
              "<Axes: xlabel='mileage', ylabel='price'>"
            ]
          },
          "metadata": {},
          "execution_count": 24
        },
        {
          "output_type": "display_data",
          "data": {
            "text/plain": [
              "<Figure size 640x480 with 1 Axes>"
            ],
            "image/png": "[encoded data removed]"
          },
          "metadata": {}
        }
      ],
      "source": [
        "#try deleting the outliers and plot that\n",
        "#rawdata= rawdata[rawdata[\"mileage\"]<299990]\n",
        "rawdata.plot.scatter(x = 'mileage', y = 'price')"
      ]
    },
    {
      "cell_type": "code",
      "execution_count": null,
      "id": "7db86141",
      "metadata": {
        "id": "7db86141"
      },
      "outputs": [],
      "source": [
        "# set the default color cycle to a list of colors\n",
        "plt.rcParams['axes.prop_cycle'] = plt.cycler(color=['r', 'g', 'b', 'c'])\n"
      ]
    },
    {
      "cell_type": "code",
      "execution_count": null,
      "id": "98659c63",
      "metadata": {
        "colab": {
          "base_uri": "https://localhost:8080/"
        },
        "id": "98659c63",
        "outputId": "1d10cd0d-7a62-493c-83e0-0d57321e9cb2"
      },
      "outputs": [
        {
          "output_type": "execute_result",
          "data": {
            "text/plain": [
              "(402005, 12)"
            ]
          },
          "metadata": {},
          "execution_count": 26
        }
      ],
      "source": [
        "# Check the shape of data after removing missing values and outliers\n",
        "rawdata.shape"
      ]
    },
    {
      "cell_type": "code",
      "execution_count": null,
      "id": "3d6bb821",
      "metadata": {
        "id": "3d6bb821"
      },
      "outputs": [],
      "source": [
        "class HandleMissingValuesOutlierNumericalTransformer():\n",
        "    def __init__(self):\n",
        "        pass\n",
        "\n",
        "    def fit(self, X, y=None):\n",
        "        return self\n",
        "\n",
        "    def transform(self, X):\n",
        "\n",
        "        global rawdata\n",
        "        rawdata['year_of_registration'] =rawdata.apply(lambda x:find_year_from_regdate((x['year_of_registration']),\n",
        "                                                             (x['reg_code']),(x['vehicle_condition'])), axis=1)\n",
        "        rawdata[\"mileage\"] = rawdata.apply(lambda x: get_mileage((x['standard_make']),(x['standard_model']),(x['mileage']),\n",
        "                                                         (x['vehicle_condition'])), axis=1)\n",
        "\n",
        "        #Remove the outliers in year of registration less than 1950\n",
        "        rawdata=rawdata.drop(rawdata[((rawdata['vehicle_condition']==\"USED\") &\n",
        "                 ((rawdata['year_of_registration']<1950)  | (rawdata['year_of_registration']> 2020)))].index)\n",
        "\n",
        "        rawdata=rawdata.drop(rawdata[(rawdata['year_of_registration'].isna()) & (rawdata['vehicle_condition'] == \"USED\")].index)\n",
        "        # Remove the NAN values in Mileage where the vehicle condition is USED\n",
        "\n",
        "        rawdata=rawdata.drop(rawdata[(rawdata['mileage'].isna()) & (rawdata['vehicle_condition'] == \"USED\")].index)\n",
        "        rawdata= rawdata[rawdata[\"mileage\"]<299990]\n",
        "\n",
        "        # Remove the NAN values in Mileage where the vehicle condition is USED\n",
        "        rawdata=rawdata.drop(rawdata[(rawdata['mileage'].isna()) & (rawdata['vehicle_condition'] == \"USED\")].index)\n",
        "\n",
        "        rawdata['year_of_registration'].fillna(2020, inplace=True)\n",
        "\n",
        "        return rawdata;"
      ]
    },
    {
      "cell_type": "code",
      "execution_count": null,
      "id": "5a437336",
      "metadata": {
        "id": "5a437336"
      },
      "outputs": [],
      "source": [
        "class HandleMissingValuesOutlierCategoricalTransformer():\n",
        "\n",
        "    def __init__(self):\n",
        "        pass\n",
        "\n",
        "    def fit(self, X,y=None):\n",
        "        return self\n",
        "\n",
        "    def transform(self, X):\n",
        "        global rawdata\n",
        "\n",
        "        rawdata[\"fuel_type\"] = rawdata.apply(lambda x: get_fuel_type((x['standard_make']),(x['standard_model']),\n",
        "                                                             (x['fuel_type'])), axis=1)\n",
        "\n",
        "        rawdata[\"body_type\"] = rawdata.apply(lambda x: get_body_type((x['standard_make']),(x['standard_model']),\n",
        "                                                             (x['body_type'])), axis=1)\n",
        "\n",
        "        rawdata[\"standard_colour\"]=rawdata[\"standard_colour\"].fillna(rawdata[\"standard_colour\"].mode().iloc[0])\n",
        "\n",
        "        return rawdata;"
      ]
    },
    {
      "cell_type": "markdown",
      "id": "a1735a1e",
      "metadata": {
        "id": "a1735a1e"
      },
      "source": [
        "## Encoding\n",
        "\n",
        "Hypothesis: Certain combinations of category characteristics may have a greater impact on the estimated selling price than individual variables alone, according to the dataset. One-hot encoding would be appropriate for categorical variables with a small number of unique values, such as \"body_type\" with just 16 distinct values. One-hot encoding, on the other hand, would result in a significant number of extra columns for categorical variables with a large number of unique values, such as \"standard_model\" with 1168 unique values, which may result in the curse of dimensionality. Label encoding may be more appropriate in such instances.\n",
        "\n",
        "\tI used label encoding on the 'standard_make,' 'standard_model', and 'standard_colour' columns because they have a significant number of unique values and label encoding can assist minimise data dimensionality.\n",
        "\n",
        "\tFor the 'body_type' and 'fuel_type' columns, I utilised one hot encoding because these columns have a small number of unique values, and one hot encoding can help capture the category information without sacrificing any information.\n",
        "\n",
        "\n",
        "### One - hot Encoding\n",
        "\n",
        "Certain combinations of category characteristics may have a greater impact on the estimated selling price than individual variables alone, according to the dataset. We can capture these combinations and perhaps increase the performance of our machine-learning models by employing one-hot encoding."
      ]
    },
    {
      "cell_type": "markdown",
      "id": "c8da082f",
      "metadata": {
        "id": "c8da082f"
      },
      "source": [
        "### Target Encoding\n",
        "\n",
        "A method for transforming category variables into numerical values based on the target variable is called target encoding. Target encoding considers the association between the categorical variable and the target variable as opposed to label encoding, which gives each category a numerical value.\n",
        "Target encoding includes substituting the average value of the target variable for each category in the categorical variable. This implies that the average value of the target variable for each category is replaced with a numerical number."
      ]
    },
    {
      "cell_type": "markdown",
      "id": "4ea0484c",
      "metadata": {
        "id": "4ea0484c"
      },
      "source": [
        "### 2.3 Feature Prepossessing Pipeline"
      ]
    },
    {
      "cell_type": "code",
      "execution_count": null,
      "id": "01133ee6",
      "metadata": {
        "id": "01133ee6",
        "outputId": "96529ba1-4b56-4f17-fc8f-7add3bba1f67",
        "colab": {
          "base_uri": "https://localhost:8080/"
        }
      },
      "outputs": [
        {
          "output_type": "stream",
          "name": "stdout",
          "text": [
            "Index(['public_reference', 'mileage', 'reg_code', 'standard_colour',\n",
            "       'standard_make', 'standard_model', 'vehicle_condition',\n",
            "       'year_of_registration', 'price', 'body_type', 'crossover_car_and_van',\n",
            "       'fuel_type'],\n",
            "      dtype='object')\n"
          ]
        }
      ],
      "source": [
        "print(rawdata.columns)"
      ]
    },
    {
      "cell_type": "markdown",
      "id": "337e7962",
      "metadata": {
        "id": "337e7962"
      },
      "source": [
        "#### 1.  Power Transform for Mileage\n",
        "\n",
        "Power transformation is a technique used to transform data to make it more normally distributed. In the context of machine learning, it can be useful to apply a power transform to certain features, such as mileage, to help improve the performance of models that assume normally distributed data. This is because many machine learning algorithms, such as linear regression and logistic regression, rely on the assumption of normally distributed data. By transforming the data to have a more normal distribution, we can improve the performance of these models"
      ]
    },
    {
      "cell_type": "markdown",
      "id": "24b59b24",
      "metadata": {
        "id": "24b59b24"
      },
      "source": [
        "#### 2. Convert the data type by replacing the values"
      ]
    },
    {
      "cell_type": "markdown",
      "id": "8740249c",
      "metadata": {
        "id": "8740249c"
      },
      "source": [
        "Converting the feature type is a process of changing the format or data type of a feature to make it more compatible with certain data analysis tools or models. For example, in this case, the vehicle condition feature has two distinct values, \"NEW\" or \"USED\", which may be more easily represented numerically. This conversion can be done by replacing \"NEW\" with 1 and \"USED\" with 0"
      ]
    },
    {
      "cell_type": "markdown",
      "id": "fe8c46c5",
      "metadata": {
        "id": "fe8c46c5"
      },
      "source": [
        "#### 3. Calculate the vehicle age from year of registration\n",
        "#One of the most common feature engineering methods is to create new features that are the linear / polynomial combination of the existing ones. This becomes useful for providing more information to a predictive model to improve its performance."
      ]
    },
    {
      "cell_type": "markdown",
      "id": "025e8d81",
      "metadata": {
        "id": "025e8d81"
      },
      "source": [
        "#### 4. Remove unwanted features"
      ]
    },
    {
      "cell_type": "markdown",
      "id": "d08e38bc",
      "metadata": {
        "id": "d08e38bc"
      },
      "source": [
        "Remove the features that are already encoded."
      ]
    },
    {
      "cell_type": "code",
      "execution_count": null,
      "id": "2341ae4c",
      "metadata": {
        "id": "2341ae4c"
      },
      "outputs": [],
      "source": [
        "class FeatureEngineeringPreprocessing():\n",
        "\n",
        "    def __init__(self):\n",
        "        pass\n",
        "\n",
        "    def fit(self, X, y=None):\n",
        "        return self\n",
        "\n",
        "    def transform(self, X):\n",
        "\n",
        "        global rawdata\n",
        "\n",
        "        mileage_df = rawdata[['mileage']]\n",
        "        pt = PowerTransformer()\n",
        "        mileage_df_pt = pt.fit_transform(mileage_df)\n",
        "        rawdata['mileage_pt']=mileage_df_pt\n",
        "        # drop the original categorical columns\n",
        "        #rawdata.drop(columns=[\"mileage\"], inplace=True)\n",
        "\n",
        "        #Convert the data type by replacing the values\n",
        "        rawdata['vehicle_condition'] = rawdata['vehicle_condition'].replace({'NEW': 1, 'USED': 0})\n",
        "\n",
        "        #Calculate the vehicle age from year of registration\n",
        "        rawdata['vehicle_age'] =datetime.datetime.now().year- rawdata['year_of_registration']\n",
        "\n",
        "        rawdata.loc[rawdata['year_of_registration'].isnull(), 'vehicle_age'] = 0\n",
        "\n",
        "        #Since all values are unnecessary - will drop the column\n",
        "        rawdata = rawdata.drop(labels=['reg_code',\"public_reference\",\"year_of_registration\"], axis=1)\n",
        "\n",
        "        return rawdata;"
      ]
    },
    {
      "cell_type": "markdown",
      "id": "91899b62",
      "metadata": {
        "id": "91899b62"
      },
      "source": [
        "### Rescale the Data\n",
        "\n",
        "#### Hypothesis\n",
        " Rescaling the data using standardization or min-max scaling can improve the performance of machine learning models by ensuring that all features are on the same scale, thereby preventing certain features from dominating others. I tried both MinMaxScaler and StandardScaler and found MinMax have better performance on models."
      ]
    },
    {
      "cell_type": "markdown",
      "id": "f877d4cf",
      "metadata": {
        "id": "f877d4cf"
      },
      "source": [
        "#### Analysis\n",
        "    “ If the data has a normal distribution and a relatively small range, then standardization (Z-score normalization) can be a good option. If the data has a wide range and does not have a normal distribution, then Min-Max Scaling may be more appropriate.”\n"
      ]
    },
    {
      "cell_type": "markdown",
      "id": "162ca0a8",
      "metadata": {
        "id": "162ca0a8"
      },
      "source": [
        "## Feature Engineering"
      ]
    },
    {
      "cell_type": "code",
      "execution_count": null,
      "id": "88f0a57c",
      "metadata": {
        "colab": {
          "base_uri": "https://localhost:8080/",
          "height": 497
        },
        "id": "88f0a57c",
        "outputId": "218aef20-30a6-4130-fee4-6e59af71d612"
      },
      "outputs": [
        {
          "output_type": "execute_result",
          "data": {
            "text/plain": [
              "Text(0, 0.5, 'mileage')"
            ]
          },
          "metadata": {},
          "execution_count": 31
        },
        {
          "output_type": "display_data",
          "data": {
            "text/plain": [
              "<Figure size 700x500 with 1 Axes>"
            ],
            "image/png": "[encoded data removed]"
          },
          "metadata": {}
        }
      ],
      "source": [
        "fig,ax=plt.subplots(figsize=(7,5))\n",
        "ax.scatter(rawdata['standard_make'],rawdata['mileage'],s=rawdata['price'],c=rawdata['price']);\n",
        "ax.set_xlabel('standard_make & price');\n",
        "ax.set_ylabel('mileage')"
      ]
    },
    {
      "cell_type": "code",
      "execution_count": null,
      "id": "f29832c3",
      "metadata": {
        "colab": {
          "base_uri": "https://localhost:8080/",
          "height": 480
        },
        "id": "f29832c3",
        "outputId": "8c19efa8-e1c5-47b4-e9f5-72db11212996"
      },
      "outputs": [
        {
          "output_type": "display_data",
          "data": {
            "text/plain": [
              "<Figure size 700x500 with 1 Axes>"
            ],
            "image/png": "[encoded data removed]"
          },
          "metadata": {}
        }
      ],
      "source": [
        "\n",
        "fig,ax=plt.subplots(figsize=(7,5))\n",
        "ax.scatter(rawdata['year_of_registration'],rawdata['mileage'],s=rawdata['price'],c=rawdata['price']);\n",
        "ax.set_xlabel('year_of_registration & Mileage');\n",
        "ax.set_ylabel('mileage');"
      ]
    },
    {
      "cell_type": "markdown",
      "id": "80c39178",
      "metadata": {
        "id": "80c39178"
      },
      "source": [
        "Before separating the data, I used some feature engineering approaches to improve the dataset's quality. First, I used Power Transformation on the Mileage feature to convert the data to a normal distribution. I transformed the \"USED/NEW\" feature to aid in the data's simplicity for simpler interpretation and visualisation. Computed the age of each vehicle in the dataset. This additional element aided in better understanding the relationship between the vehicle's age. Removed the features that were no longer relevant for modelling. Finally, I tested the impact of various scaling approaches, such as MinMax and Standardisation, on the performance of machine learning models. To guarantee that the generated subsets were representative of the original dataset, all of these pre-processing stages were conducted before splitting the data into train, validation, and test sets.\n",
        "\n",
        "With the insights I obtained from the Machine Learning project I did last semester and research in the Auto resale industry; I was able to identify the most important features for the project. Based on my previous experience, I have chosen standard make, body type, mileage, and vehicle age as the most relevant features for this dataset. I felt all these features are interdependent.\n"
      ]
    },
    {
      "cell_type": "code",
      "execution_count": null,
      "id": "e003b4a7",
      "metadata": {
        "colab": {
          "base_uri": "https://localhost:8080/",
          "height": 159
        },
        "id": "e003b4a7",
        "outputId": "04143bd0-fa41-41a1-c0a4-bc85852699d5"
      },
      "outputs": [
        {
          "output_type": "execute_result",
          "data": {
            "text/plain": [
              "Pipeline(steps=[('Custom_imputer_Num',\n",
              "                 <__main__.HandleMissingValuesOutlierCategoricalTransformer object at 0x7ff40cdb2d70>),\n",
              "                ('Custom_imputer_cat',\n",
              "                 <__main__.HandleMissingValuesOutlierNumericalTransformer object at 0x7ff40cdb29e0>),\n",
              "                ('feature_preprocessing',\n",
              "                 <__main__.FeatureEngineeringPreprocessing object at 0x7ff4103d8e20>)])"
            ],
            "text/html": [
              "<style>#sk-container-id-1 {color: black;background-color: white;}#sk-container-id-1 pre{padding: 0;}#sk-container-id-1 div.sk-toggleable {background-color: white;}#sk-container-id-1 label.sk-toggleable__label {cursor: pointer;display: block;width: 100%;margin-bottom: 0;padding: 0.3em;box-sizing: border-box;text-align: center;}#sk-container-id-1 label.sk-toggleable__label-arrow:before {content: \"▸\";float: left;margin-right: 0.25em;color: #696969;}#sk-container-id-1 label.sk-toggleable__label-arrow:hover:before {color: black;}#sk-container-id-1 div.sk-estimator:hover label.sk-toggleable__label-arrow:before {color: black;}#sk-container-id-1 div.sk-toggleable__content {max-height: 0;max-width: 0;overflow: hidden;text-align: left;background-color: #f0f8ff;}#sk-container-id-1 div.sk-toggleable__content pre {margin: 0.2em;color: black;border-radius: 0.25em;background-color: #f0f8ff;}#sk-container-id-1 input.sk-toggleable__control:checked~div.sk-toggleable__content {max-height: 200px;max-width: 100%;overflow: auto;}#sk-container-id-1 input.sk-toggleable__control:checked~label.sk-toggleable__label-arrow:before {content: \"▾\";}#sk-container-id-1 div.sk-estimator input.sk-toggleable__control:checked~label.sk-toggleable__label {background-color: #d4ebff;}#sk-container-id-1 div.sk-label input.sk-toggleable__control:checked~label.sk-toggleable__label {background-color: #d4ebff;}#sk-container-id-1 input.sk-hidden--visually {border: 0;clip: rect(1px 1px 1px 1px);clip: rect(1px, 1px, 1px, 1px);height: 1px;margin: -1px;overflow: hidden;padding: 0;position: absolute;width: 1px;}#sk-container-id-1 div.sk-estimator {font-family: monospace;background-color: #f0f8ff;border: 1px dotted black;border-radius: 0.25em;box-sizing: border-box;margin-bottom: 0.5em;}#sk-container-id-1 div.sk-estimator:hover {background-color: #d4ebff;}#sk-container-id-1 div.sk-parallel-item::after {content: \"\";width: 100%;border-bottom: 1px solid gray;flex-grow: 1;}#sk-container-id-1 div.sk-label:hover label.sk-toggleable__label {background-color: #d4ebff;}#sk-container-id-1 div.sk-serial::before {content: \"\";position: absolute;border-left: 1px solid gray;box-sizing: border-box;top: 0;bottom: 0;left: 50%;z-index: 0;}#sk-container-id-1 div.sk-serial {display: flex;flex-direction: column;align-items: center;background-color: white;padding-right: 0.2em;padding-left: 0.2em;position: relative;}#sk-container-id-1 div.sk-item {position: relative;z-index: 1;}#sk-container-id-1 div.sk-parallel {display: flex;align-items: stretch;justify-content: center;background-color: white;position: relative;}#sk-container-id-1 div.sk-item::before, #sk-container-id-1 div.sk-parallel-item::before {content: \"\";position: absolute;border-left: 1px solid gray;box-sizing: border-box;top: 0;bottom: 0;left: 50%;z-index: -1;}#sk-container-id-1 div.sk-parallel-item {display: flex;flex-direction: column;z-index: 1;position: relative;background-color: white;}#sk-container-id-1 div.sk-parallel-item:first-child::after {align-self: flex-end;width: 50%;}#sk-container-id-1 div.sk-parallel-item:last-child::after {align-self: flex-start;width: 50%;}#sk-container-id-1 div.sk-parallel-item:only-child::after {width: 0;}#sk-container-id-1 div.sk-dashed-wrapped {border: 1px dashed gray;margin: 0 0.4em 0.5em 0.4em;box-sizing: border-box;padding-bottom: 0.4em;background-color: white;}#sk-container-id-1 div.sk-label label {font-family: monospace;font-weight: bold;display: inline-block;line-height: 1.2em;}#sk-container-id-1 div.sk-label-container {text-align: center;}#sk-container-id-1 div.sk-container {/* jupyter's `normalize.less` sets `[hidden] { display: none; }` but bootstrap.min.css set `[hidden] { display: none !important; }` so we also need the `!important` here to be able to override the default hidden behavior on the sphinx rendered scikit-learn.org. See: https://github.com/scikit-learn/scikit-learn/issues/21755 */display: inline-block !important;position: relative;}#sk-container-id-1 div.sk-text-repr-fallback {display: none;}</style><div id=\"sk-container-id-1\" class=\"sk-top-container\"><div class=\"sk-text-repr-fallback\"><pre>Pipeline(steps=[(&#x27;Custom_imputer_Num&#x27;,\n",
              "                 &lt;__main__.HandleMissingValuesOutlierCategoricalTransformer object at 0x7ff40cdb2d70&gt;),\n",
              "                (&#x27;Custom_imputer_cat&#x27;,\n",
              "                 &lt;__main__.HandleMissingValuesOutlierNumericalTransformer object at 0x7ff40cdb29e0&gt;),\n",
              "                (&#x27;feature_preprocessing&#x27;,\n",
              "                 &lt;__main__.FeatureEngineeringPreprocessing object at 0x7ff4103d8e20&gt;)])</pre><b>In a Jupyter environment, please rerun this cell to show the HTML representation or trust the notebook. <br />On GitHub, the HTML representation is unable to render, please try loading this page with nbviewer.org.</b></div><div class=\"sk-container\" hidden><div class=\"sk-item sk-dashed-wrapped\"><div class=\"sk-label-container\"><div class=\"sk-label sk-toggleable\"><input class=\"sk-toggleable__control sk-hidden--visually\" id=\"sk-estimator-id-1\" type=\"checkbox\" ><label for=\"sk-estimator-id-1\" class=\"sk-toggleable__label sk-toggleable__label-arrow\">Pipeline</label><div class=\"sk-toggleable__content\"><pre>Pipeline(steps=[(&#x27;Custom_imputer_Num&#x27;,\n",
              "                 &lt;__main__.HandleMissingValuesOutlierCategoricalTransformer object at 0x7ff40cdb2d70&gt;),\n",
              "                (&#x27;Custom_imputer_cat&#x27;,\n",
              "                 &lt;__main__.HandleMissingValuesOutlierNumericalTransformer object at 0x7ff40cdb29e0&gt;),\n",
              "                (&#x27;feature_preprocessing&#x27;,\n",
              "                 &lt;__main__.FeatureEngineeringPreprocessing object at 0x7ff4103d8e20&gt;)])</pre></div></div></div><div class=\"sk-serial\"><div class=\"sk-item\"><div class=\"sk-estimator sk-toggleable\"><input class=\"sk-toggleable__control sk-hidden--visually\" id=\"sk-estimator-id-2\" type=\"checkbox\" ><label for=\"sk-estimator-id-2\" class=\"sk-toggleable__label sk-toggleable__label-arrow\">HandleMissingValuesOutlierCategoricalTransformer</label><div class=\"sk-toggleable__content\"><pre>&lt;__main__.HandleMissingValuesOutlierCategoricalTransformer object at 0x7ff40cdb2d70&gt;</pre></div></div></div><div class=\"sk-item\"><div class=\"sk-estimator sk-toggleable\"><input class=\"sk-toggleable__control sk-hidden--visually\" id=\"sk-estimator-id-3\" type=\"checkbox\" ><label for=\"sk-estimator-id-3\" class=\"sk-toggleable__label sk-toggleable__label-arrow\">HandleMissingValuesOutlierNumericalTransformer</label><div class=\"sk-toggleable__content\"><pre>&lt;__main__.HandleMissingValuesOutlierNumericalTransformer object at 0x7ff40cdb29e0&gt;</pre></div></div></div><div class=\"sk-item\"><div class=\"sk-estimator sk-toggleable\"><input class=\"sk-toggleable__control sk-hidden--visually\" id=\"sk-estimator-id-4\" type=\"checkbox\" ><label for=\"sk-estimator-id-4\" class=\"sk-toggleable__label sk-toggleable__label-arrow\">FeatureEngineeringPreprocessing</label><div class=\"sk-toggleable__content\"><pre>&lt;__main__.FeatureEngineeringPreprocessing object at 0x7ff4103d8e20&gt;</pre></div></div></div></div></div></div></div>"
            ]
          },
          "metadata": {},
          "execution_count": 33
        }
      ],
      "source": [
        "preprocessor = Pipeline(\n",
        "    steps=[\n",
        "        (\"Custom_imputer_Num\", HandleMissingValuesOutlierCategoricalTransformer()),\n",
        "        (\"Custom_imputer_cat\", HandleMissingValuesOutlierNumericalTransformer()),\n",
        "        (\"feature_preprocessing\", FeatureEngineeringPreprocessing())\n",
        "    ]\n",
        ")\n",
        "preprocessor"
      ]
    },
    {
      "cell_type": "code",
      "execution_count": null,
      "id": "be6af943",
      "metadata": {
        "id": "be6af943"
      },
      "outputs": [],
      "source": [
        "rawdata= preprocessor.fit_transform(rawdata)"
      ]
    },
    {
      "cell_type": "code",
      "execution_count": null,
      "id": "99f99c97",
      "metadata": {
        "colab": {
          "base_uri": "https://localhost:8080/"
        },
        "id": "99f99c97",
        "outputId": "494b6fde-c6fc-4399-fb34-343672aa8f4e"
      },
      "outputs": [
        {
          "output_type": "execute_result",
          "data": {
            "text/plain": [
              "mileage                  0\n",
              "standard_colour          0\n",
              "standard_make            0\n",
              "standard_model           0\n",
              "vehicle_condition        0\n",
              "price                    0\n",
              "body_type                0\n",
              "crossover_car_and_van    0\n",
              "fuel_type                0\n",
              "mileage_pt               0\n",
              "vehicle_age              0\n",
              "dtype: int64"
            ]
          },
          "metadata": {},
          "execution_count": 35
        }
      ],
      "source": [
        "#  Count of missing values\n",
        "rawdata.isnull().sum().sort_values(ascending=False)"
      ]
    },
    {
      "cell_type": "markdown",
      "id": "1288fa15",
      "metadata": {
        "id": "1288fa15"
      },
      "source": [
        "### Data Sampling\n",
        "We have many data sampling techniques including Simple random sampling, Stratified sampling, Cluster sampling, Systematic sampling, and Multi-stage sampling.\n",
        "\n",
        "I chose to use Stratified sampling beacuase , when subsetting ou data, stratified sampling is a suitable technique to ensure representation from all standard car makes. This technique allows to divide the dataset into groups based on make, and then select a specified number of observations from each group"
      ]
    },
    {
      "cell_type": "code",
      "execution_count": null,
      "id": "24d30d99",
      "metadata": {
        "id": "24d30d99"
      },
      "outputs": [],
      "source": [
        "# Divide the dataset into groups based on standard_make\n",
        "Sampled_vehicles_Group = rawdata.groupby('standard_make')\n",
        "\n",
        "# Select 50 observations from each group\n",
        "Sampled_vehicles_df = pd.concat([a.sample(3000,random_state=0,replace=True) for _, a in Sampled_vehicles_Group])\n",
        "\n",
        "# Shuffle the DataFrame by row\n",
        "Sampled_vehicles_df = Sampled_vehicles_df.iloc[np.random.permutation(len(Sampled_vehicles_df))]\n",
        "\n",
        "# Reset the index of the shuffled DataFrame\n",
        "Sampled_vehicles_df = Sampled_vehicles_df.reset_index(drop=True)"
      ]
    },
    {
      "cell_type": "code",
      "execution_count": null,
      "id": "14057df7",
      "metadata": {
        "colab": {
          "base_uri": "https://localhost:8080/",
          "height": 487
        },
        "id": "14057df7",
        "outputId": "9c11f30a-caaa-470b-89bc-c076808ac38c"
      },
      "outputs": [
        {
          "output_type": "execute_result",
          "data": {
            "text/plain": [
              "         mileage standard_colour standard_make standard_model  \\\n",
              "0        46000.0          Silver         Noble            M12   \n",
              "1        12500.0          Maroon       Sebring            MXR   \n",
              "2        35000.0           Black        Morgan     Plus Eight   \n",
              "3        24080.0            Blue        Toyota          Auris   \n",
              "4            0.0            Grey    Volkswagen           Golf   \n",
              "...          ...             ...           ...            ...   \n",
              "323995  195668.0           White         Buick        Riviera   \n",
              "323996   33325.0           White          Audi             A1   \n",
              "323997   58000.0            Grey       Maybach             62   \n",
              "323998  117250.0           Black        Lancia          Delta   \n",
              "323999   25000.0          Silver      Daihatsu         Terios   \n",
              "\n",
              "        vehicle_condition  price    body_type  crossover_car_and_van  \\\n",
              "0                       0  42980        Coupe                  False   \n",
              "1                       0  26000  Convertible                  False   \n",
              "2                       0  34995  Convertible                  False   \n",
              "3                       0   7950    Hatchback                  False   \n",
              "4                       1  24841    Hatchback                  False   \n",
              "...                   ...    ...          ...                    ...   \n",
              "323995                  0   7500       Saloon                  False   \n",
              "323996                  0  12000    Hatchback                  False   \n",
              "323997                  0  79995    Limousine                  False   \n",
              "323998                  0  49995    Hatchback                  False   \n",
              "323999                  0   3800          SUV                  False   \n",
              "\n",
              "       fuel_type  mileage_pt  vehicle_age  \n",
              "0         Petrol    0.520446         20.0  \n",
              "1         Petrol   -0.478331         15.0  \n",
              "2         Petrol    0.269622         27.0  \n",
              "3         Petrol   -0.035234          9.0  \n",
              "4         Petrol   -2.054485          3.0  \n",
              "...          ...         ...          ...  \n",
              "323995    Petrol    2.364055          4.0  \n",
              "323996    Petrol    0.227218          7.0  \n",
              "323997    Petrol    0.753846         15.0  \n",
              "323998    Petrol    1.597562         26.0  \n",
              "323999    Petrol   -0.006523         17.0  \n",
              "\n",
              "[324000 rows x 11 columns]"
            ],
            "text/html": [
              "\n",
              "  <div id=\"df-c6610704-29d1-46c0-9e3e-efc4bf2c8bb7\">\n",
              "    <div class=\"colab-df-container\">\n",
              "      <div>\n",
              "<style scoped>\n",
              "    .dataframe tbody tr th:only-of-type {\n",
              "        vertical-align: middle;\n",
              "    }\n",
              "\n",
              "    .dataframe tbody tr th {\n",
              "        vertical-align: top;\n",
              "    }\n",
              "\n",
              "    .dataframe thead th {\n",
              "        text-align: right;\n",
              "    }\n",
              "</style>\n",
              "<table border=\"1\" class=\"dataframe\">\n",
              "  <thead>\n",
              "    <tr style=\"text-align: right;\">\n",
              "      <th></th>\n",
              "      <th>mileage</th>\n",
              "      <th>standard_colour</th>\n",
              "      <th>standard_make</th>\n",
              "      <th>standard_model</th>\n",
              "      <th>vehicle_condition</th>\n",
              "      <th>price</th>\n",
              "      <th>body_type</th>\n",
              "      <th>crossover_car_and_van</th>\n",
              "      <th>fuel_type</th>\n",
              "      <th>mileage_pt</th>\n",
              "      <th>vehicle_age</th>\n",
              "    </tr>\n",
              "  </thead>\n",
              "  <tbody>\n",
              "    <tr>\n",
              "      <th>0</th>\n",
              "      <td>46000.0</td>\n",
              "      <td>Silver</td>\n",
              "      <td>Noble</td>\n",
              "      <td>M12</td>\n",
              "      <td>0</td>\n",
              "      <td>42980</td>\n",
              "      <td>Coupe</td>\n",
              "      <td>False</td>\n",
              "      <td>Petrol</td>\n",
              "      <td>0.520446</td>\n",
              "      <td>20.0</td>\n",
              "    </tr>\n",
              "    <tr>\n",
              "      <th>1</th>\n",
              "      <td>12500.0</td>\n",
              "      <td>Maroon</td>\n",
              "      <td>Sebring</td>\n",
              "      <td>MXR</td>\n",
              "      <td>0</td>\n",
              "      <td>26000</td>\n",
              "      <td>Convertible</td>\n",
              "      <td>False</td>\n",
              "      <td>Petrol</td>\n",
              "      <td>-0.478331</td>\n",
              "      <td>15.0</td>\n",
              "    </tr>\n",
              "    <tr>\n",
              "      <th>2</th>\n",
              "      <td>35000.0</td>\n",
              "      <td>Black</td>\n",
              "      <td>Morgan</td>\n",
              "      <td>Plus Eight</td>\n",
              "      <td>0</td>\n",
              "      <td>34995</td>\n",
              "      <td>Convertible</td>\n",
              "      <td>False</td>\n",
              "      <td>Petrol</td>\n",
              "      <td>0.269622</td>\n",
              "      <td>27.0</td>\n",
              "    </tr>\n",
              "    <tr>\n",
              "      <th>3</th>\n",
              "      <td>24080.0</td>\n",
              "      <td>Blue</td>\n",
              "      <td>Toyota</td>\n",
              "      <td>Auris</td>\n",
              "      <td>0</td>\n",
              "      <td>7950</td>\n",
              "      <td>Hatchback</td>\n",
              "      <td>False</td>\n",
              "      <td>Petrol</td>\n",
              "      <td>-0.035234</td>\n",
              "      <td>9.0</td>\n",
              "    </tr>\n",
              "    <tr>\n",
              "      <th>4</th>\n",
              "      <td>0.0</td>\n",
              "      <td>Grey</td>\n",
              "      <td>Volkswagen</td>\n",
              "      <td>Golf</td>\n",
              "      <td>1</td>\n",
              "      <td>24841</td>\n",
              "      <td>Hatchback</td>\n",
              "      <td>False</td>\n",
              "      <td>Petrol</td>\n",
              "      <td>-2.054485</td>\n",
              "      <td>3.0</td>\n",
              "    </tr>\n",
              "    <tr>\n",
              "      <th>...</th>\n",
              "      <td>...</td>\n",
              "      <td>...</td>\n",
              "      <td>...</td>\n",
              "      <td>...</td>\n",
              "      <td>...</td>\n",
              "      <td>...</td>\n",
              "      <td>...</td>\n",
              "      <td>...</td>\n",
              "      <td>...</td>\n",
              "      <td>...</td>\n",
              "      <td>...</td>\n",
              "    </tr>\n",
              "    <tr>\n",
              "      <th>323995</th>\n",
              "      <td>195668.0</td>\n",
              "      <td>White</td>\n",
              "      <td>Buick</td>\n",
              "      <td>Riviera</td>\n",
              "      <td>0</td>\n",
              "      <td>7500</td>\n",
              "      <td>Saloon</td>\n",
              "      <td>False</td>\n",
              "      <td>Petrol</td>\n",
              "      <td>2.364055</td>\n",
              "      <td>4.0</td>\n",
              "    </tr>\n",
              "    <tr>\n",
              "      <th>323996</th>\n",
              "      <td>33325.0</td>\n",
              "      <td>White</td>\n",
              "      <td>Audi</td>\n",
              "      <td>A1</td>\n",
              "      <td>0</td>\n",
              "      <td>12000</td>\n",
              "      <td>Hatchback</td>\n",
              "      <td>False</td>\n",
              "      <td>Petrol</td>\n",
              "      <td>0.227218</td>\n",
              "      <td>7.0</td>\n",
              "    </tr>\n",
              "    <tr>\n",
              "      <th>323997</th>\n",
              "      <td>58000.0</td>\n",
              "      <td>Grey</td>\n",
              "      <td>Maybach</td>\n",
              "      <td>62</td>\n",
              "      <td>0</td>\n",
              "      <td>79995</td>\n",
              "      <td>Limousine</td>\n",
              "      <td>False</td>\n",
              "      <td>Petrol</td>\n",
              "      <td>0.753846</td>\n",
              "      <td>15.0</td>\n",
              "    </tr>\n",
              "    <tr>\n",
              "      <th>323998</th>\n",
              "      <td>117250.0</td>\n",
              "      <td>Black</td>\n",
              "      <td>Lancia</td>\n",
              "      <td>Delta</td>\n",
              "      <td>0</td>\n",
              "      <td>49995</td>\n",
              "      <td>Hatchback</td>\n",
              "      <td>False</td>\n",
              "      <td>Petrol</td>\n",
              "      <td>1.597562</td>\n",
              "      <td>26.0</td>\n",
              "    </tr>\n",
              "    <tr>\n",
              "      <th>323999</th>\n",
              "      <td>25000.0</td>\n",
              "      <td>Silver</td>\n",
              "      <td>Daihatsu</td>\n",
              "      <td>Terios</td>\n",
              "      <td>0</td>\n",
              "      <td>3800</td>\n",
              "      <td>SUV</td>\n",
              "      <td>False</td>\n",
              "      <td>Petrol</td>\n",
              "      <td>-0.006523</td>\n",
              "      <td>17.0</td>\n",
              "    </tr>\n",
              "  </tbody>\n",
              "</table>\n",
              "<p>324000 rows × 11 columns</p>\n",
              "</div>\n",
              "      <button class=\"colab-df-convert\" onclick=\"convertToInteractive('df-c6610704-29d1-46c0-9e3e-efc4bf2c8bb7')\"\n",
              "              title=\"Convert this dataframe to an interactive table.\"\n",
              "              style=\"display:none;\">\n",
              "        \n",
              "  <svg xmlns=\"http://www.w3.org/2000/svg\" height=\"24px\"viewBox=\"0 0 24 24\"\n",
              "       width=\"24px\">\n",
              "    <path d=\"M0 0h24v24H0V0z\" fill=\"none\"/>\n",
              "    <path d=\"M18.56 5.44l.94 2.06.94-2.06 2.06-.94-2.06-.94-.94-2.06-.94 2.06-2.06.94zm-11 1L8.5 8.5l.94-2.06 2.06-.94-2.06-.94L8.5 2.5l-.94 2.06-2.06.94zm10 10l.94 2.06.94-2.06 2.06-.94-2.06-.94-.94-2.06-.94 2.06-2.06.94z\"/><path d=\"M17.41 7.96l-1.37-1.37c-.4-.4-.92-.59-1.43-.59-.52 0-1.04.2-1.43.59L10.3 9.45l-7.72 7.72c-.78.78-.78 2.05 0 2.83L4 21.41c.39.39.9.59 1.41.59.51 0 1.02-.2 1.41-.59l7.78-7.78 2.81-2.81c.8-.78.8-2.07 0-2.86zM5.41 20L4 18.59l7.72-7.72 1.47 1.35L5.41 20z\"/>\n",
              "  </svg>\n",
              "      </button>\n",
              "      \n",
              "  <style>\n",
              "    .colab-df-container {\n",
              "      display:flex;\n",
              "      flex-wrap:wrap;\n",
              "      gap: 12px;\n",
              "    }\n",
              "\n",
              "    .colab-df-convert {\n",
              "      background-color: #E8F0FE;\n",
              "      border: none;\n",
              "      border-radius: 50%;\n",
              "      cursor: pointer;\n",
              "      display: none;\n",
              "      fill: #1967D2;\n",
              "      height: 32px;\n",
              "      padding: 0 0 0 0;\n",
              "      width: 32px;\n",
              "    }\n",
              "\n",
              "    .colab-df-convert:hover {\n",
              "      background-color: #E2EBFA;\n",
              "      box-shadow: 0px 1px 2px rgba(60, 64, 67, 0.3), 0px 1px 3px 1px rgba(60, 64, 67, 0.15);\n",
              "      fill: #174EA6;\n",
              "    }\n",
              "\n",
              "    [theme=dark] .colab-df-convert {\n",
              "      background-color: #3B4455;\n",
              "      fill: #D2E3FC;\n",
              "    }\n",
              "\n",
              "    [theme=dark] .colab-df-convert:hover {\n",
              "      background-color: #434B5C;\n",
              "      box-shadow: 0px 1px 3px 1px rgba(0, 0, 0, 0.15);\n",
              "      filter: drop-shadow(0px 1px 2px rgba(0, 0, 0, 0.3));\n",
              "      fill: #FFFFFF;\n",
              "    }\n",
              "  </style>\n",
              "\n",
              "      <script>\n",
              "        const buttonEl =\n",
              "          document.querySelector('#df-c6610704-29d1-46c0-9e3e-efc4bf2c8bb7 button.colab-df-convert');\n",
              "        buttonEl.style.display =\n",
              "          google.colab.kernel.accessAllowed ? 'block' : 'none';\n",
              "\n",
              "        async function convertToInteractive(key) {\n",
              "          const element = document.querySelector('#df-c6610704-29d1-46c0-9e3e-efc4bf2c8bb7');\n",
              "          const dataTable =\n",
              "            await google.colab.kernel.invokeFunction('convertToInteractive',\n",
              "                                                     [key], {});\n",
              "          if (!dataTable) return;\n",
              "\n",
              "          const docLinkHtml = 'Like what you see? Visit the ' +\n",
              "            '<a target=\"_blank\" href=https://colab.research.google.com/notebooks/data_table.ipynb>data table notebook</a>'\n",
              "            + ' to learn more about interactive tables.';\n",
              "          element.innerHTML = '';\n",
              "          dataTable['output_type'] = 'display_data';\n",
              "          await google.colab.output.renderOutput(dataTable, element);\n",
              "          const docLink = document.createElement('div');\n",
              "          docLink.innerHTML = docLinkHtml;\n",
              "          element.appendChild(docLink);\n",
              "        }\n",
              "      </script>\n",
              "    </div>\n",
              "  </div>\n",
              "  "
            ]
          },
          "metadata": {},
          "execution_count": 37
        }
      ],
      "source": [
        "Sampled_vehicles_df"
      ]
    },
    {
      "cell_type": "markdown",
      "id": "072a4d96",
      "metadata": {
        "id": "072a4d96"
      },
      "source": [
        "###  Split the Data"
      ]
    },
    {
      "cell_type": "markdown",
      "id": "8a327e5a",
      "metadata": {
        "id": "8a327e5a"
      },
      "source": [
        "Model building is the crucial step of creating a machine learning model that can be utilized to forecast or decide based on input data in a machine learning project.\n",
        "\n",
        "\n",
        "Data preparation: This step involves preparing the data by cleaning, transforming, and preprocessing it so that it can be used in the model building process.\n",
        "\n",
        "Splitting the data: The data is divided into two sets: training, and testing. The model is trained on the training set, its performance is evaluated on the validation set and final evaluation is done on the test set.\n",
        "\n",
        "The data will be divided into three. Usualy 60% of data will be used for Train , 20% will be used for testingand 20% will be used for Validation.\n",
        "We need to seperate the target and predictor variables before we do the splitting"
      ]
    },
    {
      "cell_type": "code",
      "execution_count": null,
      "id": "5720a903",
      "metadata": {
        "id": "5720a903"
      },
      "outputs": [],
      "source": [
        "# Define the target variable and the features\n",
        "target='price'\n",
        "\n",
        "X,y=Sampled_vehicles_df.drop(columns=target),Sampled_vehicles_df[target]\n",
        "\n",
        "# Split the data into training and test sets\n",
        "X_train, X_test, y_train, y_test = train_test_split(X, y, test_size=0.2, random_state=42)\n",
        "\n",
        "# Split the training set into training and validation sets\n",
        "X_train, X_val, y_train, y_val = train_test_split(X_train, y_train, test_size=0.25, random_state=42)"
      ]
    },
    {
      "cell_type": "markdown",
      "id": "ad76bbc8",
      "metadata": {
        "id": "ad76bbc8"
      },
      "source": [
        "### Encode the Data"
      ]
    },
    {
      "cell_type": "code",
      "execution_count": null,
      "id": "63305fca",
      "metadata": {
        "colab": {
          "base_uri": "https://localhost:8080/",
          "height": 169
        },
        "id": "63305fca",
        "outputId": "1873c8bd-fce2-442f-b0ae-ba34d0b21b20"
      },
      "outputs": [
        {
          "output_type": "stream",
          "name": "stdout",
          "text": [
            "['mileage', 'vehicle_condition', 'crossover_car_and_van', 'mileage_pt', 'vehicle_age']\n",
            "['fuel_type', 'body_type']\n",
            "['standard_make', 'standard_model', 'standard_colour']\n"
          ]
        },
        {
          "output_type": "execute_result",
          "data": {
            "text/plain": [
              "ColumnTransformer(remainder='passthrough',\n",
              "                  transformers=[('num',\n",
              "                                 Pipeline(steps=[('scaler', StandardScaler())]),\n",
              "                                 ['mileage', 'vehicle_condition',\n",
              "                                  'crossover_car_and_van', 'mileage_pt',\n",
              "                                  'vehicle_age']),\n",
              "                                ('cat_1',\n",
              "                                 Pipeline(steps=[('ohe',\n",
              "                                                  OneHotEncoder(drop='if_binary',\n",
              "                                                                handle_unknown='ignore',\n",
              "                                                                sparse=False))]),\n",
              "                                 ['fuel_type', 'body_type']),\n",
              "                                ('cat_2',\n",
              "                                 Pipeline(steps=[('target', TargetEncoder())]),\n",
              "                                 ['standard_make', 'standard_model',\n",
              "                                  'standard_colour'])],\n",
              "                  verbose_feature_names_out=False)"
            ],
            "text/html": [
              "<style>#sk-container-id-2 {color: black;background-color: white;}#sk-container-id-2 pre{padding: 0;}#sk-container-id-2 div.sk-toggleable {background-color: white;}#sk-container-id-2 label.sk-toggleable__label {cursor: pointer;display: block;width: 100%;margin-bottom: 0;padding: 0.3em;box-sizing: border-box;text-align: center;}#sk-container-id-2 label.sk-toggleable__label-arrow:before {content: \"▸\";float: left;margin-right: 0.25em;color: #696969;}#sk-container-id-2 label.sk-toggleable__label-arrow:hover:before {color: black;}#sk-container-id-2 div.sk-estimator:hover label.sk-toggleable__label-arrow:before {color: black;}#sk-container-id-2 div.sk-toggleable__content {max-height: 0;max-width: 0;overflow: hidden;text-align: left;background-color: #f0f8ff;}#sk-container-id-2 div.sk-toggleable__content pre {margin: 0.2em;color: black;border-radius: 0.25em;background-color: #f0f8ff;}#sk-container-id-2 input.sk-toggleable__control:checked~div.sk-toggleable__content {max-height: 200px;max-width: 100%;overflow: auto;}#sk-container-id-2 input.sk-toggleable__control:checked~label.sk-toggleable__label-arrow:before {content: \"▾\";}#sk-container-id-2 div.sk-estimator input.sk-toggleable__control:checked~label.sk-toggleable__label {background-color: #d4ebff;}#sk-container-id-2 div.sk-label input.sk-toggleable__control:checked~label.sk-toggleable__label {background-color: #d4ebff;}#sk-container-id-2 input.sk-hidden--visually {border: 0;clip: rect(1px 1px 1px 1px);clip: rect(1px, 1px, 1px, 1px);height: 1px;margin: -1px;overflow: hidden;padding: 0;position: absolute;width: 1px;}#sk-container-id-2 div.sk-estimator {font-family: monospace;background-color: #f0f8ff;border: 1px dotted black;border-radius: 0.25em;box-sizing: border-box;margin-bottom: 0.5em;}#sk-container-id-2 div.sk-estimator:hover {background-color: #d4ebff;}#sk-container-id-2 div.sk-parallel-item::after {content: \"\";width: 100%;border-bottom: 1px solid gray;flex-grow: 1;}#sk-container-id-2 div.sk-label:hover label.sk-toggleable__label {background-color: #d4ebff;}#sk-container-id-2 div.sk-serial::before {content: \"\";position: absolute;border-left: 1px solid gray;box-sizing: border-box;top: 0;bottom: 0;left: 50%;z-index: 0;}#sk-container-id-2 div.sk-serial {display: flex;flex-direction: column;align-items: center;background-color: white;padding-right: 0.2em;padding-left: 0.2em;position: relative;}#sk-container-id-2 div.sk-item {position: relative;z-index: 1;}#sk-container-id-2 div.sk-parallel {display: flex;align-items: stretch;justify-content: center;background-color: white;position: relative;}#sk-container-id-2 div.sk-item::before, #sk-container-id-2 div.sk-parallel-item::before {content: \"\";position: absolute;border-left: 1px solid gray;box-sizing: border-box;top: 0;bottom: 0;left: 50%;z-index: -1;}#sk-container-id-2 div.sk-parallel-item {display: flex;flex-direction: column;z-index: 1;position: relative;background-color: white;}#sk-container-id-2 div.sk-parallel-item:first-child::after {align-self: flex-end;width: 50%;}#sk-container-id-2 div.sk-parallel-item:last-child::after {align-self: flex-start;width: 50%;}#sk-container-id-2 div.sk-parallel-item:only-child::after {width: 0;}#sk-container-id-2 div.sk-dashed-wrapped {border: 1px dashed gray;margin: 0 0.4em 0.5em 0.4em;box-sizing: border-box;padding-bottom: 0.4em;background-color: white;}#sk-container-id-2 div.sk-label label {font-family: monospace;font-weight: bold;display: inline-block;line-height: 1.2em;}#sk-container-id-2 div.sk-label-container {text-align: center;}#sk-container-id-2 div.sk-container {/* jupyter's `normalize.less` sets `[hidden] { display: none; }` but bootstrap.min.css set `[hidden] { display: none !important; }` so we also need the `!important` here to be able to override the default hidden behavior on the sphinx rendered scikit-learn.org. See: https://github.com/scikit-learn/scikit-learn/issues/21755 */display: inline-block !important;position: relative;}#sk-container-id-2 div.sk-text-repr-fallback {display: none;}</style><div id=\"sk-container-id-2\" class=\"sk-top-container\"><div class=\"sk-text-repr-fallback\"><pre>ColumnTransformer(remainder=&#x27;passthrough&#x27;,\n",
              "                  transformers=[(&#x27;num&#x27;,\n",
              "                                 Pipeline(steps=[(&#x27;scaler&#x27;, StandardScaler())]),\n",
              "                                 [&#x27;mileage&#x27;, &#x27;vehicle_condition&#x27;,\n",
              "                                  &#x27;crossover_car_and_van&#x27;, &#x27;mileage_pt&#x27;,\n",
              "                                  &#x27;vehicle_age&#x27;]),\n",
              "                                (&#x27;cat_1&#x27;,\n",
              "                                 Pipeline(steps=[(&#x27;ohe&#x27;,\n",
              "                                                  OneHotEncoder(drop=&#x27;if_binary&#x27;,\n",
              "                                                                handle_unknown=&#x27;ignore&#x27;,\n",
              "                                                                sparse=False))]),\n",
              "                                 [&#x27;fuel_type&#x27;, &#x27;body_type&#x27;]),\n",
              "                                (&#x27;cat_2&#x27;,\n",
              "                                 Pipeline(steps=[(&#x27;target&#x27;, TargetEncoder())]),\n",
              "                                 [&#x27;standard_make&#x27;, &#x27;standard_model&#x27;,\n",
              "                                  &#x27;standard_colour&#x27;])],\n",
              "                  verbose_feature_names_out=False)</pre><b>In a Jupyter environment, please rerun this cell to show the HTML representation or trust the notebook. <br />On GitHub, the HTML representation is unable to render, please try loading this page with nbviewer.org.</b></div><div class=\"sk-container\" hidden><div class=\"sk-item sk-dashed-wrapped\"><div class=\"sk-label-container\"><div class=\"sk-label sk-toggleable\"><input class=\"sk-toggleable__control sk-hidden--visually\" id=\"sk-estimator-id-5\" type=\"checkbox\" ><label for=\"sk-estimator-id-5\" class=\"sk-toggleable__label sk-toggleable__label-arrow\">ColumnTransformer</label><div class=\"sk-toggleable__content\"><pre>ColumnTransformer(remainder=&#x27;passthrough&#x27;,\n",
              "                  transformers=[(&#x27;num&#x27;,\n",
              "                                 Pipeline(steps=[(&#x27;scaler&#x27;, StandardScaler())]),\n",
              "                                 [&#x27;mileage&#x27;, &#x27;vehicle_condition&#x27;,\n",
              "                                  &#x27;crossover_car_and_van&#x27;, &#x27;mileage_pt&#x27;,\n",
              "                                  &#x27;vehicle_age&#x27;]),\n",
              "                                (&#x27;cat_1&#x27;,\n",
              "                                 Pipeline(steps=[(&#x27;ohe&#x27;,\n",
              "                                                  OneHotEncoder(drop=&#x27;if_binary&#x27;,\n",
              "                                                                handle_unknown=&#x27;ignore&#x27;,\n",
              "                                                                sparse=False))]),\n",
              "                                 [&#x27;fuel_type&#x27;, &#x27;body_type&#x27;]),\n",
              "                                (&#x27;cat_2&#x27;,\n",
              "                                 Pipeline(steps=[(&#x27;target&#x27;, TargetEncoder())]),\n",
              "                                 [&#x27;standard_make&#x27;, &#x27;standard_model&#x27;,\n",
              "                                  &#x27;standard_colour&#x27;])],\n",
              "                  verbose_feature_names_out=False)</pre></div></div></div><div class=\"sk-parallel\"><div class=\"sk-parallel-item\"><div class=\"sk-item\"><div class=\"sk-label-container\"><div class=\"sk-label sk-toggleable\"><input class=\"sk-toggleable__control sk-hidden--visually\" id=\"sk-estimator-id-6\" type=\"checkbox\" ><label for=\"sk-estimator-id-6\" class=\"sk-toggleable__label sk-toggleable__label-arrow\">num</label><div class=\"sk-toggleable__content\"><pre>[&#x27;mileage&#x27;, &#x27;vehicle_condition&#x27;, &#x27;crossover_car_and_van&#x27;, &#x27;mileage_pt&#x27;, &#x27;vehicle_age&#x27;]</pre></div></div></div><div class=\"sk-serial\"><div class=\"sk-item\"><div class=\"sk-serial\"><div class=\"sk-item\"><div class=\"sk-estimator sk-toggleable\"><input class=\"sk-toggleable__control sk-hidden--visually\" id=\"sk-estimator-id-7\" type=\"checkbox\" ><label for=\"sk-estimator-id-7\" class=\"sk-toggleable__label sk-toggleable__label-arrow\">StandardScaler</label><div class=\"sk-toggleable__content\"><pre>StandardScaler()</pre></div></div></div></div></div></div></div></div><div class=\"sk-parallel-item\"><div class=\"sk-item\"><div class=\"sk-label-container\"><div class=\"sk-label sk-toggleable\"><input class=\"sk-toggleable__control sk-hidden--visually\" id=\"sk-estimator-id-8\" type=\"checkbox\" ><label for=\"sk-estimator-id-8\" class=\"sk-toggleable__label sk-toggleable__label-arrow\">cat_1</label><div class=\"sk-toggleable__content\"><pre>[&#x27;fuel_type&#x27;, &#x27;body_type&#x27;]</pre></div></div></div><div class=\"sk-serial\"><div class=\"sk-item\"><div class=\"sk-serial\"><div class=\"sk-item\"><div class=\"sk-estimator sk-toggleable\"><input class=\"sk-toggleable__control sk-hidden--visually\" id=\"sk-estimator-id-9\" type=\"checkbox\" ><label for=\"sk-estimator-id-9\" class=\"sk-toggleable__label sk-toggleable__label-arrow\">OneHotEncoder</label><div class=\"sk-toggleable__content\"><pre>OneHotEncoder(drop=&#x27;if_binary&#x27;, handle_unknown=&#x27;ignore&#x27;, sparse=False)</pre></div></div></div></div></div></div></div></div><div class=\"sk-parallel-item\"><div class=\"sk-item\"><div class=\"sk-label-container\"><div class=\"sk-label sk-toggleable\"><input class=\"sk-toggleable__control sk-hidden--visually\" id=\"sk-estimator-id-10\" type=\"checkbox\" ><label for=\"sk-estimator-id-10\" class=\"sk-toggleable__label sk-toggleable__label-arrow\">cat_2</label><div class=\"sk-toggleable__content\"><pre>[&#x27;standard_make&#x27;, &#x27;standard_model&#x27;, &#x27;standard_colour&#x27;]</pre></div></div></div><div class=\"sk-serial\"><div class=\"sk-item\"><div class=\"sk-serial\"><div class=\"sk-item\"><div class=\"sk-estimator sk-toggleable\"><input class=\"sk-toggleable__control sk-hidden--visually\" id=\"sk-estimator-id-11\" type=\"checkbox\" ><label for=\"sk-estimator-id-11\" class=\"sk-toggleable__label sk-toggleable__label-arrow\">TargetEncoder</label><div class=\"sk-toggleable__content\"><pre>TargetEncoder()</pre></div></div></div></div></div></div></div></div><div class=\"sk-parallel-item\"><div class=\"sk-item\"><div class=\"sk-label-container\"><div class=\"sk-label sk-toggleable\"><input class=\"sk-toggleable__control sk-hidden--visually\" id=\"sk-estimator-id-12\" type=\"checkbox\" ><label for=\"sk-estimator-id-12\" class=\"sk-toggleable__label sk-toggleable__label-arrow\">remainder</label><div class=\"sk-toggleable__content\"><pre></pre></div></div></div><div class=\"sk-serial\"><div class=\"sk-item\"><div class=\"sk-estimator sk-toggleable\"><input class=\"sk-toggleable__control sk-hidden--visually\" id=\"sk-estimator-id-13\" type=\"checkbox\" ><label for=\"sk-estimator-id-13\" class=\"sk-toggleable__label sk-toggleable__label-arrow\">passthrough</label><div class=\"sk-toggleable__content\"><pre>passthrough</pre></div></div></div></div></div></div></div></div></div></div>"
            ]
          },
          "metadata": {},
          "execution_count": 39
        }
      ],
      "source": [
        "numeric_features = X.select_dtypes(exclude='object').columns.tolist()\n",
        "print(numeric_features)\n",
        "numeric_transformer = Pipeline(\n",
        "    steps=[\n",
        "        (\"scaler\", StandardScaler()),\n",
        "    ]\n",
        ").set_output(transform='pandas')\n",
        "\n",
        "categorical_features_1 = [\"fuel_type\", \"body_type\"]\n",
        "print(categorical_features_1)\n",
        "categorical_transformer_1 = Pipeline(\n",
        "    steps=[\n",
        "        (\"ohe\", OneHotEncoder(handle_unknown=\"ignore\", sparse=False, drop='if_binary')),\n",
        "    ]\n",
        ").set_output(transform='pandas')\n",
        "\n",
        "categorical_features_2 = [\"standard_make\", \"standard_model\"]\n",
        "if \"standard_colour\" in X.columns:\n",
        "    categorical_features_2.append(\"standard_colour\")\n",
        "print(categorical_features_2)\n",
        "\n",
        "categorical_transformer_2 = Pipeline(\n",
        "    steps=[(\"target\", ce.TargetEncoder())]\n",
        ").set_output(transform='pandas')\n",
        "\n",
        "feature_engg_transformer = ColumnTransformer(\n",
        "    transformers=[\n",
        "        (\"num\", numeric_transformer, numeric_features),\n",
        "        (\"cat_1\", categorical_transformer_1, categorical_features_1),\n",
        "        (\"cat_2\", categorical_transformer_2, categorical_features_2),\n",
        "    ],\n",
        "    remainder='passthrough',\n",
        "    verbose_feature_names_out=False\n",
        "\n",
        ").set_output(transform=\"pandas\")\n",
        "\n",
        "feature_engg_transformer\n"
      ]
    },
    {
      "cell_type": "code",
      "execution_count": null,
      "id": "6e45df25",
      "metadata": {
        "colab": {
          "base_uri": "https://localhost:8080/",
          "height": 317
        },
        "id": "6e45df25",
        "outputId": "83600279-70ef-49a5-8c62-f4aafb60a650"
      },
      "outputs": [
        {
          "output_type": "execute_result",
          "data": {
            "text/plain": [
              "         mileage  vehicle_condition  crossover_car_and_van  mileage_pt  \\\n",
              "212936 -0.113062          -0.232259              -0.187878    0.271336   \n",
              "261889  1.061375          -0.232259              -0.187878    1.103008   \n",
              "214723 -0.346995          -0.232259              -0.187878    0.022421   \n",
              "48702  -0.935408          -0.232259              -0.187878   -1.502315   \n",
              "241299 -0.787051          -0.232259              -0.187878   -0.725335   \n",
              "\n",
              "        vehicle_age  fuel_type_Bi Fuel  fuel_type_Diesel  \\\n",
              "212936     0.129740                0.0               0.0   \n",
              "261889     3.043134                0.0               0.0   \n",
              "214723    -0.425192                0.0               0.0   \n",
              "48702     -0.772025                0.0               0.0   \n",
              "241299    -0.772025                0.0               0.0   \n",
              "\n",
              "        fuel_type_Diesel Hybrid  fuel_type_Diesel Plug-in Hybrid  \\\n",
              "212936                      0.0                              0.0   \n",
              "261889                      0.0                              0.0   \n",
              "214723                      0.0                              0.0   \n",
              "48702                       0.0                              0.0   \n",
              "241299                      0.0                              0.0   \n",
              "\n",
              "        fuel_type_Electric  ...  body_type_MPV  body_type_Minibus  \\\n",
              "212936                 0.0  ...            0.0                0.0   \n",
              "261889                 0.0  ...            0.0                0.0   \n",
              "214723                 0.0  ...            0.0                0.0   \n",
              "48702                  0.0  ...            0.0                0.0   \n",
              "241299                 0.0  ...            1.0                0.0   \n",
              "\n",
              "        body_type_Panel Van  body_type_Pickup  body_type_SUV  \\\n",
              "212936                  0.0               0.0            0.0   \n",
              "261889                  0.0               0.0            0.0   \n",
              "214723                  0.0               1.0            0.0   \n",
              "48702                   0.0               0.0            1.0   \n",
              "241299                  0.0               0.0            0.0   \n",
              "\n",
              "        body_type_Saloon  body_type_Window Van  standard_make  standard_model  \\\n",
              "212936               0.0                   0.0   42841.155770    36436.579036   \n",
              "261889               1.0                   0.0    9000.000000     9000.000000   \n",
              "214723               0.0                   0.0   23027.610893    29995.000000   \n",
              "48702                0.0                   0.0   25721.422511    20595.474684   \n",
              "241299               0.0                   0.0   20756.539370    14919.988077   \n",
              "\n",
              "        standard_colour  \n",
              "212936     34305.881267  \n",
              "261889     20994.267904  \n",
              "214723    176922.511295  \n",
              "48702      68553.224519  \n",
              "241299    176922.511295  \n",
              "\n",
              "[5 rows x 32 columns]"
            ],
            "text/html": [
              "\n",
              "  <div id=\"df-260de2b4-d8cf-4822-9e1d-17727c25c8f8\">\n",
              "    <div class=\"colab-df-container\">\n",
              "      <div>\n",
              "<style scoped>\n",
              "    .dataframe tbody tr th:only-of-type {\n",
              "        vertical-align: middle;\n",
              "    }\n",
              "\n",
              "    .dataframe tbody tr th {\n",
              "        vertical-align: top;\n",
              "    }\n",
              "\n",
              "    .dataframe thead th {\n",
              "        text-align: right;\n",
              "    }\n",
              "</style>\n",
              "<table border=\"1\" class=\"dataframe\">\n",
              "  <thead>\n",
              "    <tr style=\"text-align: right;\">\n",
              "      <th></th>\n",
              "      <th>mileage</th>\n",
              "      <th>vehicle_condition</th>\n",
              "      <th>crossover_car_and_van</th>\n",
              "      <th>mileage_pt</th>\n",
              "      <th>vehicle_age</th>\n",
              "      <th>fuel_type_Bi Fuel</th>\n",
              "      <th>fuel_type_Diesel</th>\n",
              "      <th>fuel_type_Diesel Hybrid</th>\n",
              "      <th>fuel_type_Diesel Plug-in Hybrid</th>\n",
              "      <th>fuel_type_Electric</th>\n",
              "      <th>...</th>\n",
              "      <th>body_type_MPV</th>\n",
              "      <th>body_type_Minibus</th>\n",
              "      <th>body_type_Panel Van</th>\n",
              "      <th>body_type_Pickup</th>\n",
              "      <th>body_type_SUV</th>\n",
              "      <th>body_type_Saloon</th>\n",
              "      <th>body_type_Window Van</th>\n",
              "      <th>standard_make</th>\n",
              "      <th>standard_model</th>\n",
              "      <th>standard_colour</th>\n",
              "    </tr>\n",
              "  </thead>\n",
              "  <tbody>\n",
              "    <tr>\n",
              "      <th>212936</th>\n",
              "      <td>-0.113062</td>\n",
              "      <td>-0.232259</td>\n",
              "      <td>-0.187878</td>\n",
              "      <td>0.271336</td>\n",
              "      <td>0.129740</td>\n",
              "      <td>0.0</td>\n",
              "      <td>0.0</td>\n",
              "      <td>0.0</td>\n",
              "      <td>0.0</td>\n",
              "      <td>0.0</td>\n",
              "      <td>...</td>\n",
              "      <td>0.0</td>\n",
              "      <td>0.0</td>\n",
              "      <td>0.0</td>\n",
              "      <td>0.0</td>\n",
              "      <td>0.0</td>\n",
              "      <td>0.0</td>\n",
              "      <td>0.0</td>\n",
              "      <td>42841.155770</td>\n",
              "      <td>36436.579036</td>\n",
              "      <td>34305.881267</td>\n",
              "    </tr>\n",
              "    <tr>\n",
              "      <th>261889</th>\n",
              "      <td>1.061375</td>\n",
              "      <td>-0.232259</td>\n",
              "      <td>-0.187878</td>\n",
              "      <td>1.103008</td>\n",
              "      <td>3.043134</td>\n",
              "      <td>0.0</td>\n",
              "      <td>0.0</td>\n",
              "      <td>0.0</td>\n",
              "      <td>0.0</td>\n",
              "      <td>0.0</td>\n",
              "      <td>...</td>\n",
              "      <td>0.0</td>\n",
              "      <td>0.0</td>\n",
              "      <td>0.0</td>\n",
              "      <td>0.0</td>\n",
              "      <td>0.0</td>\n",
              "      <td>1.0</td>\n",
              "      <td>0.0</td>\n",
              "      <td>9000.000000</td>\n",
              "      <td>9000.000000</td>\n",
              "      <td>20994.267904</td>\n",
              "    </tr>\n",
              "    <tr>\n",
              "      <th>214723</th>\n",
              "      <td>-0.346995</td>\n",
              "      <td>-0.232259</td>\n",
              "      <td>-0.187878</td>\n",
              "      <td>0.022421</td>\n",
              "      <td>-0.425192</td>\n",
              "      <td>0.0</td>\n",
              "      <td>0.0</td>\n",
              "      <td>0.0</td>\n",
              "      <td>0.0</td>\n",
              "      <td>0.0</td>\n",
              "      <td>...</td>\n",
              "      <td>0.0</td>\n",
              "      <td>0.0</td>\n",
              "      <td>0.0</td>\n",
              "      <td>1.0</td>\n",
              "      <td>0.0</td>\n",
              "      <td>0.0</td>\n",
              "      <td>0.0</td>\n",
              "      <td>23027.610893</td>\n",
              "      <td>29995.000000</td>\n",
              "      <td>176922.511295</td>\n",
              "    </tr>\n",
              "    <tr>\n",
              "      <th>48702</th>\n",
              "      <td>-0.935408</td>\n",
              "      <td>-0.232259</td>\n",
              "      <td>-0.187878</td>\n",
              "      <td>-1.502315</td>\n",
              "      <td>-0.772025</td>\n",
              "      <td>0.0</td>\n",
              "      <td>0.0</td>\n",
              "      <td>0.0</td>\n",
              "      <td>0.0</td>\n",
              "      <td>0.0</td>\n",
              "      <td>...</td>\n",
              "      <td>0.0</td>\n",
              "      <td>0.0</td>\n",
              "      <td>0.0</td>\n",
              "      <td>0.0</td>\n",
              "      <td>1.0</td>\n",
              "      <td>0.0</td>\n",
              "      <td>0.0</td>\n",
              "      <td>25721.422511</td>\n",
              "      <td>20595.474684</td>\n",
              "      <td>68553.224519</td>\n",
              "    </tr>\n",
              "    <tr>\n",
              "      <th>241299</th>\n",
              "      <td>-0.787051</td>\n",
              "      <td>-0.232259</td>\n",
              "      <td>-0.187878</td>\n",
              "      <td>-0.725335</td>\n",
              "      <td>-0.772025</td>\n",
              "      <td>0.0</td>\n",
              "      <td>0.0</td>\n",
              "      <td>0.0</td>\n",
              "      <td>0.0</td>\n",
              "      <td>0.0</td>\n",
              "      <td>...</td>\n",
              "      <td>1.0</td>\n",
              "      <td>0.0</td>\n",
              "      <td>0.0</td>\n",
              "      <td>0.0</td>\n",
              "      <td>0.0</td>\n",
              "      <td>0.0</td>\n",
              "      <td>0.0</td>\n",
              "      <td>20756.539370</td>\n",
              "      <td>14919.988077</td>\n",
              "      <td>176922.511295</td>\n",
              "    </tr>\n",
              "  </tbody>\n",
              "</table>\n",
              "<p>5 rows × 32 columns</p>\n",
              "</div>\n",
              "      <button class=\"colab-df-convert\" onclick=\"convertToInteractive('df-260de2b4-d8cf-4822-9e1d-17727c25c8f8')\"\n",
              "              title=\"Convert this dataframe to an interactive table.\"\n",
              "              style=\"display:none;\">\n",
              "        \n",
              "  <svg xmlns=\"http://www.w3.org/2000/svg\" height=\"24px\"viewBox=\"0 0 24 24\"\n",
              "       width=\"24px\">\n",
              "    <path d=\"M0 0h24v24H0V0z\" fill=\"none\"/>\n",
              "    <path d=\"M18.56 5.44l.94 2.06.94-2.06 2.06-.94-2.06-.94-.94-2.06-.94 2.06-2.06.94zm-11 1L8.5 8.5l.94-2.06 2.06-.94-2.06-.94L8.5 2.5l-.94 2.06-2.06.94zm10 10l.94 2.06.94-2.06 2.06-.94-2.06-.94-.94-2.06-.94 2.06-2.06.94z\"/><path d=\"M17.41 7.96l-1.37-1.37c-.4-.4-.92-.59-1.43-.59-.52 0-1.04.2-1.43.59L10.3 9.45l-7.72 7.72c-.78.78-.78 2.05 0 2.83L4 21.41c.39.39.9.59 1.41.59.51 0 1.02-.2 1.41-.59l7.78-7.78 2.81-2.81c.8-.78.8-2.07 0-2.86zM5.41 20L4 18.59l7.72-7.72 1.47 1.35L5.41 20z\"/>\n",
              "  </svg>\n",
              "      </button>\n",
              "      \n",
              "  <style>\n",
              "    .colab-df-container {\n",
              "      display:flex;\n",
              "      flex-wrap:wrap;\n",
              "      gap: 12px;\n",
              "    }\n",
              "\n",
              "    .colab-df-convert {\n",
              "      background-color: #E8F0FE;\n",
              "      border: none;\n",
              "      border-radius: 50%;\n",
              "      cursor: pointer;\n",
              "      display: none;\n",
              "      fill: #1967D2;\n",
              "      height: 32px;\n",
              "      padding: 0 0 0 0;\n",
              "      width: 32px;\n",
              "    }\n",
              "\n",
              "    .colab-df-convert:hover {\n",
              "      background-color: #E2EBFA;\n",
              "      box-shadow: 0px 1px 2px rgba(60, 64, 67, 0.3), 0px 1px 3px 1px rgba(60, 64, 67, 0.15);\n",
              "      fill: #174EA6;\n",
              "    }\n",
              "\n",
              "    [theme=dark] .colab-df-convert {\n",
              "      background-color: #3B4455;\n",
              "      fill: #D2E3FC;\n",
              "    }\n",
              "\n",
              "    [theme=dark] .colab-df-convert:hover {\n",
              "      background-color: #434B5C;\n",
              "      box-shadow: 0px 1px 3px 1px rgba(0, 0, 0, 0.15);\n",
              "      filter: drop-shadow(0px 1px 2px rgba(0, 0, 0, 0.3));\n",
              "      fill: #FFFFFF;\n",
              "    }\n",
              "  </style>\n",
              "\n",
              "      <script>\n",
              "        const buttonEl =\n",
              "          document.querySelector('#df-260de2b4-d8cf-4822-9e1d-17727c25c8f8 button.colab-df-convert');\n",
              "        buttonEl.style.display =\n",
              "          google.colab.kernel.accessAllowed ? 'block' : 'none';\n",
              "\n",
              "        async function convertToInteractive(key) {\n",
              "          const element = document.querySelector('#df-260de2b4-d8cf-4822-9e1d-17727c25c8f8');\n",
              "          const dataTable =\n",
              "            await google.colab.kernel.invokeFunction('convertToInteractive',\n",
              "                                                     [key], {});\n",
              "          if (!dataTable) return;\n",
              "\n",
              "          const docLinkHtml = 'Like what you see? Visit the ' +\n",
              "            '<a target=\"_blank\" href=https://colab.research.google.com/notebooks/data_table.ipynb>data table notebook</a>'\n",
              "            + ' to learn more about interactive tables.';\n",
              "          element.innerHTML = '';\n",
              "          dataTable['output_type'] = 'display_data';\n",
              "          await google.colab.output.renderOutput(dataTable, element);\n",
              "          const docLink = document.createElement('div');\n",
              "          docLink.innerHTML = docLinkHtml;\n",
              "          element.appendChild(docLink);\n",
              "        }\n",
              "      </script>\n",
              "    </div>\n",
              "  </div>\n",
              "  "
            ]
          },
          "metadata": {},
          "execution_count": 40
        }
      ],
      "source": [
        "rawdata_fea=feature_engg_transformer.fit_transform(X_train,y_train)\n",
        "rawdata_fea.head()"
      ]
    },
    {
      "cell_type": "code",
      "execution_count": null,
      "id": "163830f7",
      "metadata": {
        "id": "163830f7"
      },
      "outputs": [],
      "source": [
        "from sklearn.model_selection import KFold"
      ]
    },
    {
      "cell_type": "markdown",
      "id": "8d943f5b",
      "metadata": {
        "id": "8d943f5b"
      },
      "source": [
        "# Model Evaluation & Analysis"
      ]
    },
    {
      "cell_type": "code",
      "execution_count": null,
      "id": "51443b41",
      "metadata": {
        "id": "51443b41"
      },
      "outputs": [],
      "source": [
        "# apply the analysis of PDP to get the final model."
      ]
    },
    {
      "cell_type": "code",
      "execution_count": null,
      "id": "115183cd",
      "metadata": {
        "id": "115183cd"
      },
      "outputs": [],
      "source": [
        "Xf,yf = rawdata.drop(columns='price'), rawdata['price']\n",
        "kf = KFold(n_splits=5)\n",
        "for train_index, test_index in kf.split(Xf):\n",
        "\n",
        "    Xf_train, Xf_test = Xf.iloc[train_index], Xf.iloc[test_index]\n",
        "    yf_train, yf_test = yf.iloc[train_index], yf.iloc[test_index]"
      ]
    },
    {
      "cell_type": "code",
      "execution_count": null,
      "id": "99819030",
      "metadata": {
        "id": "99819030"
      },
      "outputs": [],
      "source": [
        "#Creating one pipeline for all models:\n",
        "\n",
        "def create_def_preprocessing_pipe(X):\n",
        "    preprocessor = Pipeline(\n",
        "        steps=[\n",
        "            ('feature_engg_transformer',feature_engg_transformer),\n",
        "            (\"featsel\", SelectKBest(f_regression, k=8))\n",
        "        ]\n",
        "        ).set_output(transform='pandas')\n",
        "    return preprocessor"
      ]
    },
    {
      "cell_type": "code",
      "execution_count": null,
      "id": "624c5ac7",
      "metadata": {
        "id": "624c5ac7"
      },
      "outputs": [],
      "source": [
        "def create_regr_pipe(est, X):\n",
        "    regr_pipe = Pipeline(\n",
        "        steps=[\n",
        "            (\"pp\", create_def_preprocessing_pipe(X)),\n",
        "            (\"regr\", est)\n",
        "        ]\n",
        "    ).set_output(transform=\"pandas\")\n",
        "    return regr_pipe"
      ]
    },
    {
      "cell_type": "code",
      "execution_count": null,
      "id": "e97fb469",
      "metadata": {
        "id": "e97fb469"
      },
      "outputs": [],
      "source": [
        "gbr = create_regr_pipe(xgb.XGBRegressor(), Xf_train)"
      ]
    },
    {
      "cell_type": "code",
      "execution_count": null,
      "id": "38d4e984",
      "metadata": {
        "id": "38d4e984"
      },
      "outputs": [],
      "source": [
        "rfr = create_regr_pipe(xgb.XGBRegressor(), Xf_train)"
      ]
    },
    {
      "cell_type": "code",
      "execution_count": null,
      "id": "6610d8d4",
      "metadata": {
        "colab": {
          "base_uri": "https://localhost:8080/",
          "height": 268
        },
        "id": "6610d8d4",
        "outputId": "a1233e5e-1d4c-43f7-eb5e-960d4e4837af"
      },
      "outputs": [
        {
          "output_type": "execute_result",
          "data": {
            "text/plain": [
              "VotingRegressor(estimators=[('gbr',\n",
              "                             Pipeline(steps=[('pp',\n",
              "                                              Pipeline(steps=[('feature_engg_transformer',\n",
              "                                                               ColumnTransformer(remainder='passthrough',\n",
              "                                                                                 transformers=[('num',\n",
              "                                                                                                Pipeline(steps=[('scaler',\n",
              "                                                                                                                 StandardScaler())]),\n",
              "                                                                                                ['mileage',\n",
              "                                                                                                 'vehicle_condition',\n",
              "                                                                                                 'crossover_car_and_van',\n",
              "                                                                                                 'mileage_pt',\n",
              "                                                                                                 'vehicle_age']),\n",
              "                                                                                               ('cat_1',\n",
              "                                                                                                Pipeline(steps=[('ohe',\n",
              "                                                                                                                 OneHotEncoder(drop='if_b...\n",
              "                                                           grow_policy=None,\n",
              "                                                           importance_type=None,\n",
              "                                                           interaction_constraints=None,\n",
              "                                                           learning_rate=None,\n",
              "                                                           max_bin=None,\n",
              "                                                           max_cat_threshold=None,\n",
              "                                                           max_cat_to_onehot=None,\n",
              "                                                           max_delta_step=None,\n",
              "                                                           max_depth=None,\n",
              "                                                           max_leaves=None,\n",
              "                                                           min_child_weight=None,\n",
              "                                                           missing=nan,\n",
              "                                                           monotone_constraints=None,\n",
              "                                                           n_estimators=100,\n",
              "                                                           n_jobs=None,\n",
              "                                                           num_parallel_tree=None,\n",
              "                                                           predictor=None,\n",
              "                                                           random_state=None, ...))]))])"
            ],
            "text/html": [
              "<style>#sk-container-id-13 {color: black;background-color: white;}#sk-container-id-13 pre{padding: 0;}#sk-container-id-13 div.sk-toggleable {background-color: white;}#sk-container-id-13 label.sk-toggleable__label {cursor: pointer;display: block;width: 100%;margin-bottom: 0;padding: 0.3em;box-sizing: border-box;text-align: center;}#sk-container-id-13 label.sk-toggleable__label-arrow:before {content: \"▸\";float: left;margin-right: 0.25em;color: #696969;}#sk-container-id-13 label.sk-toggleable__label-arrow:hover:before {color: black;}#sk-container-id-13 div.sk-estimator:hover label.sk-toggleable__label-arrow:before {color: black;}#sk-container-id-13 div.sk-toggleable__content {max-height: 0;max-width: 0;overflow: hidden;text-align: left;background-color: #f0f8ff;}#sk-container-id-13 div.sk-toggleable__content pre {margin: 0.2em;color: black;border-radius: 0.25em;background-color: #f0f8ff;}#sk-container-id-13 input.sk-toggleable__control:checked~div.sk-toggleable__content {max-height: 200px;max-width: 100%;overflow: auto;}#sk-container-id-13 input.sk-toggleable__control:checked~label.sk-toggleable__label-arrow:before {content: \"▾\";}#sk-container-id-13 div.sk-estimator input.sk-toggleable__control:checked~label.sk-toggleable__label {background-color: #d4ebff;}#sk-container-id-13 div.sk-label input.sk-toggleable__control:checked~label.sk-toggleable__label {background-color: #d4ebff;}#sk-container-id-13 input.sk-hidden--visually {border: 0;clip: rect(1px 1px 1px 1px);clip: rect(1px, 1px, 1px, 1px);height: 1px;margin: -1px;overflow: hidden;padding: 0;position: absolute;width: 1px;}#sk-container-id-13 div.sk-estimator {font-family: monospace;background-color: #f0f8ff;border: 1px dotted black;border-radius: 0.25em;box-sizing: border-box;margin-bottom: 0.5em;}#sk-container-id-13 div.sk-estimator:hover {background-color: #d4ebff;}#sk-container-id-13 div.sk-parallel-item::after {content: \"\";width: 100%;border-bottom: 1px solid gray;flex-grow: 1;}#sk-container-id-13 div.sk-label:hover label.sk-toggleable__label {background-color: #d4ebff;}#sk-container-id-13 div.sk-serial::before {content: \"\";position: absolute;border-left: 1px solid gray;box-sizing: border-box;top: 0;bottom: 0;left: 50%;z-index: 0;}#sk-container-id-13 div.sk-serial {display: flex;flex-direction: column;align-items: center;background-color: white;padding-right: 0.2em;padding-left: 0.2em;position: relative;}#sk-container-id-13 div.sk-item {position: relative;z-index: 1;}#sk-container-id-13 div.sk-parallel {display: flex;align-items: stretch;justify-content: center;background-color: white;position: relative;}#sk-container-id-13 div.sk-item::before, #sk-container-id-13 div.sk-parallel-item::before {content: \"\";position: absolute;border-left: 1px solid gray;box-sizing: border-box;top: 0;bottom: 0;left: 50%;z-index: -1;}#sk-container-id-13 div.sk-parallel-item {display: flex;flex-direction: column;z-index: 1;position: relative;background-color: white;}#sk-container-id-13 div.sk-parallel-item:first-child::after {align-self: flex-end;width: 50%;}#sk-container-id-13 div.sk-parallel-item:last-child::after {align-self: flex-start;width: 50%;}#sk-container-id-13 div.sk-parallel-item:only-child::after {width: 0;}#sk-container-id-13 div.sk-dashed-wrapped {border: 1px dashed gray;margin: 0 0.4em 0.5em 0.4em;box-sizing: border-box;padding-bottom: 0.4em;background-color: white;}#sk-container-id-13 div.sk-label label {font-family: monospace;font-weight: bold;display: inline-block;line-height: 1.2em;}#sk-container-id-13 div.sk-label-container {text-align: center;}#sk-container-id-13 div.sk-container {/* jupyter's `normalize.less` sets `[hidden] { display: none; }` but bootstrap.min.css set `[hidden] { display: none !important; }` so we also need the `!important` here to be able to override the default hidden behavior on the sphinx rendered scikit-learn.org. See: https://github.com/scikit-learn/scikit-learn/issues/21755 */display: inline-block !important;position: relative;}#sk-container-id-13 div.sk-text-repr-fallback {display: none;}</style><div id=\"sk-container-id-13\" class=\"sk-top-container\"><div class=\"sk-text-repr-fallback\"><pre>VotingRegressor(estimators=[(&#x27;gbr&#x27;,\n",
              "                             Pipeline(steps=[(&#x27;pp&#x27;,\n",
              "                                              Pipeline(steps=[(&#x27;feature_engg_transformer&#x27;,\n",
              "                                                               ColumnTransformer(remainder=&#x27;passthrough&#x27;,\n",
              "                                                                                 transformers=[(&#x27;num&#x27;,\n",
              "                                                                                                Pipeline(steps=[(&#x27;scaler&#x27;,\n",
              "                                                                                                                 StandardScaler())]),\n",
              "                                                                                                [&#x27;mileage&#x27;,\n",
              "                                                                                                 &#x27;vehicle_condition&#x27;,\n",
              "                                                                                                 &#x27;crossover_car_and_van&#x27;,\n",
              "                                                                                                 &#x27;mileage_pt&#x27;,\n",
              "                                                                                                 &#x27;vehicle_age&#x27;]),\n",
              "                                                                                               (&#x27;cat_1&#x27;,\n",
              "                                                                                                Pipeline(steps=[(&#x27;ohe&#x27;,\n",
              "                                                                                                                 OneHotEncoder(drop=&#x27;if_b...\n",
              "                                                           grow_policy=None,\n",
              "                                                           importance_type=None,\n",
              "                                                           interaction_constraints=None,\n",
              "                                                           learning_rate=None,\n",
              "                                                           max_bin=None,\n",
              "                                                           max_cat_threshold=None,\n",
              "                                                           max_cat_to_onehot=None,\n",
              "                                                           max_delta_step=None,\n",
              "                                                           max_depth=None,\n",
              "                                                           max_leaves=None,\n",
              "                                                           min_child_weight=None,\n",
              "                                                           missing=nan,\n",
              "                                                           monotone_constraints=None,\n",
              "                                                           n_estimators=100,\n",
              "                                                           n_jobs=None,\n",
              "                                                           num_parallel_tree=None,\n",
              "                                                           predictor=None,\n",
              "                                                           random_state=None, ...))]))])</pre><b>In a Jupyter environment, please rerun this cell to show the HTML representation or trust the notebook. <br />On GitHub, the HTML representation is unable to render, please try loading this page with nbviewer.org.</b></div><div class=\"sk-container\" hidden><div class=\"sk-item sk-dashed-wrapped\"><div class=\"sk-label-container\"><div class=\"sk-label sk-toggleable\"><input class=\"sk-toggleable__control sk-hidden--visually\" id=\"sk-estimator-id-136\" type=\"checkbox\" ><label for=\"sk-estimator-id-136\" class=\"sk-toggleable__label sk-toggleable__label-arrow\">VotingRegressor</label><div class=\"sk-toggleable__content\"><pre>VotingRegressor(estimators=[(&#x27;gbr&#x27;,\n",
              "                             Pipeline(steps=[(&#x27;pp&#x27;,\n",
              "                                              Pipeline(steps=[(&#x27;feature_engg_transformer&#x27;,\n",
              "                                                               ColumnTransformer(remainder=&#x27;passthrough&#x27;,\n",
              "                                                                                 transformers=[(&#x27;num&#x27;,\n",
              "                                                                                                Pipeline(steps=[(&#x27;scaler&#x27;,\n",
              "                                                                                                                 StandardScaler())]),\n",
              "                                                                                                [&#x27;mileage&#x27;,\n",
              "                                                                                                 &#x27;vehicle_condition&#x27;,\n",
              "                                                                                                 &#x27;crossover_car_and_van&#x27;,\n",
              "                                                                                                 &#x27;mileage_pt&#x27;,\n",
              "                                                                                                 &#x27;vehicle_age&#x27;]),\n",
              "                                                                                               (&#x27;cat_1&#x27;,\n",
              "                                                                                                Pipeline(steps=[(&#x27;ohe&#x27;,\n",
              "                                                                                                                 OneHotEncoder(drop=&#x27;if_b...\n",
              "                                                           grow_policy=None,\n",
              "                                                           importance_type=None,\n",
              "                                                           interaction_constraints=None,\n",
              "                                                           learning_rate=None,\n",
              "                                                           max_bin=None,\n",
              "                                                           max_cat_threshold=None,\n",
              "                                                           max_cat_to_onehot=None,\n",
              "                                                           max_delta_step=None,\n",
              "                                                           max_depth=None,\n",
              "                                                           max_leaves=None,\n",
              "                                                           min_child_weight=None,\n",
              "                                                           missing=nan,\n",
              "                                                           monotone_constraints=None,\n",
              "                                                           n_estimators=100,\n",
              "                                                           n_jobs=None,\n",
              "                                                           num_parallel_tree=None,\n",
              "                                                           predictor=None,\n",
              "                                                           random_state=None, ...))]))])</pre></div></div></div><div class=\"sk-parallel\"><div class=\"sk-parallel-item\"><div class=\"sk-item\"><div class=\"sk-label-container\"><div class=\"sk-label sk-toggleable\"><label>gbr</label></div></div><div class=\"sk-serial\"><div class=\"sk-item\"><div class=\"sk-serial\"><div class=\"sk-item\"><div class=\"sk-label-container\"><div class=\"sk-label sk-toggleable\"><input class=\"sk-toggleable__control sk-hidden--visually\" id=\"sk-estimator-id-137\" type=\"checkbox\" ><label for=\"sk-estimator-id-137\" class=\"sk-toggleable__label sk-toggleable__label-arrow\">pp: Pipeline</label><div class=\"sk-toggleable__content\"><pre>Pipeline(steps=[(&#x27;feature_engg_transformer&#x27;,\n",
              "                 ColumnTransformer(remainder=&#x27;passthrough&#x27;,\n",
              "                                   transformers=[(&#x27;num&#x27;,\n",
              "                                                  Pipeline(steps=[(&#x27;scaler&#x27;,\n",
              "                                                                   StandardScaler())]),\n",
              "                                                  [&#x27;mileage&#x27;,\n",
              "                                                   &#x27;vehicle_condition&#x27;,\n",
              "                                                   &#x27;crossover_car_and_van&#x27;,\n",
              "                                                   &#x27;mileage_pt&#x27;,\n",
              "                                                   &#x27;vehicle_age&#x27;]),\n",
              "                                                 (&#x27;cat_1&#x27;,\n",
              "                                                  Pipeline(steps=[(&#x27;ohe&#x27;,\n",
              "                                                                   OneHotEncoder(drop=&#x27;if_binary&#x27;,\n",
              "                                                                                 handle_unknown=&#x27;ignore&#x27;,\n",
              "                                                                                 sparse=False))]),\n",
              "                                                  [&#x27;fuel_type&#x27;, &#x27;body_type&#x27;]),\n",
              "                                                 (&#x27;cat_2&#x27;,\n",
              "                                                  Pipeline(steps=[(&#x27;target&#x27;,\n",
              "                                                                   TargetEncoder())]),\n",
              "                                                  [&#x27;standard_make&#x27;,\n",
              "                                                   &#x27;standard_model&#x27;,\n",
              "                                                   &#x27;standard_colour&#x27;])],\n",
              "                                   verbose_feature_names_out=False)),\n",
              "                (&#x27;featsel&#x27;,\n",
              "                 SelectKBest(k=8,\n",
              "                             score_func=&lt;function f_regression at 0x7ff429da8820&gt;))])</pre></div></div></div><div class=\"sk-serial\"><div class=\"sk-item sk-dashed-wrapped\"><div class=\"sk-label-container\"><div class=\"sk-label sk-toggleable\"><input class=\"sk-toggleable__control sk-hidden--visually\" id=\"sk-estimator-id-138\" type=\"checkbox\" ><label for=\"sk-estimator-id-138\" class=\"sk-toggleable__label sk-toggleable__label-arrow\">feature_engg_transformer: ColumnTransformer</label><div class=\"sk-toggleable__content\"><pre>ColumnTransformer(remainder=&#x27;passthrough&#x27;,\n",
              "                  transformers=[(&#x27;num&#x27;,\n",
              "                                 Pipeline(steps=[(&#x27;scaler&#x27;, StandardScaler())]),\n",
              "                                 [&#x27;mileage&#x27;, &#x27;vehicle_condition&#x27;,\n",
              "                                  &#x27;crossover_car_and_van&#x27;, &#x27;mileage_pt&#x27;,\n",
              "                                  &#x27;vehicle_age&#x27;]),\n",
              "                                (&#x27;cat_1&#x27;,\n",
              "                                 Pipeline(steps=[(&#x27;ohe&#x27;,\n",
              "                                                  OneHotEncoder(drop=&#x27;if_binary&#x27;,\n",
              "                                                                handle_unknown=&#x27;ignore&#x27;,\n",
              "                                                                sparse=False))]),\n",
              "                                 [&#x27;fuel_type&#x27;, &#x27;body_type&#x27;]),\n",
              "                                (&#x27;cat_2&#x27;,\n",
              "                                 Pipeline(steps=[(&#x27;target&#x27;, TargetEncoder())]),\n",
              "                                 [&#x27;standard_make&#x27;, &#x27;standard_model&#x27;,\n",
              "                                  &#x27;standard_colour&#x27;])],\n",
              "                  verbose_feature_names_out=False)</pre></div></div></div><div class=\"sk-parallel\"><div class=\"sk-parallel-item\"><div class=\"sk-item\"><div class=\"sk-label-container\"><div class=\"sk-label sk-toggleable\"><input class=\"sk-toggleable__control sk-hidden--visually\" id=\"sk-estimator-id-139\" type=\"checkbox\" ><label for=\"sk-estimator-id-139\" class=\"sk-toggleable__label sk-toggleable__label-arrow\">num</label><div class=\"sk-toggleable__content\"><pre>[&#x27;mileage&#x27;, &#x27;vehicle_condition&#x27;, &#x27;crossover_car_and_van&#x27;, &#x27;mileage_pt&#x27;, &#x27;vehicle_age&#x27;]</pre></div></div></div><div class=\"sk-serial\"><div class=\"sk-item\"><div class=\"sk-serial\"><div class=\"sk-item\"><div class=\"sk-estimator sk-toggleable\"><input class=\"sk-toggleable__control sk-hidden--visually\" id=\"sk-estimator-id-140\" type=\"checkbox\" ><label for=\"sk-estimator-id-140\" class=\"sk-toggleable__label sk-toggleable__label-arrow\">StandardScaler</label><div class=\"sk-toggleable__content\"><pre>StandardScaler()</pre></div></div></div></div></div></div></div></div><div class=\"sk-parallel-item\"><div class=\"sk-item\"><div class=\"sk-label-container\"><div class=\"sk-label sk-toggleable\"><input class=\"sk-toggleable__control sk-hidden--visually\" id=\"sk-estimator-id-141\" type=\"checkbox\" ><label for=\"sk-estimator-id-141\" class=\"sk-toggleable__label sk-toggleable__label-arrow\">cat_1</label><div class=\"sk-toggleable__content\"><pre>[&#x27;fuel_type&#x27;, &#x27;body_type&#x27;]</pre></div></div></div><div class=\"sk-serial\"><div class=\"sk-item\"><div class=\"sk-serial\"><div class=\"sk-item\"><div class=\"sk-estimator sk-toggleable\"><input class=\"sk-toggleable__control sk-hidden--visually\" id=\"sk-estimator-id-142\" type=\"checkbox\" ><label for=\"sk-estimator-id-142\" class=\"sk-toggleable__label sk-toggleable__label-arrow\">OneHotEncoder</label><div class=\"sk-toggleable__content\"><pre>OneHotEncoder(drop=&#x27;if_binary&#x27;, handle_unknown=&#x27;ignore&#x27;, sparse=False)</pre></div></div></div></div></div></div></div></div><div class=\"sk-parallel-item\"><div class=\"sk-item\"><div class=\"sk-label-container\"><div class=\"sk-label sk-toggleable\"><input class=\"sk-toggleable__control sk-hidden--visually\" id=\"sk-estimator-id-143\" type=\"checkbox\" ><label for=\"sk-estimator-id-143\" class=\"sk-toggleable__label sk-toggleable__label-arrow\">cat_2</label><div class=\"sk-toggleable__content\"><pre>[&#x27;standard_make&#x27;, &#x27;standard_model&#x27;, &#x27;standard_colour&#x27;]</pre></div></div></div><div class=\"sk-serial\"><div class=\"sk-item\"><div class=\"sk-serial\"><div class=\"sk-item\"><div class=\"sk-estimator sk-toggleable\"><input class=\"sk-toggleable__control sk-hidden--visually\" id=\"sk-estimator-id-144\" type=\"checkbox\" ><label for=\"sk-estimator-id-144\" class=\"sk-toggleable__label sk-toggleable__label-arrow\">TargetEncoder</label><div class=\"sk-toggleable__content\"><pre>TargetEncoder()</pre></div></div></div></div></div></div></div></div><div class=\"sk-parallel-item\"><div class=\"sk-item\"><div class=\"sk-label-container\"><div class=\"sk-label sk-toggleable\"><input class=\"sk-toggleable__control sk-hidden--visually\" id=\"sk-estimator-id-145\" type=\"checkbox\" ><label for=\"sk-estimator-id-145\" class=\"sk-toggleable__label sk-toggleable__label-arrow\">remainder</label><div class=\"sk-toggleable__content\"><pre>[]</pre></div></div></div><div class=\"sk-serial\"><div class=\"sk-item\"><div class=\"sk-estimator sk-toggleable\"><input class=\"sk-toggleable__control sk-hidden--visually\" id=\"sk-estimator-id-146\" type=\"checkbox\" ><label for=\"sk-estimator-id-146\" class=\"sk-toggleable__label sk-toggleable__label-arrow\">passthrough</label><div class=\"sk-toggleable__content\"><pre>passthrough</pre></div></div></div></div></div></div></div></div><div class=\"sk-item\"><div class=\"sk-estimator sk-toggleable\"><input class=\"sk-toggleable__control sk-hidden--visually\" id=\"sk-estimator-id-147\" type=\"checkbox\" ><label for=\"sk-estimator-id-147\" class=\"sk-toggleable__label sk-toggleable__label-arrow\">SelectKBest</label><div class=\"sk-toggleable__content\"><pre>SelectKBest(k=8, score_func=&lt;function f_regression at 0x7ff429da8820&gt;)</pre></div></div></div></div></div><div class=\"sk-item\"><div class=\"sk-estimator sk-toggleable\"><input class=\"sk-toggleable__control sk-hidden--visually\" id=\"sk-estimator-id-148\" type=\"checkbox\" ><label for=\"sk-estimator-id-148\" class=\"sk-toggleable__label sk-toggleable__label-arrow\">XGBRegressor</label><div class=\"sk-toggleable__content\"><pre>XGBRegressor(base_score=None, booster=None, callbacks=None,\n",
              "             colsample_bylevel=None, colsample_bynode=None,\n",
              "             colsample_bytree=None, early_stopping_rounds=None,\n",
              "             enable_categorical=False, eval_metric=None, feature_types=None,\n",
              "             gamma=None, gpu_id=None, grow_policy=None, importance_type=None,\n",
              "             interaction_constraints=None, learning_rate=None, max_bin=None,\n",
              "             max_cat_threshold=None, max_cat_to_onehot=None,\n",
              "             max_delta_step=None, max_depth=None, max_leaves=None,\n",
              "             min_child_weight=None, missing=nan, monotone_constraints=None,\n",
              "             n_estimators=100, n_jobs=None, num_parallel_tree=None,\n",
              "             predictor=None, random_state=None, ...)</pre></div></div></div></div></div></div></div></div><div class=\"sk-parallel-item\"><div class=\"sk-item\"><div class=\"sk-label-container\"><div class=\"sk-label sk-toggleable\"><label>rfr</label></div></div><div class=\"sk-serial\"><div class=\"sk-item\"><div class=\"sk-serial\"><div class=\"sk-item\"><div class=\"sk-label-container\"><div class=\"sk-label sk-toggleable\"><input class=\"sk-toggleable__control sk-hidden--visually\" id=\"sk-estimator-id-149\" type=\"checkbox\" ><label for=\"sk-estimator-id-149\" class=\"sk-toggleable__label sk-toggleable__label-arrow\">pp: Pipeline</label><div class=\"sk-toggleable__content\"><pre>Pipeline(steps=[(&#x27;feature_engg_transformer&#x27;,\n",
              "                 ColumnTransformer(remainder=&#x27;passthrough&#x27;,\n",
              "                                   transformers=[(&#x27;num&#x27;,\n",
              "                                                  Pipeline(steps=[(&#x27;scaler&#x27;,\n",
              "                                                                   StandardScaler())]),\n",
              "                                                  [&#x27;mileage&#x27;,\n",
              "                                                   &#x27;vehicle_condition&#x27;,\n",
              "                                                   &#x27;crossover_car_and_van&#x27;,\n",
              "                                                   &#x27;mileage_pt&#x27;,\n",
              "                                                   &#x27;vehicle_age&#x27;]),\n",
              "                                                 (&#x27;cat_1&#x27;,\n",
              "                                                  Pipeline(steps=[(&#x27;ohe&#x27;,\n",
              "                                                                   OneHotEncoder(drop=&#x27;if_binary&#x27;,\n",
              "                                                                                 handle_unknown=&#x27;ignore&#x27;,\n",
              "                                                                                 sparse=False))]),\n",
              "                                                  [&#x27;fuel_type&#x27;, &#x27;body_type&#x27;]),\n",
              "                                                 (&#x27;cat_2&#x27;,\n",
              "                                                  Pipeline(steps=[(&#x27;target&#x27;,\n",
              "                                                                   TargetEncoder())]),\n",
              "                                                  [&#x27;standard_make&#x27;,\n",
              "                                                   &#x27;standard_model&#x27;,\n",
              "                                                   &#x27;standard_colour&#x27;])],\n",
              "                                   verbose_feature_names_out=False)),\n",
              "                (&#x27;featsel&#x27;,\n",
              "                 SelectKBest(k=8,\n",
              "                             score_func=&lt;function f_regression at 0x7ff429da8820&gt;))])</pre></div></div></div><div class=\"sk-serial\"><div class=\"sk-item sk-dashed-wrapped\"><div class=\"sk-label-container\"><div class=\"sk-label sk-toggleable\"><input class=\"sk-toggleable__control sk-hidden--visually\" id=\"sk-estimator-id-150\" type=\"checkbox\" ><label for=\"sk-estimator-id-150\" class=\"sk-toggleable__label sk-toggleable__label-arrow\">feature_engg_transformer: ColumnTransformer</label><div class=\"sk-toggleable__content\"><pre>ColumnTransformer(remainder=&#x27;passthrough&#x27;,\n",
              "                  transformers=[(&#x27;num&#x27;,\n",
              "                                 Pipeline(steps=[(&#x27;scaler&#x27;, StandardScaler())]),\n",
              "                                 [&#x27;mileage&#x27;, &#x27;vehicle_condition&#x27;,\n",
              "                                  &#x27;crossover_car_and_van&#x27;, &#x27;mileage_pt&#x27;,\n",
              "                                  &#x27;vehicle_age&#x27;]),\n",
              "                                (&#x27;cat_1&#x27;,\n",
              "                                 Pipeline(steps=[(&#x27;ohe&#x27;,\n",
              "                                                  OneHotEncoder(drop=&#x27;if_binary&#x27;,\n",
              "                                                                handle_unknown=&#x27;ignore&#x27;,\n",
              "                                                                sparse=False))]),\n",
              "                                 [&#x27;fuel_type&#x27;, &#x27;body_type&#x27;]),\n",
              "                                (&#x27;cat_2&#x27;,\n",
              "                                 Pipeline(steps=[(&#x27;target&#x27;, TargetEncoder())]),\n",
              "                                 [&#x27;standard_make&#x27;, &#x27;standard_model&#x27;,\n",
              "                                  &#x27;standard_colour&#x27;])],\n",
              "                  verbose_feature_names_out=False)</pre></div></div></div><div class=\"sk-parallel\"><div class=\"sk-parallel-item\"><div class=\"sk-item\"><div class=\"sk-label-container\"><div class=\"sk-label sk-toggleable\"><input class=\"sk-toggleable__control sk-hidden--visually\" id=\"sk-estimator-id-151\" type=\"checkbox\" ><label for=\"sk-estimator-id-151\" class=\"sk-toggleable__label sk-toggleable__label-arrow\">num</label><div class=\"sk-toggleable__content\"><pre>[&#x27;mileage&#x27;, &#x27;vehicle_condition&#x27;, &#x27;crossover_car_and_van&#x27;, &#x27;mileage_pt&#x27;, &#x27;vehicle_age&#x27;]</pre></div></div></div><div class=\"sk-serial\"><div class=\"sk-item\"><div class=\"sk-serial\"><div class=\"sk-item\"><div class=\"sk-estimator sk-toggleable\"><input class=\"sk-toggleable__control sk-hidden--visually\" id=\"sk-estimator-id-152\" type=\"checkbox\" ><label for=\"sk-estimator-id-152\" class=\"sk-toggleable__label sk-toggleable__label-arrow\">StandardScaler</label><div class=\"sk-toggleable__content\"><pre>StandardScaler()</pre></div></div></div></div></div></div></div></div><div class=\"sk-parallel-item\"><div class=\"sk-item\"><div class=\"sk-label-container\"><div class=\"sk-label sk-toggleable\"><input class=\"sk-toggleable__control sk-hidden--visually\" id=\"sk-estimator-id-153\" type=\"checkbox\" ><label for=\"sk-estimator-id-153\" class=\"sk-toggleable__label sk-toggleable__label-arrow\">cat_1</label><div class=\"sk-toggleable__content\"><pre>[&#x27;fuel_type&#x27;, &#x27;body_type&#x27;]</pre></div></div></div><div class=\"sk-serial\"><div class=\"sk-item\"><div class=\"sk-serial\"><div class=\"sk-item\"><div class=\"sk-estimator sk-toggleable\"><input class=\"sk-toggleable__control sk-hidden--visually\" id=\"sk-estimator-id-154\" type=\"checkbox\" ><label for=\"sk-estimator-id-154\" class=\"sk-toggleable__label sk-toggleable__label-arrow\">OneHotEncoder</label><div class=\"sk-toggleable__content\"><pre>OneHotEncoder(drop=&#x27;if_binary&#x27;, handle_unknown=&#x27;ignore&#x27;, sparse=False)</pre></div></div></div></div></div></div></div></div><div class=\"sk-parallel-item\"><div class=\"sk-item\"><div class=\"sk-label-container\"><div class=\"sk-label sk-toggleable\"><input class=\"sk-toggleable__control sk-hidden--visually\" id=\"sk-estimator-id-155\" type=\"checkbox\" ><label for=\"sk-estimator-id-155\" class=\"sk-toggleable__label sk-toggleable__label-arrow\">cat_2</label><div class=\"sk-toggleable__content\"><pre>[&#x27;standard_make&#x27;, &#x27;standard_model&#x27;, &#x27;standard_colour&#x27;]</pre></div></div></div><div class=\"sk-serial\"><div class=\"sk-item\"><div class=\"sk-serial\"><div class=\"sk-item\"><div class=\"sk-estimator sk-toggleable\"><input class=\"sk-toggleable__control sk-hidden--visually\" id=\"sk-estimator-id-156\" type=\"checkbox\" ><label for=\"sk-estimator-id-156\" class=\"sk-toggleable__label sk-toggleable__label-arrow\">TargetEncoder</label><div class=\"sk-toggleable__content\"><pre>TargetEncoder()</pre></div></div></div></div></div></div></div></div><div class=\"sk-parallel-item\"><div class=\"sk-item\"><div class=\"sk-label-container\"><div class=\"sk-label sk-toggleable\"><input class=\"sk-toggleable__control sk-hidden--visually\" id=\"sk-estimator-id-157\" type=\"checkbox\" ><label for=\"sk-estimator-id-157\" class=\"sk-toggleable__label sk-toggleable__label-arrow\">remainder</label><div class=\"sk-toggleable__content\"><pre>[]</pre></div></div></div><div class=\"sk-serial\"><div class=\"sk-item\"><div class=\"sk-estimator sk-toggleable\"><input class=\"sk-toggleable__control sk-hidden--visually\" id=\"sk-estimator-id-158\" type=\"checkbox\" ><label for=\"sk-estimator-id-158\" class=\"sk-toggleable__label sk-toggleable__label-arrow\">passthrough</label><div class=\"sk-toggleable__content\"><pre>passthrough</pre></div></div></div></div></div></div></div></div><div class=\"sk-item\"><div class=\"sk-estimator sk-toggleable\"><input class=\"sk-toggleable__control sk-hidden--visually\" id=\"sk-estimator-id-159\" type=\"checkbox\" ><label for=\"sk-estimator-id-159\" class=\"sk-toggleable__label sk-toggleable__label-arrow\">SelectKBest</label><div class=\"sk-toggleable__content\"><pre>SelectKBest(k=8, score_func=&lt;function f_regression at 0x7ff429da8820&gt;)</pre></div></div></div></div></div><div class=\"sk-item\"><div class=\"sk-estimator sk-toggleable\"><input class=\"sk-toggleable__control sk-hidden--visually\" id=\"sk-estimator-id-160\" type=\"checkbox\" ><label for=\"sk-estimator-id-160\" class=\"sk-toggleable__label sk-toggleable__label-arrow\">XGBRegressor</label><div class=\"sk-toggleable__content\"><pre>XGBRegressor(base_score=None, booster=None, callbacks=None,\n",
              "             colsample_bylevel=None, colsample_bynode=None,\n",
              "             colsample_bytree=None, early_stopping_rounds=None,\n",
              "             enable_categorical=False, eval_metric=None, feature_types=None,\n",
              "             gamma=None, gpu_id=None, grow_policy=None, importance_type=None,\n",
              "             interaction_constraints=None, learning_rate=None, max_bin=None,\n",
              "             max_cat_threshold=None, max_cat_to_onehot=None,\n",
              "             max_delta_step=None, max_depth=None, max_leaves=None,\n",
              "             min_child_weight=None, missing=nan, monotone_constraints=None,\n",
              "             n_estimators=100, n_jobs=None, num_parallel_tree=None,\n",
              "             predictor=None, random_state=None, ...)</pre></div></div></div></div></div></div></div></div></div></div></div></div>"
            ]
          },
          "metadata": {},
          "execution_count": 92
        }
      ],
      "source": [
        "# Create a VotingRegressor ensemble\n",
        "voter = VotingRegressor(estimators=[(\"gbr\", gbr), (\"rfr\", rfr)])\n",
        "voter.fit(Xf_train, yf_train)"
      ]
    },
    {
      "cell_type": "code",
      "source": [
        "Xf_train"
      ],
      "metadata": {
        "colab": {
          "base_uri": "https://localhost:8080/",
          "height": 539
        },
        "id": "0Z43B04GqCnj",
        "outputId": "325a4a46-ebf3-46eb-e1ee-cded8b64f235"
      },
      "id": "0Z43B04GqCnj",
      "execution_count": null,
      "outputs": [
        {
          "output_type": "execute_result",
          "data": {
            "text/plain": [
              "         mileage standard_colour standard_make     standard_model  \\\n",
              "0            0.0            Grey         Volvo               XC90   \n",
              "1       108230.0            Blue        Jaguar                 XF   \n",
              "2         7800.0            Grey         SKODA               Yeti   \n",
              "3        45000.0           Brown      Vauxhall              Mokka   \n",
              "4        64000.0            Grey    Land Rover  Range Rover Sport   \n",
              "...          ...             ...           ...                ...   \n",
              "321599   23827.0           Black         Smart            forfour   \n",
              "321600    3083.0            Grey          Audi                 Q2   \n",
              "321601    9230.0           Black    Land Rover    Discovery Sport   \n",
              "321602   27841.0            Grey          Audi                 A3   \n",
              "321603   73000.0            Grey       Renault               Clio   \n",
              "\n",
              "        vehicle_condition  body_type  crossover_car_and_van  \\\n",
              "0                       1        SUV                  False   \n",
              "1                       0     Saloon                  False   \n",
              "2                       0        SUV                  False   \n",
              "3                       0  Hatchback                  False   \n",
              "4                       0        SUV                  False   \n",
              "...                   ...        ...                    ...   \n",
              "321599                  0  Hatchback                  False   \n",
              "321600                  0        SUV                  False   \n",
              "321601                  0        SUV                  False   \n",
              "321602                  0  Hatchback                  False   \n",
              "321603                  0  Hatchback                  False   \n",
              "\n",
              "                    fuel_type  mileage_pt  vehicle_age  \n",
              "0       Petrol Plug-in Hybrid   -2.054485          3.0  \n",
              "1                      Diesel    1.490253         12.0  \n",
              "2                      Petrol   -0.737127          6.0  \n",
              "3                      Diesel    0.499330          7.0  \n",
              "4                      Diesel    0.859137          8.0  \n",
              "...                       ...         ...          ...  \n",
              "321599                 Petrol   -0.043251          7.0  \n",
              "321600                 Petrol   -1.132395          3.0  \n",
              "321601                 Diesel   -0.649854          5.0  \n",
              "321602                 Diesel    0.078128          7.0  \n",
              "321603                 Petrol    1.005952         10.0  \n",
              "\n",
              "[321260 rows x 10 columns]"
            ],
            "text/html": [
              "\n",
              "  <div id=\"df-7c9cd070-8399-4e72-9da1-46d9c027b1b1\">\n",
              "    <div class=\"colab-df-container\">\n",
              "      <div>\n",
              "<style scoped>\n",
              "    .dataframe tbody tr th:only-of-type {\n",
              "        vertical-align: middle;\n",
              "    }\n",
              "\n",
              "    .dataframe tbody tr th {\n",
              "        vertical-align: top;\n",
              "    }\n",
              "\n",
              "    .dataframe thead th {\n",
              "        text-align: right;\n",
              "    }\n",
              "</style>\n",
              "<table border=\"1\" class=\"dataframe\">\n",
              "  <thead>\n",
              "    <tr style=\"text-align: right;\">\n",
              "      <th></th>\n",
              "      <th>mileage</th>\n",
              "      <th>standard_colour</th>\n",
              "      <th>standard_make</th>\n",
              "      <th>standard_model</th>\n",
              "      <th>vehicle_condition</th>\n",
              "      <th>body_type</th>\n",
              "      <th>crossover_car_and_van</th>\n",
              "      <th>fuel_type</th>\n",
              "      <th>mileage_pt</th>\n",
              "      <th>vehicle_age</th>\n",
              "    </tr>\n",
              "  </thead>\n",
              "  <tbody>\n",
              "    <tr>\n",
              "      <th>0</th>\n",
              "      <td>0.0</td>\n",
              "      <td>Grey</td>\n",
              "      <td>Volvo</td>\n",
              "      <td>XC90</td>\n",
              "      <td>1</td>\n",
              "      <td>SUV</td>\n",
              "      <td>False</td>\n",
              "      <td>Petrol Plug-in Hybrid</td>\n",
              "      <td>-2.054485</td>\n",
              "      <td>3.0</td>\n",
              "    </tr>\n",
              "    <tr>\n",
              "      <th>1</th>\n",
              "      <td>108230.0</td>\n",
              "      <td>Blue</td>\n",
              "      <td>Jaguar</td>\n",
              "      <td>XF</td>\n",
              "      <td>0</td>\n",
              "      <td>Saloon</td>\n",
              "      <td>False</td>\n",
              "      <td>Diesel</td>\n",
              "      <td>1.490253</td>\n",
              "      <td>12.0</td>\n",
              "    </tr>\n",
              "    <tr>\n",
              "      <th>2</th>\n",
              "      <td>7800.0</td>\n",
              "      <td>Grey</td>\n",
              "      <td>SKODA</td>\n",
              "      <td>Yeti</td>\n",
              "      <td>0</td>\n",
              "      <td>SUV</td>\n",
              "      <td>False</td>\n",
              "      <td>Petrol</td>\n",
              "      <td>-0.737127</td>\n",
              "      <td>6.0</td>\n",
              "    </tr>\n",
              "    <tr>\n",
              "      <th>3</th>\n",
              "      <td>45000.0</td>\n",
              "      <td>Brown</td>\n",
              "      <td>Vauxhall</td>\n",
              "      <td>Mokka</td>\n",
              "      <td>0</td>\n",
              "      <td>Hatchback</td>\n",
              "      <td>False</td>\n",
              "      <td>Diesel</td>\n",
              "      <td>0.499330</td>\n",
              "      <td>7.0</td>\n",
              "    </tr>\n",
              "    <tr>\n",
              "      <th>4</th>\n",
              "      <td>64000.0</td>\n",
              "      <td>Grey</td>\n",
              "      <td>Land Rover</td>\n",
              "      <td>Range Rover Sport</td>\n",
              "      <td>0</td>\n",
              "      <td>SUV</td>\n",
              "      <td>False</td>\n",
              "      <td>Diesel</td>\n",
              "      <td>0.859137</td>\n",
              "      <td>8.0</td>\n",
              "    </tr>\n",
              "    <tr>\n",
              "      <th>...</th>\n",
              "      <td>...</td>\n",
              "      <td>...</td>\n",
              "      <td>...</td>\n",
              "      <td>...</td>\n",
              "      <td>...</td>\n",
              "      <td>...</td>\n",
              "      <td>...</td>\n",
              "      <td>...</td>\n",
              "      <td>...</td>\n",
              "      <td>...</td>\n",
              "    </tr>\n",
              "    <tr>\n",
              "      <th>321599</th>\n",
              "      <td>23827.0</td>\n",
              "      <td>Black</td>\n",
              "      <td>Smart</td>\n",
              "      <td>forfour</td>\n",
              "      <td>0</td>\n",
              "      <td>Hatchback</td>\n",
              "      <td>False</td>\n",
              "      <td>Petrol</td>\n",
              "      <td>-0.043251</td>\n",
              "      <td>7.0</td>\n",
              "    </tr>\n",
              "    <tr>\n",
              "      <th>321600</th>\n",
              "      <td>3083.0</td>\n",
              "      <td>Grey</td>\n",
              "      <td>Audi</td>\n",
              "      <td>Q2</td>\n",
              "      <td>0</td>\n",
              "      <td>SUV</td>\n",
              "      <td>False</td>\n",
              "      <td>Petrol</td>\n",
              "      <td>-1.132395</td>\n",
              "      <td>3.0</td>\n",
              "    </tr>\n",
              "    <tr>\n",
              "      <th>321601</th>\n",
              "      <td>9230.0</td>\n",
              "      <td>Black</td>\n",
              "      <td>Land Rover</td>\n",
              "      <td>Discovery Sport</td>\n",
              "      <td>0</td>\n",
              "      <td>SUV</td>\n",
              "      <td>False</td>\n",
              "      <td>Diesel</td>\n",
              "      <td>-0.649854</td>\n",
              "      <td>5.0</td>\n",
              "    </tr>\n",
              "    <tr>\n",
              "      <th>321602</th>\n",
              "      <td>27841.0</td>\n",
              "      <td>Grey</td>\n",
              "      <td>Audi</td>\n",
              "      <td>A3</td>\n",
              "      <td>0</td>\n",
              "      <td>Hatchback</td>\n",
              "      <td>False</td>\n",
              "      <td>Diesel</td>\n",
              "      <td>0.078128</td>\n",
              "      <td>7.0</td>\n",
              "    </tr>\n",
              "    <tr>\n",
              "      <th>321603</th>\n",
              "      <td>73000.0</td>\n",
              "      <td>Grey</td>\n",
              "      <td>Renault</td>\n",
              "      <td>Clio</td>\n",
              "      <td>0</td>\n",
              "      <td>Hatchback</td>\n",
              "      <td>False</td>\n",
              "      <td>Petrol</td>\n",
              "      <td>1.005952</td>\n",
              "      <td>10.0</td>\n",
              "    </tr>\n",
              "  </tbody>\n",
              "</table>\n",
              "<p>321260 rows × 10 columns</p>\n",
              "</div>\n",
              "      <button class=\"colab-df-convert\" onclick=\"convertToInteractive('df-7c9cd070-8399-4e72-9da1-46d9c027b1b1')\"\n",
              "              title=\"Convert this dataframe to an interactive table.\"\n",
              "              style=\"display:none;\">\n",
              "        \n",
              "  <svg xmlns=\"http://www.w3.org/2000/svg\" height=\"24px\"viewBox=\"0 0 24 24\"\n",
              "       width=\"24px\">\n",
              "    <path d=\"M0 0h24v24H0V0z\" fill=\"none\"/>\n",
              "    <path d=\"M18.56 5.44l.94 2.06.94-2.06 2.06-.94-2.06-.94-.94-2.06-.94 2.06-2.06.94zm-11 1L8.5 8.5l.94-2.06 2.06-.94-2.06-.94L8.5 2.5l-.94 2.06-2.06.94zm10 10l.94 2.06.94-2.06 2.06-.94-2.06-.94-.94-2.06-.94 2.06-2.06.94z\"/><path d=\"M17.41 7.96l-1.37-1.37c-.4-.4-.92-.59-1.43-.59-.52 0-1.04.2-1.43.59L10.3 9.45l-7.72 7.72c-.78.78-.78 2.05 0 2.83L4 21.41c.39.39.9.59 1.41.59.51 0 1.02-.2 1.41-.59l7.78-7.78 2.81-2.81c.8-.78.8-2.07 0-2.86zM5.41 20L4 18.59l7.72-7.72 1.47 1.35L5.41 20z\"/>\n",
              "  </svg>\n",
              "      </button>\n",
              "      \n",
              "  <style>\n",
              "    .colab-df-container {\n",
              "      display:flex;\n",
              "      flex-wrap:wrap;\n",
              "      gap: 12px;\n",
              "    }\n",
              "\n",
              "    .colab-df-convert {\n",
              "      background-color: #E8F0FE;\n",
              "      border: none;\n",
              "      border-radius: 50%;\n",
              "      cursor: pointer;\n",
              "      display: none;\n",
              "      fill: #1967D2;\n",
              "      height: 32px;\n",
              "      padding: 0 0 0 0;\n",
              "      width: 32px;\n",
              "    }\n",
              "\n",
              "    .colab-df-convert:hover {\n",
              "      background-color: #E2EBFA;\n",
              "      box-shadow: 0px 1px 2px rgba(60, 64, 67, 0.3), 0px 1px 3px 1px rgba(60, 64, 67, 0.15);\n",
              "      fill: #174EA6;\n",
              "    }\n",
              "\n",
              "    [theme=dark] .colab-df-convert {\n",
              "      background-color: #3B4455;\n",
              "      fill: #D2E3FC;\n",
              "    }\n",
              "\n",
              "    [theme=dark] .colab-df-convert:hover {\n",
              "      background-color: #434B5C;\n",
              "      box-shadow: 0px 1px 3px 1px rgba(0, 0, 0, 0.15);\n",
              "      filter: drop-shadow(0px 1px 2px rgba(0, 0, 0, 0.3));\n",
              "      fill: #FFFFFF;\n",
              "    }\n",
              "  </style>\n",
              "\n",
              "      <script>\n",
              "        const buttonEl =\n",
              "          document.querySelector('#df-7c9cd070-8399-4e72-9da1-46d9c027b1b1 button.colab-df-convert');\n",
              "        buttonEl.style.display =\n",
              "          google.colab.kernel.accessAllowed ? 'block' : 'none';\n",
              "\n",
              "        async function convertToInteractive(key) {\n",
              "          const element = document.querySelector('#df-7c9cd070-8399-4e72-9da1-46d9c027b1b1');\n",
              "          const dataTable =\n",
              "            await google.colab.kernel.invokeFunction('convertToInteractive',\n",
              "                                                     [key], {});\n",
              "          if (!dataTable) return;\n",
              "\n",
              "          const docLinkHtml = 'Like what you see? Visit the ' +\n",
              "            '<a target=\"_blank\" href=https://colab.research.google.com/notebooks/data_table.ipynb>data table notebook</a>'\n",
              "            + ' to learn more about interactive tables.';\n",
              "          element.innerHTML = '';\n",
              "          dataTable['output_type'] = 'display_data';\n",
              "          await google.colab.output.renderOutput(dataTable, element);\n",
              "          const docLink = document.createElement('div');\n",
              "          docLink.innerHTML = docLinkHtml;\n",
              "          element.appendChild(docLink);\n",
              "        }\n",
              "      </script>\n",
              "    </div>\n",
              "  </div>\n",
              "  "
            ]
          },
          "metadata": {},
          "execution_count": 93
        }
      ]
    },
    {
      "cell_type": "code",
      "source": [
        "yf_train"
      ],
      "metadata": {
        "colab": {
          "base_uri": "https://localhost:8080/"
        },
        "id": "_2zJizyhxX4w",
        "outputId": "bd604877-d903-4b8c-f429-86dd428d476b"
      },
      "id": "_2zJizyhxX4w",
      "execution_count": null,
      "outputs": [
        {
          "output_type": "execute_result",
          "data": {
            "text/plain": [
              "0         73970\n",
              "1          7000\n",
              "2         14000\n",
              "3          7995\n",
              "4         26995\n",
              "          ...  \n",
              "321599     6299\n",
              "321600    24950\n",
              "321601    32000\n",
              "321602    12495\n",
              "321603     4999\n",
              "Name: price, Length: 321260, dtype: int64"
            ]
          },
          "metadata": {},
          "execution_count": 127
        }
      ]
    },
    {
      "cell_type": "code",
      "source": [
        "# Create a DataFrame with the input data\n",
        "input_data = pd.DataFrame(\n",
        "    [[14000.0,\t\"Silver\",\t\"Audi\",\t\"A4 Avant\" ,0,\t\"Estate\",\tFalse\t,\"Diesel\",\t-0.409167,\t9.0]],\n",
        "    columns=[\"mileage\",\t\"standard_colour\"\t,\"standard_make\",\t\"standard_model\",\t\"vehicle_condition\",\t\"body_type\",\t\"crossover_car_and_van\",\t\"fuel_type\",\t\"mileage_pt\",\t\"vehicle_age\"]\n",
        ")\n",
        "\n",
        "# Perform the prediction using the voter model\n",
        "prediction = voter.predict(input_data)[0]\n",
        "\n",
        "print(\"Predicted Car Price:\", prediction)\n"
      ],
      "metadata": {
        "colab": {
          "base_uri": "https://localhost:8080/"
        },
        "id": "4TiViiclp_nj",
        "outputId": "bee7cebe-201b-497f-de9f-093a7bdd0068"
      },
      "id": "4TiViiclp_nj",
      "execution_count": null,
      "outputs": [
        {
          "output_type": "stream",
          "name": "stdout",
          "text": [
            "Predicted Car Price: 13196.997\n"
          ]
        }
      ]
    },
    {
      "cell_type": "markdown",
      "source": [
        "# Gradio"
      ],
      "metadata": {
        "id": "II6mlkRaEV-6"
      },
      "id": "II6mlkRaEV-6"
    },
    {
      "cell_type": "code",
      "source": [
        "import pandas as pd\n",
        "import gradio as gr\n",
        "from sklearn.preprocessing import PowerTransformer"
      ],
      "metadata": {
        "id": "I-nT4gHNqmW-"
      },
      "id": "I-nT4gHNqmW-",
      "execution_count": null,
      "outputs": []
    },
    {
      "cell_type": "code",
      "source": [
        "# Create input components for Gradio\n",
        "mileage_input = gr.inputs.Number(label=\"Mileage\")\n",
        "standard_colour_input = gr.inputs.Textbox(label=\"Standard Colour\")\n",
        "standard_make_input = gr.inputs.Textbox(label=\"Standard Make\")\n",
        "standard_model_input = gr.inputs.Textbox(label=\"Standard Model\")\n",
        "vehicle_condition_input = gr.inputs.Number(label=\"Vehicle Condition\")\n",
        "body_type_input = gr.inputs.Textbox(label=\"Body Type\")\n",
        "crossover_car_and_van_input = gr.inputs.Checkbox(label=\"Crossover Car and Van\")\n",
        "fuel_type_input = gr.inputs.Textbox(label=\"Fuel Type\")\n",
        "vehicle_age_input = gr.inputs.Number(label=\"Vehicle Age\")"
      ],
      "metadata": {
        "colab": {
          "base_uri": "https://localhost:8080/"
        },
        "id": "xAPr4W5IqdsT",
        "outputId": "ac7eacca-28b5-411d-97f0-6cf4fb629ff4"
      },
      "id": "xAPr4W5IqdsT",
      "execution_count": null,
      "outputs": [
        {
          "output_type": "stream",
          "name": "stderr",
          "text": [
            "/usr/local/lib/python3.10/dist-packages/gradio/inputs.py:59: UserWarning: Usage of gradio.inputs is deprecated, and will not be supported in the future, please import your component from gradio.components\n",
            "  warnings.warn(\n",
            "/usr/local/lib/python3.10/dist-packages/gradio/inputs.py:62: UserWarning: `optional` parameter is deprecated, and it has no effect\n",
            "  super().__init__(value=default, label=label, optional=optional)\n",
            "/usr/local/lib/python3.10/dist-packages/gradio/inputs.py:27: UserWarning: Usage of gradio.inputs is deprecated, and will not be supported in the future, please import your component from gradio.components\n",
            "  warnings.warn(\n",
            "/usr/local/lib/python3.10/dist-packages/gradio/inputs.py:30: UserWarning: `optional` parameter is deprecated, and it has no effect\n",
            "  super().__init__(\n",
            "/usr/local/lib/python3.10/dist-packages/gradio/inputs.py:30: UserWarning: `numeric` parameter is deprecated, and it has no effect\n",
            "  super().__init__(\n",
            "/usr/local/lib/python3.10/dist-packages/gradio/inputs.py:121: UserWarning: Usage of gradio.inputs is deprecated, and will not be supported in the future, please import your component from gradio.components\n",
            "  warnings.warn(\n",
            "/usr/local/lib/python3.10/dist-packages/gradio/inputs.py:124: UserWarning: `optional` parameter is deprecated, and it has no effect\n",
            "  super().__init__(value=default, label=label, optional=optional)\n"
          ]
        }
      ]
    },
    {
      "cell_type": "code",
      "source": [
        "# Initialize the power transformer\n",
        "power_transformer = PowerTransformer()"
      ],
      "metadata": {
        "id": "ddpuSHD6txRK"
      },
      "id": "ddpuSHD6txRK",
      "execution_count": null,
      "outputs": []
    },
    {
      "cell_type": "code",
      "source": [
        "# Fit the power transformer on the training data X_train\n",
        "power_transformer.fit(X_train[['mileage']])"
      ],
      "metadata": {
        "colab": {
          "base_uri": "https://localhost:8080/",
          "height": 74
        },
        "id": "fz75Qg1etrZO",
        "outputId": "f7256ab1-c210-4e55-c071-fa8526f9e4e1"
      },
      "id": "fz75Qg1etrZO",
      "execution_count": null,
      "outputs": [
        {
          "output_type": "execute_result",
          "data": {
            "text/plain": [
              "PowerTransformer()"
            ],
            "text/html": [
              "<style>#sk-container-id-15 {color: black;background-color: white;}#sk-container-id-15 pre{padding: 0;}#sk-container-id-15 div.sk-toggleable {background-color: white;}#sk-container-id-15 label.sk-toggleable__label {cursor: pointer;display: block;width: 100%;margin-bottom: 0;padding: 0.3em;box-sizing: border-box;text-align: center;}#sk-container-id-15 label.sk-toggleable__label-arrow:before {content: \"▸\";float: left;margin-right: 0.25em;color: #696969;}#sk-container-id-15 label.sk-toggleable__label-arrow:hover:before {color: black;}#sk-container-id-15 div.sk-estimator:hover label.sk-toggleable__label-arrow:before {color: black;}#sk-container-id-15 div.sk-toggleable__content {max-height: 0;max-width: 0;overflow: hidden;text-align: left;background-color: #f0f8ff;}#sk-container-id-15 div.sk-toggleable__content pre {margin: 0.2em;color: black;border-radius: 0.25em;background-color: #f0f8ff;}#sk-container-id-15 input.sk-toggleable__control:checked~div.sk-toggleable__content {max-height: 200px;max-width: 100%;overflow: auto;}#sk-container-id-15 input.sk-toggleable__control:checked~label.sk-toggleable__label-arrow:before {content: \"▾\";}#sk-container-id-15 div.sk-estimator input.sk-toggleable__control:checked~label.sk-toggleable__label {background-color: #d4ebff;}#sk-container-id-15 div.sk-label input.sk-toggleable__control:checked~label.sk-toggleable__label {background-color: #d4ebff;}#sk-container-id-15 input.sk-hidden--visually {border: 0;clip: rect(1px 1px 1px 1px);clip: rect(1px, 1px, 1px, 1px);height: 1px;margin: -1px;overflow: hidden;padding: 0;position: absolute;width: 1px;}#sk-container-id-15 div.sk-estimator {font-family: monospace;background-color: #f0f8ff;border: 1px dotted black;border-radius: 0.25em;box-sizing: border-box;margin-bottom: 0.5em;}#sk-container-id-15 div.sk-estimator:hover {background-color: #d4ebff;}#sk-container-id-15 div.sk-parallel-item::after {content: \"\";width: 100%;border-bottom: 1px solid gray;flex-grow: 1;}#sk-container-id-15 div.sk-label:hover label.sk-toggleable__label {background-color: #d4ebff;}#sk-container-id-15 div.sk-serial::before {content: \"\";position: absolute;border-left: 1px solid gray;box-sizing: border-box;top: 0;bottom: 0;left: 50%;z-index: 0;}#sk-container-id-15 div.sk-serial {display: flex;flex-direction: column;align-items: center;background-color: white;padding-right: 0.2em;padding-left: 0.2em;position: relative;}#sk-container-id-15 div.sk-item {position: relative;z-index: 1;}#sk-container-id-15 div.sk-parallel {display: flex;align-items: stretch;justify-content: center;background-color: white;position: relative;}#sk-container-id-15 div.sk-item::before, #sk-container-id-15 div.sk-parallel-item::before {content: \"\";position: absolute;border-left: 1px solid gray;box-sizing: border-box;top: 0;bottom: 0;left: 50%;z-index: -1;}#sk-container-id-15 div.sk-parallel-item {display: flex;flex-direction: column;z-index: 1;position: relative;background-color: white;}#sk-container-id-15 div.sk-parallel-item:first-child::after {align-self: flex-end;width: 50%;}#sk-container-id-15 div.sk-parallel-item:last-child::after {align-self: flex-start;width: 50%;}#sk-container-id-15 div.sk-parallel-item:only-child::after {width: 0;}#sk-container-id-15 div.sk-dashed-wrapped {border: 1px dashed gray;margin: 0 0.4em 0.5em 0.4em;box-sizing: border-box;padding-bottom: 0.4em;background-color: white;}#sk-container-id-15 div.sk-label label {font-family: monospace;font-weight: bold;display: inline-block;line-height: 1.2em;}#sk-container-id-15 div.sk-label-container {text-align: center;}#sk-container-id-15 div.sk-container {/* jupyter's `normalize.less` sets `[hidden] { display: none; }` but bootstrap.min.css set `[hidden] { display: none !important; }` so we also need the `!important` here to be able to override the default hidden behavior on the sphinx rendered scikit-learn.org. See: https://github.com/scikit-learn/scikit-learn/issues/21755 */display: inline-block !important;position: relative;}#sk-container-id-15 div.sk-text-repr-fallback {display: none;}</style><div id=\"sk-container-id-15\" class=\"sk-top-container\"><div class=\"sk-text-repr-fallback\"><pre>PowerTransformer()</pre><b>In a Jupyter environment, please rerun this cell to show the HTML representation or trust the notebook. <br />On GitHub, the HTML representation is unable to render, please try loading this page with nbviewer.org.</b></div><div class=\"sk-container\" hidden><div class=\"sk-item\"><div class=\"sk-estimator sk-toggleable\"><input class=\"sk-toggleable__control sk-hidden--visually\" id=\"sk-estimator-id-162\" type=\"checkbox\" checked><label for=\"sk-estimator-id-162\" class=\"sk-toggleable__label sk-toggleable__label-arrow\">PowerTransformer</label><div class=\"sk-toggleable__content\"><pre>PowerTransformer()</pre></div></div></div></div></div>"
            ]
          },
          "metadata": {},
          "execution_count": 111
        }
      ]
    },
    {
      "cell_type": "code",
      "source": [
        "\n",
        "\n",
        "# Create a function for car price prediction\n",
        "def predict_car_price(mileage, standard_colour, standard_make, standard_model, vehicle_condition,\n",
        "                      body_type, crossover_car_and_van, fuel_type, vehicle_age):\n",
        "    # Power transform the mileage\n",
        "    mileage_pt = power_transformer.transform([[mileage]])[0][0]\n",
        "\n",
        "    # Create a DataFrame with the input data\n",
        "    input_data = pd.DataFrame(\n",
        "        [[mileage, standard_colour, standard_make, standard_model, vehicle_condition,\n",
        "          body_type, crossover_car_and_van, fuel_type, mileage_pt, vehicle_age]],\n",
        "        columns=[\"mileage\", \"standard_colour\", \"standard_make\", \"standard_model\",\n",
        "                 \"vehicle_condition\", \"body_type\", \"crossover_car_and_van\",\n",
        "                 \"fuel_type\", \"mileage_pt\", \"vehicle_age\"]\n",
        "    )\n",
        "\n",
        "    # Perform the prediction using the voter model\n",
        "    prediction = voter.predict(input_data)[0]\n",
        "\n",
        "    return prediction\n"
      ],
      "metadata": {
        "id": "O1-H1t-4qk1N"
      },
      "id": "O1-H1t-4qk1N",
      "execution_count": null,
      "outputs": []
    },
    {
      "cell_type": "code",
      "source": [
        "\n",
        "# Combine input components into a list\n",
        "inputs = [mileage_input, standard_colour_input, standard_make_input, standard_model_input,\n",
        "          vehicle_condition_input, body_type_input, crossover_car_and_van_input,\n",
        "          fuel_type_input, vehicle_age_input]\n"
      ],
      "metadata": {
        "id": "nGdz-hv3qfw9"
      },
      "id": "nGdz-hv3qfw9",
      "execution_count": null,
      "outputs": []
    },
    {
      "cell_type": "code",
      "source": [
        "# Customize the interface with theme and styling\n",
        "iface = gr.Interface(fn=predict_car_price, inputs=inputs, outputs=\"text\", title=\"Car Price Predictor\",\n",
        "                     theme=\"huggingface\", layout=\"vertical\", description=\"Predict the price of a car\")\n"
      ],
      "metadata": {
        "colab": {
          "base_uri": "https://localhost:8080/"
        },
        "id": "zG8aADKsqhGL",
        "outputId": "eb0ec046-fbc9-4f34-a37d-14021059f6cc"
      },
      "id": "zG8aADKsqhGL",
      "execution_count": null,
      "outputs": [
        {
          "output_type": "stream",
          "name": "stderr",
          "text": [
            "/usr/local/lib/python3.10/dist-packages/gradio/blocks.py:679: UserWarning: Cannot load huggingface. Caught Exception: The space huggingface does not exist\n",
            "  warnings.warn(f\"Cannot load {theme}. Caught Exception: {str(e)}\")\n",
            "<ipython-input-119-92dd39a5874a>:2: UserWarning: `layout` parameter is deprecated, and it has no effect\n",
            "  iface = gr.Interface(fn=predict_car_price, inputs=inputs, outputs=\"text\", title=\"Car Price Predictor\",\n"
          ]
        }
      ]
    },
    {
      "cell_type": "code",
      "source": [
        "# Set custom CSS properties for styling\n",
        "css = \"\"\"\n",
        "body {\n",
        "    background-image: url(uploaded[Flowchart Template.jpg]);\n",
        "    background-size: cover;\n",
        "    background-repeat: no-repeat;\n",
        "    background-position: center center;\n",
        "}\n",
        "\n",
        ".gradio-interface {\n",
        "    background-color: rgba(255, 255, 255, 0.8);\n",
        "    border-radius: 10px;\n",
        "    padding: 20px;\n",
        "}\n",
        "\n",
        ".gradio-input-group label {\n",
        "    color: #000000;\n",
        "}\n",
        "\n",
        ".gradio-button {\n",
        "    background-color: #FF0000;\n",
        "    color: #FFFFFF;\n",
        "    border-radius: 5px;\n",
        "}\n",
        "\n",
        ".gradio-input[type=\"checkbox\"]:checked + .gradio-button {\n",
        "    background-color: #00FF00;\n",
        "}\n",
        "\"\"\""
      ],
      "metadata": {
        "id": "E0r-FuZkvrph"
      },
      "id": "E0r-FuZkvrph",
      "execution_count": null,
      "outputs": []
    },
    {
      "cell_type": "code",
      "source": [
        "iface = gr.Interface(fn=predict_car_price, inputs=inputs, outputs=\"text\",output_title=\"Predicted Data\" , title=\"Car Price Predictor\",flag=False,\n",
        "                      description=\"Predict the price of a car based on various features such as mileage, make, model, vehicle condition, and more. Get accurate predictions for car prices using our advanced machine learning model.\",\n",
        "                      allow_flagging=\"never\")"
      ],
      "metadata": {
        "id": "k3_mYu4gwzRp",
        "colab": {
          "base_uri": "https://localhost:8080/"
        },
        "outputId": "7b9c7e17-9a6d-4297-a46f-5a64a52f5064"
      },
      "id": "k3_mYu4gwzRp",
      "execution_count": null,
      "outputs": [
        {
          "output_type": "stream",
          "name": "stderr",
          "text": [
            "<ipython-input-151-1001cd506063>:1: UserWarning: You have unused kwarg parameters in Interface, please remove them: {'output_title': 'Predicted Data', 'flag': False}\n",
            "  iface = gr.Interface(fn=predict_car_price, inputs=inputs, outputs=\"text\",output_title=\"Predicted Data\" , title=\"Car Price Predictor\",flag=False,\n"
          ]
        }
      ]
    },
    {
      "cell_type": "code",
      "source": [
        "# Launch the interface\n",
        "iface.launch()"
      ],
      "metadata": {
        "colab": {
          "base_uri": "https://localhost:8080/",
          "height": 616
        },
        "id": "t-BMyvzLqiYd",
        "outputId": "02038c3f-e583-4c84-81c2-aae74c5cced8"
      },
      "id": "t-BMyvzLqiYd",
      "execution_count": null,
      "outputs": [
        {
          "output_type": "stream",
          "name": "stdout",
          "text": [
            "Colab notebook detected. To show errors in colab notebook, set debug=True in launch()\n",
            "Note: opening Chrome Inspector may crash demo inside Colab notebooks.\n",
            "\n",
            "To create a public link, set `share=True` in `launch()`.\n"
          ]
        },
        {
          "output_type": "display_data",
          "data": {
            "text/plain": [
              "<IPython.core.display.Javascript object>"
            ],
            "application/javascript": [
              "(async (port, path, width, height, cache, element) => {\n",
              "                        if (!google.colab.kernel.accessAllowed && !cache) {\n",
              "                            return;\n",
              "                        }\n",
              "                        element.appendChild(document.createTextNode(''));\n",
              "                        const url = await google.colab.kernel.proxyPort(port, {cache});\n",
              "\n",
              "                        const external_link = document.createElement('div');\n",
              "                        external_link.innerHTML = `\n",
              "                            <div style=\"font-family: monospace; margin-bottom: 0.5rem\">\n",
              "                                Running on <a href=${new URL(path, url).toString()} target=\"_blank\">\n",
              "                                    https://localhost:${port}${path}\n",
              "                                </a>\n",
              "                            </div>\n",
              "                        `;\n",
              "                        element.appendChild(external_link);\n",
              "\n",
              "                        const iframe = document.createElement('iframe');\n",
              "                        iframe.src = new URL(path, url).toString();\n",
              "                        iframe.height = height;\n",
              "                        iframe.allow = \"autoplay; camera; microphone; clipboard-read; clipboard-write;\"\n",
              "                        iframe.width = width;\n",
              "                        iframe.style.border = 0;\n",
              "                        element.appendChild(iframe);\n",
              "                    })(7869, \"/\", \"100%\", 500, false, window.element)"
            ]
          },
          "metadata": {}
        },
        {
          "output_type": "execute_result",
          "data": {
            "text/plain": []
          },
          "metadata": {},
          "execution_count": 152
        }
      ]
    }
  ],
  "metadata": {
    "colab": {
      "provenance": [],
      "toc_visible": true
    },
    "kernelspec": {
      "display_name": "Python 3 (ipykernel)",
      "language": "python",
      "name": "python3"
    },
    "language_info": {
      "codemirror_mode": {
        "name": "ipython",
        "version": 3
      },
      "file_extension": ".py",
      "mimetype": "text/x-python",
      "name": "python",
      "nbconvert_exporter": "python",
      "pygments_lexer": "ipython3",
      "version": "3.9.13"
    }
  },
  "nbformat": 4,
  "nbformat_minor": 5
}